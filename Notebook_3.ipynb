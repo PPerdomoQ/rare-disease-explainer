{
 "cells": [
  {
   "cell_type": "markdown",
   "metadata": {
    "id": "VTruOejiw2B-"
   },
   "source": [
    "### **Import Libraries**"
   ]
  },
  {
   "cell_type": "markdown",
   "metadata": {},
   "source": [
    "We start by importing the libraries:"
   ]
  },
  {
   "cell_type": "code",
   "execution_count": 1,
   "metadata": {
    "id": "HchNOtFMKJ3a"
   },
   "outputs": [],
   "source": [
    "import pandas as pd\n",
    "import torch\n",
    "import torch.nn as nn\n",
    "import torch.nn.functional as F\n",
    "import itertools\n",
    "import numpy as np\n",
    "import scipy.sparse as sp\n",
    "import sklearn.metrics as metrics\n",
    "from edge2vec3 import *\n",
    "from transition3 import *\n",
    "from ray.tune.schedulers import ASHAScheduler\n",
    "from ray import tune\n",
    "import copy\n",
    "import networkx as nx\n",
    "import matplotlib.pyplot as plt\n",
    "from deepsnap.graph import Graph\n",
    "from deepsnap.batch import Batch\n",
    "from deepsnap.dataset import GraphDataset\n",
    "from sklearn.metrics import roc_auc_score\n",
    "from torch.utils.data import DataLoader\n",
    "from torch_geometric.nn import SAGEConv\n",
    "from sklearn.metrics import classification_report\n",
    "import pickle"
   ]
  },
  {
   "cell_type": "markdown",
   "metadata": {
    "id": "50Ta45anXczR"
   },
   "source": [
    "### **Load Data**"
   ]
  },
  {
   "cell_type": "markdown",
   "metadata": {},
   "source": [
    "Decide which graph should be loaded. v1 corresponds to the small graph and v2 to the large graph."
   ]
  },
  {
   "cell_type": "code",
   "execution_count": 371,
   "metadata": {
    "id": "pBR-_43FLbFa"
   },
   "outputs": [],
   "source": [
    "rel1 = pd.read_csv('Graph2/graph_edges_v2022-01-11.csv', header=0) #Monarch edges v1\n",
    "rel2 = pd.read_csv('Graph2/drug.target.final (1).csv', header=0) # TTD edges v1\n",
    "rel3 = pd.read_csv('Graph2/drug_to_disease_final (1).csv', header=0) # DrugCentral Edges v1\n",
    "\n",
    "# rel1 = pd.read_csv('Graph3/monarch_edges_v2022-05-19.csv', header=0) #Monarch edges v2\n",
    "# rel2 = pd.read_csv('Graph3/drug.target.final_v2.csv', header=0) # TTD edges v2\n",
    "# rel3 = pd.read_csv('Graph3/drug_to_disease_final_v2.csv', header=0) # DrugCentral Edges v2"
   ]
  },
  {
   "cell_type": "markdown",
   "metadata": {},
   "source": [
    "Put information from each data source in a single Dataframe."
   ]
  },
  {
   "cell_type": "code",
   "execution_count": 372,
   "metadata": {
    "id": "BV1Hi1b4L07B"
   },
   "outputs": [],
   "source": [
    "rel1 = rel1[['subject_id', 'property_label', 'object_id']]\n",
    "rel1.rename(columns = {'subject_id':'head', 'property_label':'relationship',\n",
    "                              'object_id':'tail'}, inplace = True)\n",
    "\n",
    "rel2 = rel2[['STRUCT_ID', 'NEW_ID']]\n",
    "rel2['relationship'] = 'targets'\n",
    "rel2.rename(columns = {'STRUCT_ID':'head', \n",
    "                              'NEW_ID':'tail'}, inplace = True)\n",
    "\n",
    "rel3 = rel3[['DRUG_ID', 'ID']]\n",
    "rel3['relationship'] = 'is substance that treats'\n",
    "rel3.rename(columns = {'DRUG_ID':'head', \n",
    "                              'ID':'tail'}, inplace = True)\n",
    "\n"
   ]
  },
  {
   "cell_type": "code",
   "execution_count": 373,
   "metadata": {
    "id": "GacAoefZMSX3"
   },
   "outputs": [],
   "source": [
    "result = pd.concat([rel1, rel2, rel3])"
   ]
  },
  {
   "cell_type": "markdown",
   "metadata": {},
   "source": [
    "Once again, select which graph (nodes) should be loaded. V1 corresponds to the small graph and V2 corresponds to the large graph."
   ]
  },
  {
   "cell_type": "code",
   "execution_count": 374,
   "metadata": {
    "id": "Z0zmFa58MX9u"
   },
   "outputs": [],
   "source": [
    "nod1 = pd.read_csv('Graph2/graph_nodes_v2022-01-11.csv', header=0) #Monarch nodes v1\n",
    "nod2 = pd.read_csv('Graph2/drug_nodes.csv', header=0) #DrugCentral Nodes v1\n",
    "\n",
    "# nod1 = pd.read_csv('Graph3/monarch_nodes_v2022-05-19.csv', header=0) #Monarch nodes v2\n",
    "# nod2 = pd.read_csv('Graph3/drug_nodes_v2.csv', header=0) #DrugCentral Nodes v2"
   ]
  },
  {
   "cell_type": "markdown",
   "metadata": {},
   "source": [
    "In the next cells, information is preprocessed and put together. "
   ]
  },
  {
   "cell_type": "code",
   "execution_count": 375,
   "metadata": {
    "id": "6UATCk4GMhDT"
   },
   "outputs": [],
   "source": [
    "nod1 = nod1[['id', 'semantic_groups', 'preflabel']]\n",
    "nod2['semantic_groups'] = 'DRUG'\n",
    "nod2 = nod2[['STRUCT_ID','semantic_groups', 'DRUG_NAME']]\n",
    "nod2.rename(columns = {'STRUCT_ID':'id', 'DRUG_NAME': 'preflabel'}, inplace = True)"
   ]
  },
  {
   "cell_type": "code",
   "execution_count": 376,
   "metadata": {
    "id": "vBJEaV7uMqHz"
   },
   "outputs": [],
   "source": [
    "nodes = pd.concat([nod1, nod2], ignore_index=True)"
   ]
  },
  {
   "cell_type": "code",
   "execution_count": 377,
   "metadata": {
    "id": "A-plCpd24ebh"
   },
   "outputs": [],
   "source": [
    "nodes['semantic_id'] = nodes.semantic_groups.astype('category').cat.codes"
   ]
  },
  {
   "cell_type": "code",
   "execution_count": 378,
   "metadata": {
    "id": "x2RNDmadMtXT"
   },
   "outputs": [],
   "source": [
    "df = pd.merge(result, \n",
    "                  nodes,\n",
    "                  left_on='head',\n",
    "                  right_on='id',\n",
    "                  how='left')"
   ]
  },
  {
   "cell_type": "code",
   "execution_count": 379,
   "metadata": {
    "id": "8kZaA4dVM0JH"
   },
   "outputs": [],
   "source": [
    "df = df.drop('id', axis = 1)\n",
    "df.rename(columns = {'semantic_groups':'class_head'}, inplace = True)"
   ]
  },
  {
   "cell_type": "code",
   "execution_count": 380,
   "metadata": {
    "id": "i2NSMsBLM8q8"
   },
   "outputs": [],
   "source": [
    "df = pd.merge(df, \n",
    "                  nodes,\n",
    "                  left_on='tail',\n",
    "                  right_on='id',\n",
    "                  how='left')"
   ]
  },
  {
   "cell_type": "code",
   "execution_count": 381,
   "metadata": {
    "id": "5AulqurLM_Ie"
   },
   "outputs": [],
   "source": [
    "df = df.drop('id', axis = 1)\n",
    "df.rename(columns = {'semantic_groups':'class_tail'}, inplace = True)"
   ]
  },
  {
   "cell_type": "markdown",
   "metadata": {},
   "source": [
    "Now a unique index is given to every node. This might take a couple of minutes in the case of the small graph and a couple of hours in the case of the large graph. We recommend saving the resulted dataframe once it is finished."
   ]
  },
  {
   "cell_type": "code",
   "execution_count": 382,
   "metadata": {
    "colab": {
     "base_uri": "https://localhost:8080/"
    },
    "id": "vMg9t5DCL9gd",
    "outputId": "b8115352-96dc-424b-92ec-493a4c0e4249"
   },
   "outputs": [
    {
     "name": "stdout",
     "output_type": "stream",
     "text": [
      "0 iteration completed\n",
      "50000 iteration completed\n"
     ]
    }
   ],
   "source": [
    "index_head = []\n",
    "index_tail = []\n",
    "for ind, row in df.iterrows(): \n",
    "  if ind%50000 == 0: \n",
    "    print('{} iteration completed'.format(ind))\n",
    "    \n",
    "  ind_head = nodes[nodes['id'] == row['head']].index #change nodes to new_nodes for individual class index\n",
    "  ind_tail = nodes[nodes['id'] == row['tail']].index #change nodes to new_nodes for individual class index\n",
    "  index_head.append(int(ind_head[0]))\n",
    "  index_tail.append(int(ind_tail[0]))\n",
    "df['index_head'] = index_head\n",
    "df['index_tail'] = index_tail"
   ]
  },
  {
   "cell_type": "markdown",
   "metadata": {},
   "source": [
    "Run the next frame to save the progress."
   ]
  },
  {
   "cell_type": "code",
   "execution_count": 364,
   "metadata": {},
   "outputs": [],
   "source": [
    "#df = pd.read_csv('edges.csv', header=0, index_col = 0)"
   ]
  },
  {
   "cell_type": "markdown",
   "metadata": {
    "id": "bRhCAuD9Kggz"
   },
   "source": [
    "### **Prepare E2V data**"
   ]
  },
  {
   "cell_type": "markdown",
   "metadata": {},
   "source": [
    "Data will now be prepared to perform the Edge2Vec algorithm."
   ]
  },
  {
   "cell_type": "code",
   "execution_count": 278,
   "metadata": {
    "id": "DV88hf4SKfGK"
   },
   "outputs": [],
   "source": [
    "df['type'] = pd.factorize(df['relationship'], na_sentinel= len(set(pd.factorize( df['relationship'] )[0]))-1)[0]"
   ]
  },
  {
   "cell_type": "code",
   "execution_count": 279,
   "metadata": {
    "id": "_hvIbBibKqwt"
   },
   "outputs": [],
   "source": [
    "edge2vec_df = df.drop(['head',\t'relationship',\t'tail',\t'class_head',\t'class_tail'], axis = 1)"
   ]
  },
  {
   "cell_type": "code",
   "execution_count": 280,
   "metadata": {
    "id": "DR7g1libQkfh"
   },
   "outputs": [],
   "source": [
    "edge2vec_df['index_head'] = edge2vec_df['index_head'].apply(str)\n",
    "edge2vec_df['index_tail'] = edge2vec_df['index_tail'].apply(str)"
   ]
  },
  {
   "cell_type": "code",
   "execution_count": 281,
   "metadata": {
    "id": "B8PV9wm-RJ27"
   },
   "outputs": [],
   "source": [
    "G = nx.from_pandas_edgelist(edge2vec_df, 'index_head', 'index_tail', 'type', create_using= nx.DiGraph(), edge_key = (('type',int),('id',int)))\n",
    "G = G.to_undirected()\n",
    "for edge in G.edges():\n",
    "  G[edge[0]][edge[1]]['weight'] = 1.0"
   ]
  },
  {
   "cell_type": "code",
   "execution_count": 282,
   "metadata": {
    "colab": {
     "base_uri": "https://localhost:8080/"
    },
    "id": "UQ3cEcx2PZNN",
    "outputId": "f65c801f-d618-40e1-e6b1-8c337d174455"
   },
   "outputs": [
    {
     "name": "stdout",
     "output_type": "stream",
     "text": [
      "('0', {})\n",
      "('0', '1', {'type': 0, 'weight': 1.0})\n",
      "Number of edges is 58435\n",
      "Number of nodes is 10786\n"
     ]
    }
   ],
   "source": [
    "for node in G.nodes(data=True):\n",
    "    print(node)\n",
    "    break\n",
    "for edge in G.edges(data=True):\n",
    "    print(edge)\n",
    "    break\n",
    "print(\"Number of edges is {}\".format(G.number_of_edges()))\n",
    "print(\"Number of nodes is {}\".format(G.number_of_nodes()))"
   ]
  },
  {
   "cell_type": "code",
   "execution_count": 298,
   "metadata": {
    "colab": {
     "base_uri": "https://localhost:8080/",
     "height": 468
    },
    "id": "X2htKyDFzlQx",
    "outputId": "ec685ceb-e40a-40ed-f3a2-5db4a5daa452"
   },
   "outputs": [
    {
     "data": {
      "text/html": [
       "<div>\n",
       "<style scoped>\n",
       "    .dataframe tbody tr th:only-of-type {\n",
       "        vertical-align: middle;\n",
       "    }\n",
       "\n",
       "    .dataframe tbody tr th {\n",
       "        vertical-align: top;\n",
       "    }\n",
       "\n",
       "    .dataframe thead th {\n",
       "        text-align: right;\n",
       "    }\n",
       "</style>\n",
       "<table border=\"1\" class=\"dataframe\">\n",
       "  <thead>\n",
       "    <tr style=\"text-align: right;\">\n",
       "      <th></th>\n",
       "      <th>preflabel_x</th>\n",
       "      <th>semantic_id_x</th>\n",
       "      <th>preflabel_y</th>\n",
       "      <th>semantic_id_y</th>\n",
       "      <th>index_head</th>\n",
       "      <th>index_tail</th>\n",
       "      <th>type</th>\n",
       "    </tr>\n",
       "  </thead>\n",
       "  <tbody>\n",
       "    <tr>\n",
       "      <th>0</th>\n",
       "      <td>act-2</td>\n",
       "      <td>5</td>\n",
       "      <td>mitochondria alignment variant</td>\n",
       "      <td>1</td>\n",
       "      <td>0</td>\n",
       "      <td>1</td>\n",
       "      <td>0</td>\n",
       "    </tr>\n",
       "    <tr>\n",
       "      <th>1</th>\n",
       "      <td>VCL</td>\n",
       "      <td>3</td>\n",
       "      <td>SRC</td>\n",
       "      <td>3</td>\n",
       "      <td>2</td>\n",
       "      <td>3</td>\n",
       "      <td>1</td>\n",
       "    </tr>\n",
       "    <tr>\n",
       "      <th>2</th>\n",
       "      <td>SPTB</td>\n",
       "      <td>3</td>\n",
       "      <td>Congenital hemolytic anemia</td>\n",
       "      <td>1</td>\n",
       "      <td>4</td>\n",
       "      <td>5</td>\n",
       "      <td>0</td>\n",
       "    </tr>\n",
       "    <tr>\n",
       "      <th>3</th>\n",
       "      <td>mlc-4</td>\n",
       "      <td>5</td>\n",
       "      <td>Mlc2</td>\n",
       "      <td>5</td>\n",
       "      <td>6</td>\n",
       "      <td>7</td>\n",
       "      <td>2</td>\n",
       "    </tr>\n",
       "    <tr>\n",
       "      <th>4</th>\n",
       "      <td>MYBPC1</td>\n",
       "      <td>3</td>\n",
       "      <td>MYL4</td>\n",
       "      <td>3</td>\n",
       "      <td>8</td>\n",
       "      <td>9</td>\n",
       "      <td>1</td>\n",
       "    </tr>\n",
       "    <tr>\n",
       "      <th>...</th>\n",
       "      <td>...</td>\n",
       "      <td>...</td>\n",
       "      <td>...</td>\n",
       "      <td>...</td>\n",
       "      <td>...</td>\n",
       "      <td>...</td>\n",
       "      <td>...</td>\n",
       "    </tr>\n",
       "    <tr>\n",
       "      <th>93900</th>\n",
       "      <td>diphenidol</td>\n",
       "      <td>2</td>\n",
       "      <td>Nausea</td>\n",
       "      <td>1</td>\n",
       "      <td>10485</td>\n",
       "      <td>3166</td>\n",
       "      <td>18</td>\n",
       "    </tr>\n",
       "    <tr>\n",
       "      <th>93901</th>\n",
       "      <td>felodipine</td>\n",
       "      <td>2</td>\n",
       "      <td>Hypertension</td>\n",
       "      <td>1</td>\n",
       "      <td>10566</td>\n",
       "      <td>5024</td>\n",
       "      <td>18</td>\n",
       "    </tr>\n",
       "    <tr>\n",
       "      <th>93902</th>\n",
       "      <td>thiethylperazine</td>\n",
       "      <td>2</td>\n",
       "      <td>Nausea</td>\n",
       "      <td>1</td>\n",
       "      <td>10684</td>\n",
       "      <td>3166</td>\n",
       "      <td>18</td>\n",
       "    </tr>\n",
       "    <tr>\n",
       "      <th>93903</th>\n",
       "      <td>benzbromarone</td>\n",
       "      <td>2</td>\n",
       "      <td>Gout</td>\n",
       "      <td>1</td>\n",
       "      <td>10486</td>\n",
       "      <td>5835</td>\n",
       "      <td>18</td>\n",
       "    </tr>\n",
       "    <tr>\n",
       "      <th>93904</th>\n",
       "      <td>isradipine</td>\n",
       "      <td>2</td>\n",
       "      <td>Hypertension</td>\n",
       "      <td>1</td>\n",
       "      <td>10585</td>\n",
       "      <td>5024</td>\n",
       "      <td>18</td>\n",
       "    </tr>\n",
       "  </tbody>\n",
       "</table>\n",
       "<p>93905 rows × 7 columns</p>\n",
       "</div>"
      ],
      "text/plain": [
       "            preflabel_x  semantic_id_x                     preflabel_y  \\\n",
       "0                 act-2              5  mitochondria alignment variant   \n",
       "1                   VCL              3                             SRC   \n",
       "2                  SPTB              3     Congenital hemolytic anemia   \n",
       "3                 mlc-4              5                            Mlc2   \n",
       "4                MYBPC1              3                            MYL4   \n",
       "...                 ...            ...                             ...   \n",
       "93900        diphenidol              2                          Nausea   \n",
       "93901        felodipine              2                    Hypertension   \n",
       "93902  thiethylperazine              2                          Nausea   \n",
       "93903     benzbromarone              2                            Gout   \n",
       "93904        isradipine              2                    Hypertension   \n",
       "\n",
       "       semantic_id_y index_head index_tail  type  \n",
       "0                  1          0          1     0  \n",
       "1                  3          2          3     1  \n",
       "2                  1          4          5     0  \n",
       "3                  5          6          7     2  \n",
       "4                  3          8          9     1  \n",
       "...              ...        ...        ...   ...  \n",
       "93900              1      10485       3166    18  \n",
       "93901              1      10566       5024    18  \n",
       "93902              1      10684       3166    18  \n",
       "93903              1      10486       5835    18  \n",
       "93904              1      10585       5024    18  \n",
       "\n",
       "[93905 rows x 7 columns]"
      ]
     },
     "execution_count": 298,
     "metadata": {},
     "output_type": "execute_result"
    }
   ],
   "source": [
    "edge2vec_df"
   ]
  },
  {
   "cell_type": "markdown",
   "metadata": {
    "id": "NMKNiCe_lz5M"
   },
   "source": [
    "### **DeepSnap**"
   ]
  },
  {
   "cell_type": "markdown",
   "metadata": {},
   "source": [
    "Functions that will create our model are loaded:"
   ]
  },
  {
   "cell_type": "code",
   "execution_count": 284,
   "metadata": {
    "id": "Z6oogc26l2y1"
   },
   "outputs": [],
   "source": [
    "class LinkPredModel(torch.nn.Module):\n",
    "    def __init__(self, input_size, hidden_size, out_size, num_layers, aggr, dropout):\n",
    "        super(LinkPredModel, self).__init__()\n",
    "\n",
    "        self.convs = torch.nn.ModuleList()\n",
    "        self.bns = torch.nn.ModuleList()\n",
    "        self.convs.append(SAGEConv(input_size, hidden_size, normalize=True, aggr=aggr))\n",
    "        self.bns.append(nn.BatchNorm1d(hidden_size))\n",
    "        for _ in range(num_layers - 2):\n",
    "            self.convs.append(SAGEConv(hidden_size, hidden_size, normalize=True, aggr=aggr))\n",
    "            self.bns.append(nn.BatchNorm1d(hidden_size))\n",
    "        self.convs.append(SAGEConv(hidden_size, out_size, normalize=True, aggr=aggr))\n",
    "        self.bns.append(nn.BatchNorm1d(out_size))\n",
    "\n",
    "        self.dropout = dropout\n",
    "        self.loss_fn = torch.nn.BCEWithLogitsLoss()\n",
    "\n",
    "\n",
    "    def forward(self, x, edge_index, edge_label_index, training = True):\n",
    "\n",
    "        for i in range(len(self.convs) - 1):\n",
    "          x = self.convs[i](x, edge_index)\n",
    "          x = self.bns[i](x)\n",
    "          x = F.leaky_relu(x)\n",
    "          x = F.dropout(x, p=self.dropout, training=training)\n",
    "        \n",
    "        x = self.convs[-1](x, edge_index)  \n",
    "        x = self.bns[-1](x)\n",
    "\n",
    "        nodes_first = torch.index_select(x, 0, edge_label_index[0,:].long())\n",
    "        nodes_second = torch.index_select(x, 0, edge_label_index[1,:].long())\n",
    "        pred = torch.sum(nodes_first * nodes_second, dim=-1)\n",
    "        return pred, x\n",
    "    \n",
    "    def loss(self, pred, label):\n",
    "        return self.loss_fn(pred, label)"
   ]
  },
  {
   "cell_type": "code",
   "execution_count": 285,
   "metadata": {
    "id": "XkuXHtmZl5Bl"
   },
   "outputs": [],
   "source": [
    "def train(model, dataloaders, optimizer, args, ho = False, monitorate = False):\n",
    "    val_max = 0\n",
    "    best_model = model\n",
    "    best_x = None\n",
    "    train_per = []\n",
    "    val_per = []\n",
    "    test_per = []\n",
    "    loss_per = []\n",
    "    \n",
    "    print('Start Train Function')\n",
    "    for epoch in range(1, args[\"epochs\"]):\n",
    "        for i, batch in enumerate(dataloaders['train']):\n",
    "            feat, edge_index, edge_label_index = batch.node_feature, batch.edge_index, batch.edge_label_index\n",
    "            #print('Starting Loop')\n",
    "            batch.to(args[\"device\"])\n",
    "            #print('Model Train')\n",
    "            model.train()\n",
    "            #print('Optimizing')\n",
    "            optimizer.zero_grad()\n",
    "            #print('Predicting')\n",
    "            #print(batch)\n",
    "            pred, x = model(feat, edge_index, edge_label_index)\n",
    "            #print('Loss')\n",
    "            loss = model.loss(pred, batch.edge_label.type(pred.dtype))\n",
    "\n",
    "            loss.backward()\n",
    "            optimizer.step()\n",
    "\n",
    "            log = 'Epoch: {:03d}, Train: {:.4f}, Val: {:.4f}, Test: {:.4f}, Loss: {:.5f}'\n",
    "            score_train = test(model, dataloaders['train'], args)\n",
    "            score_val = test(model, dataloaders['val'], args)\n",
    "            score_test = test(model, dataloaders['test'], args)\n",
    "            \n",
    "            \n",
    "\n",
    "            print(log.format(epoch, score_train, score_val, score_test, loss.item()))\n",
    "            if val_max < score_val:\n",
    "                val_max = score_val\n",
    "                best_model = copy.deepcopy(model)\n",
    "                best_x = x\n",
    "            if ho: \n",
    "                tune.report(val_auc=score_val, train_auc = score_train, test_auc = score_test )\n",
    "            \n",
    "            loss_per.append(loss.detach().numpy())\n",
    "            train_per.append(score_train)\n",
    "            val_per.append(score_val)\n",
    "            test_per.append(score_test)\n",
    "            \n",
    "            \n",
    "    return best_model, best_x, [loss_per, train_per, val_per, test_per]\n",
    "\n",
    "def test(model, dataloader, args):\n",
    "    model.eval()\n",
    "    score = 0\n",
    "    num_batches = 0\n",
    "    for batch in dataloader:\n",
    "        feat, edge_index, edge_label_index = batch.node_feature, batch.edge_index, batch.edge_label_index\n",
    "        batch.to(args[\"device\"])\n",
    "        pred, x = model(feat, edge_index, edge_label_index, training = False)\n",
    "        pred = torch.sigmoid(pred)\n",
    "        score += roc_auc_score(batch.edge_label.flatten().cpu().numpy(), pred.flatten().data.cpu().numpy())\n",
    "        num_batches += 1\n",
    "    score /= num_batches \n",
    "    return score"
   ]
  },
  {
   "cell_type": "markdown",
   "metadata": {
    "id": "b2q_5eFxBTsx"
   },
   "source": [
    "### **Train Single Model**"
   ]
  },
  {
   "cell_type": "markdown",
   "metadata": {},
   "source": [
    "In the following section a single model will be trained. If you would like to perform a hyperparameter optimization, please go to the Hyperparameter Optimization section. If you would like to use an already trained model, please go to section Prediction."
   ]
  },
  {
   "cell_type": "markdown",
   "metadata": {
    "id": "_Mb_dXGbJ4Qg"
   },
   "source": [
    "#### **E2V**"
   ]
  },
  {
   "cell_type": "markdown",
   "metadata": {},
   "source": [
    "In this first part the Edge2Vec Algorithm will be run to obtain node features"
   ]
  },
  {
   "cell_type": "code",
   "execution_count": 286,
   "metadata": {
    "colab": {
     "base_uri": "https://localhost:8080/"
    },
    "id": "GpJUSVbkJ7eH",
    "outputId": "4b7d3575-0b54-4c3a-8e50-4a8a44039866",
    "scrolled": true
   },
   "outputs": [
    {
     "name": "stdout",
     "output_type": "stream",
     "text": [
      "begin to initialize transition matrix\n",
      "------begin to simulate walk---------\n",
      "Walk iteration:\n",
      "1 / 2\n",
      "2 / 2\n",
      "0 th iteration for Upating transition matrix!\n"
     ]
    },
    {
     "name": "stderr",
     "output_type": "stream",
     "text": [
      "/software/anaconda3/lib/python3.7/site-packages/scipy/stats/morestats.py:3155: UserWarning: Sample size too small for normal approximation.\n",
      "  warnings.warn(\"Sample size too small for normal approximation.\")\n"
     ]
    },
    {
     "name": "stdout",
     "output_type": "stream",
     "text": [
      "Walk iteration:\n",
      "1 / 2\n",
      "2 / 2\n",
      "1 th iteration for Upating transition matrix!\n",
      "Walk iteration:\n",
      "1 / 2\n",
      "2 / 2\n",
      "2 th iteration for Upating transition matrix!\n",
      "Walk iteration:\n",
      "1 / 2\n",
      "2 / 2\n",
      "3 th iteration for Upating transition matrix!\n",
      "Walk iteration:\n",
      "1 / 2\n",
      "2 / 2\n",
      "4 th iteration for Upating transition matrix!\n",
      "Walk iteration:\n",
      "1 / 2\n",
      "2 / 2\n",
      "5 th iteration for Upating transition matrix!\n",
      "Walk iteration:\n",
      "1 / 2\n",
      "2 / 2\n",
      "6 th iteration for Upating transition matrix!\n",
      "Walk iteration:\n",
      "1 / 2\n",
      "2 / 2\n",
      "7 th iteration for Upating transition matrix!\n",
      "Walk iteration:\n",
      "1 / 2\n",
      "2 / 2\n",
      "8 th iteration for Upating transition matrix!\n",
      "Walk iteration:\n",
      "1 / 2\n",
      "2 / 2\n",
      "9 th iteration for Upating transition matrix!\n",
      "------finish!---------\n"
     ]
    }
   ],
   "source": [
    "type_size = len(set(df['relationship']))\n",
    "epoch = 10 #number of epochs\n",
    "num_walks = 2 #number of walks\n",
    "walk_length = 7 #length of the walks\n",
    "directed = True\n",
    "p = 0.7 #p parameter: probability of returning to the previous node\n",
    "q = 1 #q parameter: parameter that switches between depth first search and breadth first search\n",
    "e_step = 3\n",
    "\n",
    "print(\"begin to initialize transition matrix\")\n",
    "trans_matrix = initialize_edge_type_matrix(type_size)\n",
    "#print(trans_matrix)\n",
    "print(\"------begin to simulate walk---------\")\n",
    "for i in range(epoch):\n",
    "    walks = simulate_walks_1(G,num_walks, walk_length,trans_matrix,directed,p,q)#M step\n",
    "    #print(len(walks))\n",
    "    print(str(i), \"th iteration for Upating transition matrix!\")\n",
    "    trans_matrix = update_trans_matrix(walks,type_size,e_step)#E step\n",
    "    #print(\"trans_matrix: \",trans_matrix)\n",
    "# print walks \n",
    "print(\"------finish!---------\")"
   ]
  },
  {
   "cell_type": "code",
   "execution_count": 287,
   "metadata": {
    "colab": {
     "base_uri": "https://localhost:8080/"
    },
    "id": "jK6-LIlvZSqu",
    "outputId": "ec77cb43-d986-4b5f-940c-bc7ac4712dfa"
   },
   "outputs": [
    {
     "name": "stdout",
     "output_type": "stream",
     "text": [
      "------begin to simulate walk---------\n",
      "Walk iteration:\n",
      "1 / 2\n",
      "2 / 2\n"
     ]
    }
   ],
   "source": [
    "dimensions = 64 #Dimension of the output/node embedding\n",
    "window_size = walk_length - 1\n",
    "workers = 8\n",
    "epochs = 10 #Number of Epochs\n",
    "print(\"------begin to simulate walk---------\")\n",
    "walks = simulate_walks_2(G,num_walks, walk_length,trans_matrix,directed,p,q) \n",
    "#print(len(walks))\n",
    "w2v_model = Word2Vec(walks, vector_size=dimensions, window=window_size, min_count=0, sg=1, workers=workers, epochs=epochs)"
   ]
  },
  {
   "cell_type": "markdown",
   "metadata": {},
   "source": [
    "Run the following cell to save the node embeddings:"
   ]
  },
  {
   "cell_type": "code",
   "execution_count": 288,
   "metadata": {},
   "outputs": [],
   "source": [
    "# word_vectors = w2v_model.wv\n",
    "# word_vectors.save(\"./models/w2v_big_undirected.dvectors\")"
   ]
  },
  {
   "cell_type": "markdown",
   "metadata": {},
   "source": [
    "Node Embeddings are saved in a dataframe that will be later used to complete the graph"
   ]
  },
  {
   "cell_type": "code",
   "execution_count": 289,
   "metadata": {
    "id": "vMlfqdYXi3FI"
   },
   "outputs": [],
   "source": [
    "e2v_embedding = pd.DataFrame(columns = ['Node', 'Embedding'])\n",
    "for idx, key in enumerate(w2v_model.wv.index_to_key):\n",
    "    e2v_embedding.loc[int(key)] = pd.Series({'Node':int(key), 'Embedding':list(w2v_model.wv[key])})"
   ]
  },
  {
   "cell_type": "code",
   "execution_count": 290,
   "metadata": {
    "id": "Rb0rpP-Nia7C"
   },
   "outputs": [],
   "source": [
    "e2v_embedding = e2v_embedding.sort_values('Node')"
   ]
  },
  {
   "cell_type": "code",
   "execution_count": 291,
   "metadata": {
    "colab": {
     "base_uri": "https://localhost:8080/",
     "height": 424
    },
    "id": "amJ7NglMyp4-",
    "outputId": "fc9b6e02-8dfa-4807-b620-f2229137b63e"
   },
   "outputs": [
    {
     "data": {
      "text/html": [
       "<div>\n",
       "<style scoped>\n",
       "    .dataframe tbody tr th:only-of-type {\n",
       "        vertical-align: middle;\n",
       "    }\n",
       "\n",
       "    .dataframe tbody tr th {\n",
       "        vertical-align: top;\n",
       "    }\n",
       "\n",
       "    .dataframe thead th {\n",
       "        text-align: right;\n",
       "    }\n",
       "</style>\n",
       "<table border=\"1\" class=\"dataframe\">\n",
       "  <thead>\n",
       "    <tr style=\"text-align: right;\">\n",
       "      <th></th>\n",
       "      <th>Node</th>\n",
       "      <th>Embedding</th>\n",
       "    </tr>\n",
       "  </thead>\n",
       "  <tbody>\n",
       "    <tr>\n",
       "      <th>0</th>\n",
       "      <td>0</td>\n",
       "      <td>[0.6923964, -0.005318775, 0.26251858, -0.33620...</td>\n",
       "    </tr>\n",
       "    <tr>\n",
       "      <th>1</th>\n",
       "      <td>1</td>\n",
       "      <td>[0.26538694, 0.083522975, 0.25147027, -0.38335...</td>\n",
       "    </tr>\n",
       "    <tr>\n",
       "      <th>2</th>\n",
       "      <td>2</td>\n",
       "      <td>[0.4830782, 0.078672834, 0.38547346, 0.1289763...</td>\n",
       "    </tr>\n",
       "    <tr>\n",
       "      <th>3</th>\n",
       "      <td>3</td>\n",
       "      <td>[0.5926419, -0.67945397, -0.18712454, 0.217979...</td>\n",
       "    </tr>\n",
       "    <tr>\n",
       "      <th>4</th>\n",
       "      <td>4</td>\n",
       "      <td>[0.40414008, -0.61574054, -0.5827253, 0.795370...</td>\n",
       "    </tr>\n",
       "    <tr>\n",
       "      <th>...</th>\n",
       "      <td>...</td>\n",
       "      <td>...</td>\n",
       "    </tr>\n",
       "    <tr>\n",
       "      <th>10781</th>\n",
       "      <td>10781</td>\n",
       "      <td>[0.36407438, -0.14708702, 0.15326577, 0.395120...</td>\n",
       "    </tr>\n",
       "    <tr>\n",
       "      <th>10782</th>\n",
       "      <td>10782</td>\n",
       "      <td>[0.15373485, -0.22356254, 0.16694336, 0.404908...</td>\n",
       "    </tr>\n",
       "    <tr>\n",
       "      <th>10783</th>\n",
       "      <td>10783</td>\n",
       "      <td>[0.329344, -0.3836894, -0.2069735, 0.2802814, ...</td>\n",
       "    </tr>\n",
       "    <tr>\n",
       "      <th>10784</th>\n",
       "      <td>10784</td>\n",
       "      <td>[0.22000171, -0.121786535, 0.19154893, 0.32501...</td>\n",
       "    </tr>\n",
       "    <tr>\n",
       "      <th>10785</th>\n",
       "      <td>10785</td>\n",
       "      <td>[0.18882608, -0.2353444, -0.04198409, 0.174201...</td>\n",
       "    </tr>\n",
       "  </tbody>\n",
       "</table>\n",
       "<p>10786 rows × 2 columns</p>\n",
       "</div>"
      ],
      "text/plain": [
       "        Node                                          Embedding\n",
       "0          0  [0.6923964, -0.005318775, 0.26251858, -0.33620...\n",
       "1          1  [0.26538694, 0.083522975, 0.25147027, -0.38335...\n",
       "2          2  [0.4830782, 0.078672834, 0.38547346, 0.1289763...\n",
       "3          3  [0.5926419, -0.67945397, -0.18712454, 0.217979...\n",
       "4          4  [0.40414008, -0.61574054, -0.5827253, 0.795370...\n",
       "...      ...                                                ...\n",
       "10781  10781  [0.36407438, -0.14708702, 0.15326577, 0.395120...\n",
       "10782  10782  [0.15373485, -0.22356254, 0.16694336, 0.404908...\n",
       "10783  10783  [0.329344, -0.3836894, -0.2069735, 0.2802814, ...\n",
       "10784  10784  [0.22000171, -0.121786535, 0.19154893, 0.32501...\n",
       "10785  10785  [0.18882608, -0.2353444, -0.04198409, 0.174201...\n",
       "\n",
       "[10786 rows x 2 columns]"
      ]
     },
     "execution_count": 291,
     "metadata": {},
     "output_type": "execute_result"
    }
   ],
   "source": [
    "e2v_embedding"
   ]
  },
  {
   "cell_type": "markdown",
   "metadata": {
    "id": "ZIpHbGyB8vY1"
   },
   "source": [
    "#### **Model**"
   ]
  },
  {
   "cell_type": "markdown",
   "metadata": {},
   "source": [
    "In this section the GNN model will be trained. We start by creating a graph and adding our newly obtained node features."
   ]
  },
  {
   "cell_type": "code",
   "execution_count": 292,
   "metadata": {
    "id": "YwA_oSDH_mKL"
   },
   "outputs": [],
   "source": [
    "G = nx.Graph()\n",
    "for ind, node in e2v_embedding.iterrows(): \n",
    "  G.add_node(node['Node'], node_feature=torch.Tensor(node['Embedding']))\n",
    "for ind, edge in df.iterrows(): \n",
    "  G.add_edge(edge['index_head'], edge['index_tail'])"
   ]
  },
  {
   "cell_type": "code",
   "execution_count": 293,
   "metadata": {
    "colab": {
     "base_uri": "https://localhost:8080/"
    },
    "id": "V_ouaUZ3AZct",
    "outputId": "25e3c059-ece0-46d3-df33-384c12501e23"
   },
   "outputs": [
    {
     "name": "stdout",
     "output_type": "stream",
     "text": [
      "(0, {'node_feature': tensor([ 0.6924, -0.0053,  0.2625, -0.3362,  0.1293, -0.5933,  0.2510, -0.2569,\n",
      "        -0.0803, -0.0052,  0.3086, -0.1718, -0.4877, -0.8543,  0.3336,  0.6135,\n",
      "        -0.4505, -0.5432, -0.1332,  0.5465,  0.8383,  0.2263, -0.0896, -0.4675,\n",
      "        -0.4878,  0.4299, -1.2644,  0.1220, -0.0512, -0.2356,  0.7346,  0.2647,\n",
      "         0.4237,  0.2416, -0.2688,  0.9747,  0.3092,  0.1645, -0.6874, -0.1418,\n",
      "         0.2384,  0.7636, -0.0586,  0.2413,  0.6269, -0.5315, -0.1603, -0.4216,\n",
      "        -0.4746, -0.4867,  0.3810, -0.6646, -0.0751, -0.2036,  0.3492,  0.1407,\n",
      "        -0.2433, -0.5525, -0.6968,  0.4568, -1.3356,  0.1179, -0.0586, -0.4631])})\n",
      "(0, 1, {})\n",
      "Number of edges is 58435\n",
      "Number of nodes is 10786\n"
     ]
    }
   ],
   "source": [
    "for node in G.nodes(data=True):\n",
    "    print(node)\n",
    "    break\n",
    "for edge in G.edges(data=True):\n",
    "    print(edge)\n",
    "    break\n",
    "print(\"Number of edges is {}\".format(G.number_of_edges()))\n",
    "print(\"Number of nodes is {}\".format(G.number_of_nodes()))"
   ]
  },
  {
   "cell_type": "markdown",
   "metadata": {},
   "source": [
    "We now create the dataloaders that will be used to train, validate and test our model. Here the data will be splitted and the negative edge sampling will be performed. "
   ]
  },
  {
   "cell_type": "code",
   "execution_count": 294,
   "metadata": {
    "colab": {
     "base_uri": "https://localhost:8080/"
    },
    "id": "4_El8LDPA4kG",
    "outputId": "fe88ed64-4702-414d-e10e-d17352afb355"
   },
   "outputs": [
    {
     "name": "stderr",
     "output_type": "stream",
     "text": [
      "/home/s2959607/.local/lib/python3.7/site-packages/deepsnap/graph.py:2126: UserWarning: __floordiv__ is deprecated, and its behavior will change in a future version of pytorch. It currently rounds toward 0 (like the 'trunc' function NOT 'floor'). This results in incorrect rounding for negative values. To keep the current behavior, use torch.div(a, b, rounding_mode='trunc'), or for actual floor division, use torch.div(a, b, rounding_mode='floor').\n",
      "  row = perm // num_nodes\n"
     ]
    }
   ],
   "source": [
    "dataset = GraphDataset(\n",
    "        G,\n",
    "        task='link_pred',\n",
    "        edge_train_mode=\"all\"\n",
    "    )\n",
    "\n",
    "datasets = {}\n",
    "datasets['train'], datasets['val'], datasets['test']= dataset.split(\n",
    "            transductive=True, split_ratio=[0.8, 0.1, 0.1])\n",
    "input_dim = datasets['train'].num_node_features\n",
    "num_classes = datasets['train'].num_edge_labels"
   ]
  },
  {
   "cell_type": "code",
   "execution_count": 295,
   "metadata": {
    "id": "T0g3ltSNZDl9"
   },
   "outputs": [],
   "source": [
    "dataloaders = {split: DataLoader(\n",
    "            ds, collate_fn=Batch.collate([]),\n",
    "            batch_size=1, shuffle=(split=='train'))\n",
    "            for split, ds in datasets.items()}"
   ]
  },
  {
   "cell_type": "markdown",
   "metadata": {},
   "source": [
    "Finally, our model is trained. Args dictionary contains the hyperparameters that can be changed to modify our model.  "
   ]
  },
  {
   "cell_type": "code",
   "execution_count": 296,
   "metadata": {
    "colab": {
     "base_uri": "https://localhost:8080/"
    },
    "id": "g2TiyRO7mpoM",
    "outputId": "ca72a3ef-fa73-4ea3-830a-aff97864b786",
    "scrolled": true
   },
   "outputs": [
    {
     "name": "stdout",
     "output_type": "stream",
     "text": [
      "Start Train Function\n",
      "Epoch: 001, Train: 0.9603, Val: 0.9463, Test: 0.9490, Loss: 2.54891\n"
     ]
    },
    {
     "name": "stderr",
     "output_type": "stream",
     "text": [
      "/home/s2959607/.local/lib/python3.7/site-packages/deepsnap/graph.py:2126: UserWarning: __floordiv__ is deprecated, and its behavior will change in a future version of pytorch. It currently rounds toward 0 (like the 'trunc' function NOT 'floor'). This results in incorrect rounding for negative values. To keep the current behavior, use torch.div(a, b, rounding_mode='trunc'), or for actual floor division, use torch.div(a, b, rounding_mode='floor').\n",
      "  row = perm // num_nodes\n"
     ]
    },
    {
     "name": "stdout",
     "output_type": "stream",
     "text": [
      "Epoch: 002, Train: 0.9583, Val: 0.9443, Test: 0.9461, Loss: 2.29225\n"
     ]
    },
    {
     "name": "stderr",
     "output_type": "stream",
     "text": [
      "/home/s2959607/.local/lib/python3.7/site-packages/deepsnap/graph.py:2126: UserWarning: __floordiv__ is deprecated, and its behavior will change in a future version of pytorch. It currently rounds toward 0 (like the 'trunc' function NOT 'floor'). This results in incorrect rounding for negative values. To keep the current behavior, use torch.div(a, b, rounding_mode='trunc'), or for actual floor division, use torch.div(a, b, rounding_mode='floor').\n",
      "  row = perm // num_nodes\n"
     ]
    },
    {
     "name": "stdout",
     "output_type": "stream",
     "text": [
      "Epoch: 003, Train: 0.9420, Val: 0.9355, Test: 0.9349, Loss: 2.07858\n"
     ]
    },
    {
     "name": "stderr",
     "output_type": "stream",
     "text": [
      "/home/s2959607/.local/lib/python3.7/site-packages/deepsnap/graph.py:2126: UserWarning: __floordiv__ is deprecated, and its behavior will change in a future version of pytorch. It currently rounds toward 0 (like the 'trunc' function NOT 'floor'). This results in incorrect rounding for negative values. To keep the current behavior, use torch.div(a, b, rounding_mode='trunc'), or for actual floor division, use torch.div(a, b, rounding_mode='floor').\n",
      "  row = perm // num_nodes\n"
     ]
    },
    {
     "name": "stdout",
     "output_type": "stream",
     "text": [
      "Epoch: 004, Train: 0.9429, Val: 0.9323, Test: 0.9330, Loss: 1.98586\n"
     ]
    },
    {
     "name": "stderr",
     "output_type": "stream",
     "text": [
      "/home/s2959607/.local/lib/python3.7/site-packages/deepsnap/graph.py:2126: UserWarning: __floordiv__ is deprecated, and its behavior will change in a future version of pytorch. It currently rounds toward 0 (like the 'trunc' function NOT 'floor'). This results in incorrect rounding for negative values. To keep the current behavior, use torch.div(a, b, rounding_mode='trunc'), or for actual floor division, use torch.div(a, b, rounding_mode='floor').\n",
      "  row = perm // num_nodes\n"
     ]
    },
    {
     "name": "stdout",
     "output_type": "stream",
     "text": [
      "Epoch: 005, Train: 0.9490, Val: 0.9349, Test: 0.9369, Loss: 1.79693\n"
     ]
    },
    {
     "name": "stderr",
     "output_type": "stream",
     "text": [
      "/home/s2959607/.local/lib/python3.7/site-packages/deepsnap/graph.py:2126: UserWarning: __floordiv__ is deprecated, and its behavior will change in a future version of pytorch. It currently rounds toward 0 (like the 'trunc' function NOT 'floor'). This results in incorrect rounding for negative values. To keep the current behavior, use torch.div(a, b, rounding_mode='trunc'), or for actual floor division, use torch.div(a, b, rounding_mode='floor').\n",
      "  row = perm // num_nodes\n"
     ]
    },
    {
     "name": "stdout",
     "output_type": "stream",
     "text": [
      "Epoch: 006, Train: 0.9584, Val: 0.9434, Test: 0.9454, Loss: 1.72293\n"
     ]
    },
    {
     "name": "stderr",
     "output_type": "stream",
     "text": [
      "/home/s2959607/.local/lib/python3.7/site-packages/deepsnap/graph.py:2126: UserWarning: __floordiv__ is deprecated, and its behavior will change in a future version of pytorch. It currently rounds toward 0 (like the 'trunc' function NOT 'floor'). This results in incorrect rounding for negative values. To keep the current behavior, use torch.div(a, b, rounding_mode='trunc'), or for actual floor division, use torch.div(a, b, rounding_mode='floor').\n",
      "  row = perm // num_nodes\n"
     ]
    },
    {
     "name": "stdout",
     "output_type": "stream",
     "text": [
      "Epoch: 007, Train: 0.9614, Val: 0.9477, Test: 0.9488, Loss: 1.56331\n"
     ]
    },
    {
     "name": "stderr",
     "output_type": "stream",
     "text": [
      "/home/s2959607/.local/lib/python3.7/site-packages/deepsnap/graph.py:2126: UserWarning: __floordiv__ is deprecated, and its behavior will change in a future version of pytorch. It currently rounds toward 0 (like the 'trunc' function NOT 'floor'). This results in incorrect rounding for negative values. To keep the current behavior, use torch.div(a, b, rounding_mode='trunc'), or for actual floor division, use torch.div(a, b, rounding_mode='floor').\n",
      "  row = perm // num_nodes\n"
     ]
    },
    {
     "name": "stdout",
     "output_type": "stream",
     "text": [
      "Epoch: 008, Train: 0.9617, Val: 0.9475, Test: 0.9479, Loss: 1.41514\n"
     ]
    },
    {
     "name": "stderr",
     "output_type": "stream",
     "text": [
      "/home/s2959607/.local/lib/python3.7/site-packages/deepsnap/graph.py:2126: UserWarning: __floordiv__ is deprecated, and its behavior will change in a future version of pytorch. It currently rounds toward 0 (like the 'trunc' function NOT 'floor'). This results in incorrect rounding for negative values. To keep the current behavior, use torch.div(a, b, rounding_mode='trunc'), or for actual floor division, use torch.div(a, b, rounding_mode='floor').\n",
      "  row = perm // num_nodes\n"
     ]
    },
    {
     "name": "stdout",
     "output_type": "stream",
     "text": [
      "Epoch: 009, Train: 0.9613, Val: 0.9476, Test: 0.9474, Loss: 1.34574\n"
     ]
    },
    {
     "name": "stderr",
     "output_type": "stream",
     "text": [
      "/home/s2959607/.local/lib/python3.7/site-packages/deepsnap/graph.py:2126: UserWarning: __floordiv__ is deprecated, and its behavior will change in a future version of pytorch. It currently rounds toward 0 (like the 'trunc' function NOT 'floor'). This results in incorrect rounding for negative values. To keep the current behavior, use torch.div(a, b, rounding_mode='trunc'), or for actual floor division, use torch.div(a, b, rounding_mode='floor').\n",
      "  row = perm // num_nodes\n"
     ]
    },
    {
     "name": "stdout",
     "output_type": "stream",
     "text": [
      "Epoch: 010, Train: 0.9639, Val: 0.9504, Test: 0.9500, Loss: 1.26516\n"
     ]
    },
    {
     "name": "stderr",
     "output_type": "stream",
     "text": [
      "/home/s2959607/.local/lib/python3.7/site-packages/deepsnap/graph.py:2126: UserWarning: __floordiv__ is deprecated, and its behavior will change in a future version of pytorch. It currently rounds toward 0 (like the 'trunc' function NOT 'floor'). This results in incorrect rounding for negative values. To keep the current behavior, use torch.div(a, b, rounding_mode='trunc'), or for actual floor division, use torch.div(a, b, rounding_mode='floor').\n",
      "  row = perm // num_nodes\n"
     ]
    },
    {
     "name": "stdout",
     "output_type": "stream",
     "text": [
      "Epoch: 011, Train: 0.9663, Val: 0.9536, Test: 0.9532, Loss: 1.19281\n"
     ]
    },
    {
     "name": "stderr",
     "output_type": "stream",
     "text": [
      "/home/s2959607/.local/lib/python3.7/site-packages/deepsnap/graph.py:2126: UserWarning: __floordiv__ is deprecated, and its behavior will change in a future version of pytorch. It currently rounds toward 0 (like the 'trunc' function NOT 'floor'). This results in incorrect rounding for negative values. To keep the current behavior, use torch.div(a, b, rounding_mode='trunc'), or for actual floor division, use torch.div(a, b, rounding_mode='floor').\n",
      "  row = perm // num_nodes\n"
     ]
    },
    {
     "name": "stdout",
     "output_type": "stream",
     "text": [
      "Epoch: 012, Train: 0.9679, Val: 0.9559, Test: 0.9558, Loss: 1.11717\n"
     ]
    },
    {
     "name": "stderr",
     "output_type": "stream",
     "text": [
      "/home/s2959607/.local/lib/python3.7/site-packages/deepsnap/graph.py:2126: UserWarning: __floordiv__ is deprecated, and its behavior will change in a future version of pytorch. It currently rounds toward 0 (like the 'trunc' function NOT 'floor'). This results in incorrect rounding for negative values. To keep the current behavior, use torch.div(a, b, rounding_mode='trunc'), or for actual floor division, use torch.div(a, b, rounding_mode='floor').\n",
      "  row = perm // num_nodes\n"
     ]
    },
    {
     "name": "stdout",
     "output_type": "stream",
     "text": [
      "Epoch: 013, Train: 0.9683, Val: 0.9567, Test: 0.9570, Loss: 1.04630\n"
     ]
    },
    {
     "name": "stderr",
     "output_type": "stream",
     "text": [
      "/home/s2959607/.local/lib/python3.7/site-packages/deepsnap/graph.py:2126: UserWarning: __floordiv__ is deprecated, and its behavior will change in a future version of pytorch. It currently rounds toward 0 (like the 'trunc' function NOT 'floor'). This results in incorrect rounding for negative values. To keep the current behavior, use torch.div(a, b, rounding_mode='trunc'), or for actual floor division, use torch.div(a, b, rounding_mode='floor').\n",
      "  row = perm // num_nodes\n"
     ]
    },
    {
     "name": "stdout",
     "output_type": "stream",
     "text": [
      "Epoch: 014, Train: 0.9677, Val: 0.9567, Test: 0.9574, Loss: 0.96721\n"
     ]
    },
    {
     "name": "stderr",
     "output_type": "stream",
     "text": [
      "/home/s2959607/.local/lib/python3.7/site-packages/deepsnap/graph.py:2126: UserWarning: __floordiv__ is deprecated, and its behavior will change in a future version of pytorch. It currently rounds toward 0 (like the 'trunc' function NOT 'floor'). This results in incorrect rounding for negative values. To keep the current behavior, use torch.div(a, b, rounding_mode='trunc'), or for actual floor division, use torch.div(a, b, rounding_mode='floor').\n",
      "  row = perm // num_nodes\n"
     ]
    },
    {
     "name": "stdout",
     "output_type": "stream",
     "text": [
      "Epoch: 015, Train: 0.9674, Val: 0.9559, Test: 0.9570, Loss: 0.89726\n"
     ]
    },
    {
     "name": "stderr",
     "output_type": "stream",
     "text": [
      "/home/s2959607/.local/lib/python3.7/site-packages/deepsnap/graph.py:2126: UserWarning: __floordiv__ is deprecated, and its behavior will change in a future version of pytorch. It currently rounds toward 0 (like the 'trunc' function NOT 'floor'). This results in incorrect rounding for negative values. To keep the current behavior, use torch.div(a, b, rounding_mode='trunc'), or for actual floor division, use torch.div(a, b, rounding_mode='floor').\n",
      "  row = perm // num_nodes\n"
     ]
    },
    {
     "name": "stdout",
     "output_type": "stream",
     "text": [
      "Epoch: 016, Train: 0.9669, Val: 0.9549, Test: 0.9565, Loss: 0.83947\n"
     ]
    },
    {
     "name": "stderr",
     "output_type": "stream",
     "text": [
      "/home/s2959607/.local/lib/python3.7/site-packages/deepsnap/graph.py:2126: UserWarning: __floordiv__ is deprecated, and its behavior will change in a future version of pytorch. It currently rounds toward 0 (like the 'trunc' function NOT 'floor'). This results in incorrect rounding for negative values. To keep the current behavior, use torch.div(a, b, rounding_mode='trunc'), or for actual floor division, use torch.div(a, b, rounding_mode='floor').\n",
      "  row = perm // num_nodes\n"
     ]
    },
    {
     "name": "stdout",
     "output_type": "stream",
     "text": [
      "Epoch: 017, Train: 0.9661, Val: 0.9538, Test: 0.9558, Loss: 0.79578\n"
     ]
    },
    {
     "name": "stderr",
     "output_type": "stream",
     "text": [
      "/home/s2959607/.local/lib/python3.7/site-packages/deepsnap/graph.py:2126: UserWarning: __floordiv__ is deprecated, and its behavior will change in a future version of pytorch. It currently rounds toward 0 (like the 'trunc' function NOT 'floor'). This results in incorrect rounding for negative values. To keep the current behavior, use torch.div(a, b, rounding_mode='trunc'), or for actual floor division, use torch.div(a, b, rounding_mode='floor').\n",
      "  row = perm // num_nodes\n"
     ]
    },
    {
     "name": "stdout",
     "output_type": "stream",
     "text": [
      "Epoch: 018, Train: 0.9652, Val: 0.9531, Test: 0.9554, Loss: 0.73057\n"
     ]
    },
    {
     "name": "stderr",
     "output_type": "stream",
     "text": [
      "/home/s2959607/.local/lib/python3.7/site-packages/deepsnap/graph.py:2126: UserWarning: __floordiv__ is deprecated, and its behavior will change in a future version of pytorch. It currently rounds toward 0 (like the 'trunc' function NOT 'floor'). This results in incorrect rounding for negative values. To keep the current behavior, use torch.div(a, b, rounding_mode='trunc'), or for actual floor division, use torch.div(a, b, rounding_mode='floor').\n",
      "  row = perm // num_nodes\n"
     ]
    },
    {
     "name": "stdout",
     "output_type": "stream",
     "text": [
      "Epoch: 019, Train: 0.9653, Val: 0.9528, Test: 0.9554, Loss: 0.70686\n"
     ]
    },
    {
     "name": "stderr",
     "output_type": "stream",
     "text": [
      "/home/s2959607/.local/lib/python3.7/site-packages/deepsnap/graph.py:2126: UserWarning: __floordiv__ is deprecated, and its behavior will change in a future version of pytorch. It currently rounds toward 0 (like the 'trunc' function NOT 'floor'). This results in incorrect rounding for negative values. To keep the current behavior, use torch.div(a, b, rounding_mode='trunc'), or for actual floor division, use torch.div(a, b, rounding_mode='floor').\n",
      "  row = perm // num_nodes\n"
     ]
    },
    {
     "name": "stdout",
     "output_type": "stream",
     "text": [
      "Epoch: 020, Train: 0.9650, Val: 0.9530, Test: 0.9559, Loss: 0.66113\n"
     ]
    },
    {
     "name": "stderr",
     "output_type": "stream",
     "text": [
      "/home/s2959607/.local/lib/python3.7/site-packages/deepsnap/graph.py:2126: UserWarning: __floordiv__ is deprecated, and its behavior will change in a future version of pytorch. It currently rounds toward 0 (like the 'trunc' function NOT 'floor'). This results in incorrect rounding for negative values. To keep the current behavior, use torch.div(a, b, rounding_mode='trunc'), or for actual floor division, use torch.div(a, b, rounding_mode='floor').\n",
      "  row = perm // num_nodes\n"
     ]
    },
    {
     "name": "stdout",
     "output_type": "stream",
     "text": [
      "Epoch: 021, Train: 0.9659, Val: 0.9537, Test: 0.9569, Loss: 0.62864\n"
     ]
    },
    {
     "name": "stderr",
     "output_type": "stream",
     "text": [
      "/home/s2959607/.local/lib/python3.7/site-packages/deepsnap/graph.py:2126: UserWarning: __floordiv__ is deprecated, and its behavior will change in a future version of pytorch. It currently rounds toward 0 (like the 'trunc' function NOT 'floor'). This results in incorrect rounding for negative values. To keep the current behavior, use torch.div(a, b, rounding_mode='trunc'), or for actual floor division, use torch.div(a, b, rounding_mode='floor').\n",
      "  row = perm // num_nodes\n"
     ]
    },
    {
     "name": "stdout",
     "output_type": "stream",
     "text": [
      "Epoch: 022, Train: 0.9656, Val: 0.9548, Test: 0.9582, Loss: 0.60204\n"
     ]
    },
    {
     "name": "stderr",
     "output_type": "stream",
     "text": [
      "/home/s2959607/.local/lib/python3.7/site-packages/deepsnap/graph.py:2126: UserWarning: __floordiv__ is deprecated, and its behavior will change in a future version of pytorch. It currently rounds toward 0 (like the 'trunc' function NOT 'floor'). This results in incorrect rounding for negative values. To keep the current behavior, use torch.div(a, b, rounding_mode='trunc'), or for actual floor division, use torch.div(a, b, rounding_mode='floor').\n",
      "  row = perm // num_nodes\n"
     ]
    },
    {
     "name": "stdout",
     "output_type": "stream",
     "text": [
      "Epoch: 023, Train: 0.9659, Val: 0.9560, Test: 0.9596, Loss: 0.57838\n"
     ]
    },
    {
     "name": "stderr",
     "output_type": "stream",
     "text": [
      "/home/s2959607/.local/lib/python3.7/site-packages/deepsnap/graph.py:2126: UserWarning: __floordiv__ is deprecated, and its behavior will change in a future version of pytorch. It currently rounds toward 0 (like the 'trunc' function NOT 'floor'). This results in incorrect rounding for negative values. To keep the current behavior, use torch.div(a, b, rounding_mode='trunc'), or for actual floor division, use torch.div(a, b, rounding_mode='floor').\n",
      "  row = perm // num_nodes\n"
     ]
    },
    {
     "name": "stdout",
     "output_type": "stream",
     "text": [
      "Epoch: 024, Train: 0.9671, Val: 0.9573, Test: 0.9613, Loss: 0.55117\n"
     ]
    },
    {
     "name": "stderr",
     "output_type": "stream",
     "text": [
      "/home/s2959607/.local/lib/python3.7/site-packages/deepsnap/graph.py:2126: UserWarning: __floordiv__ is deprecated, and its behavior will change in a future version of pytorch. It currently rounds toward 0 (like the 'trunc' function NOT 'floor'). This results in incorrect rounding for negative values. To keep the current behavior, use torch.div(a, b, rounding_mode='trunc'), or for actual floor division, use torch.div(a, b, rounding_mode='floor').\n",
      "  row = perm // num_nodes\n"
     ]
    },
    {
     "name": "stdout",
     "output_type": "stream",
     "text": [
      "Epoch: 025, Train: 0.9680, Val: 0.9589, Test: 0.9631, Loss: 0.54233\n"
     ]
    },
    {
     "name": "stderr",
     "output_type": "stream",
     "text": [
      "/home/s2959607/.local/lib/python3.7/site-packages/deepsnap/graph.py:2126: UserWarning: __floordiv__ is deprecated, and its behavior will change in a future version of pytorch. It currently rounds toward 0 (like the 'trunc' function NOT 'floor'). This results in incorrect rounding for negative values. To keep the current behavior, use torch.div(a, b, rounding_mode='trunc'), or for actual floor division, use torch.div(a, b, rounding_mode='floor').\n",
      "  row = perm // num_nodes\n"
     ]
    },
    {
     "name": "stdout",
     "output_type": "stream",
     "text": [
      "Epoch: 026, Train: 0.9699, Val: 0.9606, Test: 0.9650, Loss: 0.53252\n"
     ]
    },
    {
     "name": "stderr",
     "output_type": "stream",
     "text": [
      "/home/s2959607/.local/lib/python3.7/site-packages/deepsnap/graph.py:2126: UserWarning: __floordiv__ is deprecated, and its behavior will change in a future version of pytorch. It currently rounds toward 0 (like the 'trunc' function NOT 'floor'). This results in incorrect rounding for negative values. To keep the current behavior, use torch.div(a, b, rounding_mode='trunc'), or for actual floor division, use torch.div(a, b, rounding_mode='floor').\n",
      "  row = perm // num_nodes\n"
     ]
    },
    {
     "name": "stdout",
     "output_type": "stream",
     "text": [
      "Epoch: 027, Train: 0.9709, Val: 0.9624, Test: 0.9671, Loss: 0.52085\n"
     ]
    },
    {
     "name": "stderr",
     "output_type": "stream",
     "text": [
      "/home/s2959607/.local/lib/python3.7/site-packages/deepsnap/graph.py:2126: UserWarning: __floordiv__ is deprecated, and its behavior will change in a future version of pytorch. It currently rounds toward 0 (like the 'trunc' function NOT 'floor'). This results in incorrect rounding for negative values. To keep the current behavior, use torch.div(a, b, rounding_mode='trunc'), or for actual floor division, use torch.div(a, b, rounding_mode='floor').\n",
      "  row = perm // num_nodes\n"
     ]
    },
    {
     "name": "stdout",
     "output_type": "stream",
     "text": [
      "Epoch: 028, Train: 0.9715, Val: 0.9643, Test: 0.9692, Loss: 0.51645\n"
     ]
    },
    {
     "name": "stderr",
     "output_type": "stream",
     "text": [
      "/home/s2959607/.local/lib/python3.7/site-packages/deepsnap/graph.py:2126: UserWarning: __floordiv__ is deprecated, and its behavior will change in a future version of pytorch. It currently rounds toward 0 (like the 'trunc' function NOT 'floor'). This results in incorrect rounding for negative values. To keep the current behavior, use torch.div(a, b, rounding_mode='trunc'), or for actual floor division, use torch.div(a, b, rounding_mode='floor').\n",
      "  row = perm // num_nodes\n"
     ]
    },
    {
     "name": "stdout",
     "output_type": "stream",
     "text": [
      "Epoch: 029, Train: 0.9735, Val: 0.9662, Test: 0.9713, Loss: 0.49650\n"
     ]
    },
    {
     "name": "stderr",
     "output_type": "stream",
     "text": [
      "/home/s2959607/.local/lib/python3.7/site-packages/deepsnap/graph.py:2126: UserWarning: __floordiv__ is deprecated, and its behavior will change in a future version of pytorch. It currently rounds toward 0 (like the 'trunc' function NOT 'floor'). This results in incorrect rounding for negative values. To keep the current behavior, use torch.div(a, b, rounding_mode='trunc'), or for actual floor division, use torch.div(a, b, rounding_mode='floor').\n",
      "  row = perm // num_nodes\n"
     ]
    },
    {
     "name": "stdout",
     "output_type": "stream",
     "text": [
      "Epoch: 030, Train: 0.9757, Val: 0.9680, Test: 0.9731, Loss: 0.48770\n"
     ]
    },
    {
     "name": "stderr",
     "output_type": "stream",
     "text": [
      "/home/s2959607/.local/lib/python3.7/site-packages/deepsnap/graph.py:2126: UserWarning: __floordiv__ is deprecated, and its behavior will change in a future version of pytorch. It currently rounds toward 0 (like the 'trunc' function NOT 'floor'). This results in incorrect rounding for negative values. To keep the current behavior, use torch.div(a, b, rounding_mode='trunc'), or for actual floor division, use torch.div(a, b, rounding_mode='floor').\n",
      "  row = perm // num_nodes\n"
     ]
    },
    {
     "name": "stdout",
     "output_type": "stream",
     "text": [
      "Epoch: 031, Train: 0.9764, Val: 0.9697, Test: 0.9748, Loss: 0.48310\n"
     ]
    },
    {
     "name": "stderr",
     "output_type": "stream",
     "text": [
      "/home/s2959607/.local/lib/python3.7/site-packages/deepsnap/graph.py:2126: UserWarning: __floordiv__ is deprecated, and its behavior will change in a future version of pytorch. It currently rounds toward 0 (like the 'trunc' function NOT 'floor'). This results in incorrect rounding for negative values. To keep the current behavior, use torch.div(a, b, rounding_mode='trunc'), or for actual floor division, use torch.div(a, b, rounding_mode='floor').\n",
      "  row = perm // num_nodes\n"
     ]
    },
    {
     "name": "stdout",
     "output_type": "stream",
     "text": [
      "Epoch: 032, Train: 0.9785, Val: 0.9712, Test: 0.9762, Loss: 0.48280\n"
     ]
    },
    {
     "name": "stderr",
     "output_type": "stream",
     "text": [
      "/home/s2959607/.local/lib/python3.7/site-packages/deepsnap/graph.py:2126: UserWarning: __floordiv__ is deprecated, and its behavior will change in a future version of pytorch. It currently rounds toward 0 (like the 'trunc' function NOT 'floor'). This results in incorrect rounding for negative values. To keep the current behavior, use torch.div(a, b, rounding_mode='trunc'), or for actual floor division, use torch.div(a, b, rounding_mode='floor').\n",
      "  row = perm // num_nodes\n"
     ]
    },
    {
     "name": "stdout",
     "output_type": "stream",
     "text": [
      "Epoch: 033, Train: 0.9795, Val: 0.9725, Test: 0.9773, Loss: 0.46748\n"
     ]
    },
    {
     "name": "stderr",
     "output_type": "stream",
     "text": [
      "/home/s2959607/.local/lib/python3.7/site-packages/deepsnap/graph.py:2126: UserWarning: __floordiv__ is deprecated, and its behavior will change in a future version of pytorch. It currently rounds toward 0 (like the 'trunc' function NOT 'floor'). This results in incorrect rounding for negative values. To keep the current behavior, use torch.div(a, b, rounding_mode='trunc'), or for actual floor division, use torch.div(a, b, rounding_mode='floor').\n",
      "  row = perm // num_nodes\n"
     ]
    },
    {
     "name": "stdout",
     "output_type": "stream",
     "text": [
      "Epoch: 034, Train: 0.9809, Val: 0.9735, Test: 0.9781, Loss: 0.45891\n"
     ]
    },
    {
     "name": "stderr",
     "output_type": "stream",
     "text": [
      "/home/s2959607/.local/lib/python3.7/site-packages/deepsnap/graph.py:2126: UserWarning: __floordiv__ is deprecated, and its behavior will change in a future version of pytorch. It currently rounds toward 0 (like the 'trunc' function NOT 'floor'). This results in incorrect rounding for negative values. To keep the current behavior, use torch.div(a, b, rounding_mode='trunc'), or for actual floor division, use torch.div(a, b, rounding_mode='floor').\n",
      "  row = perm // num_nodes\n"
     ]
    },
    {
     "name": "stdout",
     "output_type": "stream",
     "text": [
      "Epoch: 035, Train: 0.9810, Val: 0.9744, Test: 0.9787, Loss: 0.45647\n"
     ]
    },
    {
     "name": "stderr",
     "output_type": "stream",
     "text": [
      "/home/s2959607/.local/lib/python3.7/site-packages/deepsnap/graph.py:2126: UserWarning: __floordiv__ is deprecated, and its behavior will change in a future version of pytorch. It currently rounds toward 0 (like the 'trunc' function NOT 'floor'). This results in incorrect rounding for negative values. To keep the current behavior, use torch.div(a, b, rounding_mode='trunc'), or for actual floor division, use torch.div(a, b, rounding_mode='floor').\n",
      "  row = perm // num_nodes\n"
     ]
    },
    {
     "name": "stdout",
     "output_type": "stream",
     "text": [
      "Epoch: 036, Train: 0.9815, Val: 0.9752, Test: 0.9792, Loss: 0.45397\n"
     ]
    },
    {
     "name": "stderr",
     "output_type": "stream",
     "text": [
      "/home/s2959607/.local/lib/python3.7/site-packages/deepsnap/graph.py:2126: UserWarning: __floordiv__ is deprecated, and its behavior will change in a future version of pytorch. It currently rounds toward 0 (like the 'trunc' function NOT 'floor'). This results in incorrect rounding for negative values. To keep the current behavior, use torch.div(a, b, rounding_mode='trunc'), or for actual floor division, use torch.div(a, b, rounding_mode='floor').\n",
      "  row = perm // num_nodes\n"
     ]
    },
    {
     "name": "stdout",
     "output_type": "stream",
     "text": [
      "Epoch: 037, Train: 0.9819, Val: 0.9758, Test: 0.9796, Loss: 0.45186\n"
     ]
    },
    {
     "name": "stderr",
     "output_type": "stream",
     "text": [
      "/home/s2959607/.local/lib/python3.7/site-packages/deepsnap/graph.py:2126: UserWarning: __floordiv__ is deprecated, and its behavior will change in a future version of pytorch. It currently rounds toward 0 (like the 'trunc' function NOT 'floor'). This results in incorrect rounding for negative values. To keep the current behavior, use torch.div(a, b, rounding_mode='trunc'), or for actual floor division, use torch.div(a, b, rounding_mode='floor').\n",
      "  row = perm // num_nodes\n"
     ]
    },
    {
     "name": "stdout",
     "output_type": "stream",
     "text": [
      "Epoch: 038, Train: 0.9828, Val: 0.9763, Test: 0.9799, Loss: 0.44579\n"
     ]
    },
    {
     "name": "stderr",
     "output_type": "stream",
     "text": [
      "/home/s2959607/.local/lib/python3.7/site-packages/deepsnap/graph.py:2126: UserWarning: __floordiv__ is deprecated, and its behavior will change in a future version of pytorch. It currently rounds toward 0 (like the 'trunc' function NOT 'floor'). This results in incorrect rounding for negative values. To keep the current behavior, use torch.div(a, b, rounding_mode='trunc'), or for actual floor division, use torch.div(a, b, rounding_mode='floor').\n",
      "  row = perm // num_nodes\n"
     ]
    },
    {
     "name": "stdout",
     "output_type": "stream",
     "text": [
      "Epoch: 039, Train: 0.9834, Val: 0.9767, Test: 0.9801, Loss: 0.44209\n"
     ]
    },
    {
     "name": "stderr",
     "output_type": "stream",
     "text": [
      "/home/s2959607/.local/lib/python3.7/site-packages/deepsnap/graph.py:2126: UserWarning: __floordiv__ is deprecated, and its behavior will change in a future version of pytorch. It currently rounds toward 0 (like the 'trunc' function NOT 'floor'). This results in incorrect rounding for negative values. To keep the current behavior, use torch.div(a, b, rounding_mode='trunc'), or for actual floor division, use torch.div(a, b, rounding_mode='floor').\n",
      "  row = perm // num_nodes\n"
     ]
    },
    {
     "name": "stdout",
     "output_type": "stream",
     "text": [
      "Epoch: 040, Train: 0.9831, Val: 0.9771, Test: 0.9802, Loss: 0.44208\n"
     ]
    },
    {
     "name": "stderr",
     "output_type": "stream",
     "text": [
      "/home/s2959607/.local/lib/python3.7/site-packages/deepsnap/graph.py:2126: UserWarning: __floordiv__ is deprecated, and its behavior will change in a future version of pytorch. It currently rounds toward 0 (like the 'trunc' function NOT 'floor'). This results in incorrect rounding for negative values. To keep the current behavior, use torch.div(a, b, rounding_mode='trunc'), or for actual floor division, use torch.div(a, b, rounding_mode='floor').\n",
      "  row = perm // num_nodes\n"
     ]
    },
    {
     "name": "stdout",
     "output_type": "stream",
     "text": [
      "Epoch: 041, Train: 0.9843, Val: 0.9774, Test: 0.9803, Loss: 0.44105\n"
     ]
    },
    {
     "name": "stderr",
     "output_type": "stream",
     "text": [
      "/home/s2959607/.local/lib/python3.7/site-packages/deepsnap/graph.py:2126: UserWarning: __floordiv__ is deprecated, and its behavior will change in a future version of pytorch. It currently rounds toward 0 (like the 'trunc' function NOT 'floor'). This results in incorrect rounding for negative values. To keep the current behavior, use torch.div(a, b, rounding_mode='trunc'), or for actual floor division, use torch.div(a, b, rounding_mode='floor').\n",
      "  row = perm // num_nodes\n"
     ]
    },
    {
     "name": "stdout",
     "output_type": "stream",
     "text": [
      "Epoch: 042, Train: 0.9842, Val: 0.9777, Test: 0.9804, Loss: 0.43503\n"
     ]
    },
    {
     "name": "stderr",
     "output_type": "stream",
     "text": [
      "/home/s2959607/.local/lib/python3.7/site-packages/deepsnap/graph.py:2126: UserWarning: __floordiv__ is deprecated, and its behavior will change in a future version of pytorch. It currently rounds toward 0 (like the 'trunc' function NOT 'floor'). This results in incorrect rounding for negative values. To keep the current behavior, use torch.div(a, b, rounding_mode='trunc'), or for actual floor division, use torch.div(a, b, rounding_mode='floor').\n",
      "  row = perm // num_nodes\n"
     ]
    },
    {
     "name": "stdout",
     "output_type": "stream",
     "text": [
      "Epoch: 043, Train: 0.9842, Val: 0.9779, Test: 0.9804, Loss: 0.43506\n"
     ]
    },
    {
     "name": "stderr",
     "output_type": "stream",
     "text": [
      "/home/s2959607/.local/lib/python3.7/site-packages/deepsnap/graph.py:2126: UserWarning: __floordiv__ is deprecated, and its behavior will change in a future version of pytorch. It currently rounds toward 0 (like the 'trunc' function NOT 'floor'). This results in incorrect rounding for negative values. To keep the current behavior, use torch.div(a, b, rounding_mode='trunc'), or for actual floor division, use torch.div(a, b, rounding_mode='floor').\n",
      "  row = perm // num_nodes\n"
     ]
    },
    {
     "name": "stdout",
     "output_type": "stream",
     "text": [
      "Epoch: 044, Train: 0.9846, Val: 0.9780, Test: 0.9804, Loss: 0.43436\n"
     ]
    },
    {
     "name": "stderr",
     "output_type": "stream",
     "text": [
      "/home/s2959607/.local/lib/python3.7/site-packages/deepsnap/graph.py:2126: UserWarning: __floordiv__ is deprecated, and its behavior will change in a future version of pytorch. It currently rounds toward 0 (like the 'trunc' function NOT 'floor'). This results in incorrect rounding for negative values. To keep the current behavior, use torch.div(a, b, rounding_mode='trunc'), or for actual floor division, use torch.div(a, b, rounding_mode='floor').\n",
      "  row = perm // num_nodes\n"
     ]
    },
    {
     "name": "stdout",
     "output_type": "stream",
     "text": [
      "Epoch: 045, Train: 0.9849, Val: 0.9782, Test: 0.9803, Loss: 0.43123\n"
     ]
    },
    {
     "name": "stderr",
     "output_type": "stream",
     "text": [
      "/home/s2959607/.local/lib/python3.7/site-packages/deepsnap/graph.py:2126: UserWarning: __floordiv__ is deprecated, and its behavior will change in a future version of pytorch. It currently rounds toward 0 (like the 'trunc' function NOT 'floor'). This results in incorrect rounding for negative values. To keep the current behavior, use torch.div(a, b, rounding_mode='trunc'), or for actual floor division, use torch.div(a, b, rounding_mode='floor').\n",
      "  row = perm // num_nodes\n"
     ]
    },
    {
     "name": "stdout",
     "output_type": "stream",
     "text": [
      "Epoch: 046, Train: 0.9848, Val: 0.9783, Test: 0.9803, Loss: 0.42947\n"
     ]
    },
    {
     "name": "stderr",
     "output_type": "stream",
     "text": [
      "/home/s2959607/.local/lib/python3.7/site-packages/deepsnap/graph.py:2126: UserWarning: __floordiv__ is deprecated, and its behavior will change in a future version of pytorch. It currently rounds toward 0 (like the 'trunc' function NOT 'floor'). This results in incorrect rounding for negative values. To keep the current behavior, use torch.div(a, b, rounding_mode='trunc'), or for actual floor division, use torch.div(a, b, rounding_mode='floor').\n",
      "  row = perm // num_nodes\n"
     ]
    },
    {
     "name": "stdout",
     "output_type": "stream",
     "text": [
      "Epoch: 047, Train: 0.9850, Val: 0.9784, Test: 0.9803, Loss: 0.42771\n"
     ]
    },
    {
     "name": "stderr",
     "output_type": "stream",
     "text": [
      "/home/s2959607/.local/lib/python3.7/site-packages/deepsnap/graph.py:2126: UserWarning: __floordiv__ is deprecated, and its behavior will change in a future version of pytorch. It currently rounds toward 0 (like the 'trunc' function NOT 'floor'). This results in incorrect rounding for negative values. To keep the current behavior, use torch.div(a, b, rounding_mode='trunc'), or for actual floor division, use torch.div(a, b, rounding_mode='floor').\n",
      "  row = perm // num_nodes\n"
     ]
    },
    {
     "name": "stdout",
     "output_type": "stream",
     "text": [
      "Epoch: 048, Train: 0.9853, Val: 0.9785, Test: 0.9803, Loss: 0.42897\n"
     ]
    },
    {
     "name": "stderr",
     "output_type": "stream",
     "text": [
      "/home/s2959607/.local/lib/python3.7/site-packages/deepsnap/graph.py:2126: UserWarning: __floordiv__ is deprecated, and its behavior will change in a future version of pytorch. It currently rounds toward 0 (like the 'trunc' function NOT 'floor'). This results in incorrect rounding for negative values. To keep the current behavior, use torch.div(a, b, rounding_mode='trunc'), or for actual floor division, use torch.div(a, b, rounding_mode='floor').\n",
      "  row = perm // num_nodes\n"
     ]
    },
    {
     "name": "stdout",
     "output_type": "stream",
     "text": [
      "Epoch: 049, Train: 0.9856, Val: 0.9786, Test: 0.9803, Loss: 0.42579\n"
     ]
    },
    {
     "name": "stderr",
     "output_type": "stream",
     "text": [
      "/home/s2959607/.local/lib/python3.7/site-packages/deepsnap/graph.py:2126: UserWarning: __floordiv__ is deprecated, and its behavior will change in a future version of pytorch. It currently rounds toward 0 (like the 'trunc' function NOT 'floor'). This results in incorrect rounding for negative values. To keep the current behavior, use torch.div(a, b, rounding_mode='trunc'), or for actual floor division, use torch.div(a, b, rounding_mode='floor').\n",
      "  row = perm // num_nodes\n"
     ]
    },
    {
     "name": "stdout",
     "output_type": "stream",
     "text": [
      "Epoch: 050, Train: 0.9854, Val: 0.9788, Test: 0.9803, Loss: 0.42466\n"
     ]
    },
    {
     "name": "stderr",
     "output_type": "stream",
     "text": [
      "/home/s2959607/.local/lib/python3.7/site-packages/deepsnap/graph.py:2126: UserWarning: __floordiv__ is deprecated, and its behavior will change in a future version of pytorch. It currently rounds toward 0 (like the 'trunc' function NOT 'floor'). This results in incorrect rounding for negative values. To keep the current behavior, use torch.div(a, b, rounding_mode='trunc'), or for actual floor division, use torch.div(a, b, rounding_mode='floor').\n",
      "  row = perm // num_nodes\n"
     ]
    },
    {
     "name": "stdout",
     "output_type": "stream",
     "text": [
      "Epoch: 051, Train: 0.9857, Val: 0.9789, Test: 0.9803, Loss: 0.42568\n"
     ]
    },
    {
     "name": "stderr",
     "output_type": "stream",
     "text": [
      "/home/s2959607/.local/lib/python3.7/site-packages/deepsnap/graph.py:2126: UserWarning: __floordiv__ is deprecated, and its behavior will change in a future version of pytorch. It currently rounds toward 0 (like the 'trunc' function NOT 'floor'). This results in incorrect rounding for negative values. To keep the current behavior, use torch.div(a, b, rounding_mode='trunc'), or for actual floor division, use torch.div(a, b, rounding_mode='floor').\n",
      "  row = perm // num_nodes\n"
     ]
    },
    {
     "name": "stdout",
     "output_type": "stream",
     "text": [
      "Epoch: 052, Train: 0.9857, Val: 0.9791, Test: 0.9804, Loss: 0.42058\n"
     ]
    },
    {
     "name": "stderr",
     "output_type": "stream",
     "text": [
      "/home/s2959607/.local/lib/python3.7/site-packages/deepsnap/graph.py:2126: UserWarning: __floordiv__ is deprecated, and its behavior will change in a future version of pytorch. It currently rounds toward 0 (like the 'trunc' function NOT 'floor'). This results in incorrect rounding for negative values. To keep the current behavior, use torch.div(a, b, rounding_mode='trunc'), or for actual floor division, use torch.div(a, b, rounding_mode='floor').\n",
      "  row = perm // num_nodes\n"
     ]
    },
    {
     "name": "stdout",
     "output_type": "stream",
     "text": [
      "Epoch: 053, Train: 0.9863, Val: 0.9793, Test: 0.9805, Loss: 0.42117\n"
     ]
    },
    {
     "name": "stderr",
     "output_type": "stream",
     "text": [
      "/home/s2959607/.local/lib/python3.7/site-packages/deepsnap/graph.py:2126: UserWarning: __floordiv__ is deprecated, and its behavior will change in a future version of pytorch. It currently rounds toward 0 (like the 'trunc' function NOT 'floor'). This results in incorrect rounding for negative values. To keep the current behavior, use torch.div(a, b, rounding_mode='trunc'), or for actual floor division, use torch.div(a, b, rounding_mode='floor').\n",
      "  row = perm // num_nodes\n"
     ]
    },
    {
     "name": "stdout",
     "output_type": "stream",
     "text": [
      "Epoch: 054, Train: 0.9864, Val: 0.9795, Test: 0.9806, Loss: 0.42126\n"
     ]
    },
    {
     "name": "stderr",
     "output_type": "stream",
     "text": [
      "/home/s2959607/.local/lib/python3.7/site-packages/deepsnap/graph.py:2126: UserWarning: __floordiv__ is deprecated, and its behavior will change in a future version of pytorch. It currently rounds toward 0 (like the 'trunc' function NOT 'floor'). This results in incorrect rounding for negative values. To keep the current behavior, use torch.div(a, b, rounding_mode='trunc'), or for actual floor division, use torch.div(a, b, rounding_mode='floor').\n",
      "  row = perm // num_nodes\n"
     ]
    },
    {
     "name": "stdout",
     "output_type": "stream",
     "text": [
      "Epoch: 055, Train: 0.9866, Val: 0.9797, Test: 0.9807, Loss: 0.42072\n"
     ]
    },
    {
     "name": "stderr",
     "output_type": "stream",
     "text": [
      "/home/s2959607/.local/lib/python3.7/site-packages/deepsnap/graph.py:2126: UserWarning: __floordiv__ is deprecated, and its behavior will change in a future version of pytorch. It currently rounds toward 0 (like the 'trunc' function NOT 'floor'). This results in incorrect rounding for negative values. To keep the current behavior, use torch.div(a, b, rounding_mode='trunc'), or for actual floor division, use torch.div(a, b, rounding_mode='floor').\n",
      "  row = perm // num_nodes\n"
     ]
    },
    {
     "name": "stdout",
     "output_type": "stream",
     "text": [
      "Epoch: 056, Train: 0.9870, Val: 0.9799, Test: 0.9809, Loss: 0.42059\n"
     ]
    },
    {
     "name": "stderr",
     "output_type": "stream",
     "text": [
      "/home/s2959607/.local/lib/python3.7/site-packages/deepsnap/graph.py:2126: UserWarning: __floordiv__ is deprecated, and its behavior will change in a future version of pytorch. It currently rounds toward 0 (like the 'trunc' function NOT 'floor'). This results in incorrect rounding for negative values. To keep the current behavior, use torch.div(a, b, rounding_mode='trunc'), or for actual floor division, use torch.div(a, b, rounding_mode='floor').\n",
      "  row = perm // num_nodes\n"
     ]
    },
    {
     "name": "stdout",
     "output_type": "stream",
     "text": [
      "Epoch: 057, Train: 0.9867, Val: 0.9801, Test: 0.9810, Loss: 0.41771\n"
     ]
    },
    {
     "name": "stderr",
     "output_type": "stream",
     "text": [
      "/home/s2959607/.local/lib/python3.7/site-packages/deepsnap/graph.py:2126: UserWarning: __floordiv__ is deprecated, and its behavior will change in a future version of pytorch. It currently rounds toward 0 (like the 'trunc' function NOT 'floor'). This results in incorrect rounding for negative values. To keep the current behavior, use torch.div(a, b, rounding_mode='trunc'), or for actual floor division, use torch.div(a, b, rounding_mode='floor').\n",
      "  row = perm // num_nodes\n"
     ]
    },
    {
     "name": "stdout",
     "output_type": "stream",
     "text": [
      "Epoch: 058, Train: 0.9872, Val: 0.9803, Test: 0.9812, Loss: 0.41726\n"
     ]
    },
    {
     "name": "stderr",
     "output_type": "stream",
     "text": [
      "/home/s2959607/.local/lib/python3.7/site-packages/deepsnap/graph.py:2126: UserWarning: __floordiv__ is deprecated, and its behavior will change in a future version of pytorch. It currently rounds toward 0 (like the 'trunc' function NOT 'floor'). This results in incorrect rounding for negative values. To keep the current behavior, use torch.div(a, b, rounding_mode='trunc'), or for actual floor division, use torch.div(a, b, rounding_mode='floor').\n",
      "  row = perm // num_nodes\n"
     ]
    },
    {
     "name": "stdout",
     "output_type": "stream",
     "text": [
      "Epoch: 059, Train: 0.9877, Val: 0.9806, Test: 0.9813, Loss: 0.41625\n"
     ]
    },
    {
     "name": "stderr",
     "output_type": "stream",
     "text": [
      "/home/s2959607/.local/lib/python3.7/site-packages/deepsnap/graph.py:2126: UserWarning: __floordiv__ is deprecated, and its behavior will change in a future version of pytorch. It currently rounds toward 0 (like the 'trunc' function NOT 'floor'). This results in incorrect rounding for negative values. To keep the current behavior, use torch.div(a, b, rounding_mode='trunc'), or for actual floor division, use torch.div(a, b, rounding_mode='floor').\n",
      "  row = perm // num_nodes\n"
     ]
    },
    {
     "name": "stdout",
     "output_type": "stream",
     "text": [
      "Epoch: 060, Train: 0.9872, Val: 0.9808, Test: 0.9814, Loss: 0.41583\n"
     ]
    },
    {
     "name": "stderr",
     "output_type": "stream",
     "text": [
      "/home/s2959607/.local/lib/python3.7/site-packages/deepsnap/graph.py:2126: UserWarning: __floordiv__ is deprecated, and its behavior will change in a future version of pytorch. It currently rounds toward 0 (like the 'trunc' function NOT 'floor'). This results in incorrect rounding for negative values. To keep the current behavior, use torch.div(a, b, rounding_mode='trunc'), or for actual floor division, use torch.div(a, b, rounding_mode='floor').\n",
      "  row = perm // num_nodes\n"
     ]
    },
    {
     "name": "stdout",
     "output_type": "stream",
     "text": [
      "Epoch: 061, Train: 0.9882, Val: 0.9810, Test: 0.9816, Loss: 0.41600\n"
     ]
    },
    {
     "name": "stderr",
     "output_type": "stream",
     "text": [
      "/home/s2959607/.local/lib/python3.7/site-packages/deepsnap/graph.py:2126: UserWarning: __floordiv__ is deprecated, and its behavior will change in a future version of pytorch. It currently rounds toward 0 (like the 'trunc' function NOT 'floor'). This results in incorrect rounding for negative values. To keep the current behavior, use torch.div(a, b, rounding_mode='trunc'), or for actual floor division, use torch.div(a, b, rounding_mode='floor').\n",
      "  row = perm // num_nodes\n"
     ]
    },
    {
     "name": "stdout",
     "output_type": "stream",
     "text": [
      "Epoch: 062, Train: 0.9882, Val: 0.9812, Test: 0.9817, Loss: 0.41582\n"
     ]
    },
    {
     "name": "stderr",
     "output_type": "stream",
     "text": [
      "/home/s2959607/.local/lib/python3.7/site-packages/deepsnap/graph.py:2126: UserWarning: __floordiv__ is deprecated, and its behavior will change in a future version of pytorch. It currently rounds toward 0 (like the 'trunc' function NOT 'floor'). This results in incorrect rounding for negative values. To keep the current behavior, use torch.div(a, b, rounding_mode='trunc'), or for actual floor division, use torch.div(a, b, rounding_mode='floor').\n",
      "  row = perm // num_nodes\n"
     ]
    },
    {
     "name": "stdout",
     "output_type": "stream",
     "text": [
      "Epoch: 063, Train: 0.9882, Val: 0.9813, Test: 0.9818, Loss: 0.41428\n"
     ]
    },
    {
     "name": "stderr",
     "output_type": "stream",
     "text": [
      "/home/s2959607/.local/lib/python3.7/site-packages/deepsnap/graph.py:2126: UserWarning: __floordiv__ is deprecated, and its behavior will change in a future version of pytorch. It currently rounds toward 0 (like the 'trunc' function NOT 'floor'). This results in incorrect rounding for negative values. To keep the current behavior, use torch.div(a, b, rounding_mode='trunc'), or for actual floor division, use torch.div(a, b, rounding_mode='floor').\n",
      "  row = perm // num_nodes\n"
     ]
    },
    {
     "name": "stdout",
     "output_type": "stream",
     "text": [
      "Epoch: 064, Train: 0.9883, Val: 0.9815, Test: 0.9819, Loss: 0.41375\n"
     ]
    },
    {
     "name": "stderr",
     "output_type": "stream",
     "text": [
      "/home/s2959607/.local/lib/python3.7/site-packages/deepsnap/graph.py:2126: UserWarning: __floordiv__ is deprecated, and its behavior will change in a future version of pytorch. It currently rounds toward 0 (like the 'trunc' function NOT 'floor'). This results in incorrect rounding for negative values. To keep the current behavior, use torch.div(a, b, rounding_mode='trunc'), or for actual floor division, use torch.div(a, b, rounding_mode='floor').\n",
      "  row = perm // num_nodes\n"
     ]
    },
    {
     "name": "stdout",
     "output_type": "stream",
     "text": [
      "Epoch: 065, Train: 0.9887, Val: 0.9817, Test: 0.9821, Loss: 0.41341\n"
     ]
    },
    {
     "name": "stderr",
     "output_type": "stream",
     "text": [
      "/home/s2959607/.local/lib/python3.7/site-packages/deepsnap/graph.py:2126: UserWarning: __floordiv__ is deprecated, and its behavior will change in a future version of pytorch. It currently rounds toward 0 (like the 'trunc' function NOT 'floor'). This results in incorrect rounding for negative values. To keep the current behavior, use torch.div(a, b, rounding_mode='trunc'), or for actual floor division, use torch.div(a, b, rounding_mode='floor').\n",
      "  row = perm // num_nodes\n"
     ]
    },
    {
     "name": "stdout",
     "output_type": "stream",
     "text": [
      "Epoch: 066, Train: 0.9884, Val: 0.9819, Test: 0.9822, Loss: 0.41322\n"
     ]
    },
    {
     "name": "stderr",
     "output_type": "stream",
     "text": [
      "/home/s2959607/.local/lib/python3.7/site-packages/deepsnap/graph.py:2126: UserWarning: __floordiv__ is deprecated, and its behavior will change in a future version of pytorch. It currently rounds toward 0 (like the 'trunc' function NOT 'floor'). This results in incorrect rounding for negative values. To keep the current behavior, use torch.div(a, b, rounding_mode='trunc'), or for actual floor division, use torch.div(a, b, rounding_mode='floor').\n",
      "  row = perm // num_nodes\n"
     ]
    },
    {
     "name": "stdout",
     "output_type": "stream",
     "text": [
      "Epoch: 067, Train: 0.9889, Val: 0.9820, Test: 0.9824, Loss: 0.41121\n"
     ]
    },
    {
     "name": "stderr",
     "output_type": "stream",
     "text": [
      "/home/s2959607/.local/lib/python3.7/site-packages/deepsnap/graph.py:2126: UserWarning: __floordiv__ is deprecated, and its behavior will change in a future version of pytorch. It currently rounds toward 0 (like the 'trunc' function NOT 'floor'). This results in incorrect rounding for negative values. To keep the current behavior, use torch.div(a, b, rounding_mode='trunc'), or for actual floor division, use torch.div(a, b, rounding_mode='floor').\n",
      "  row = perm // num_nodes\n"
     ]
    },
    {
     "name": "stdout",
     "output_type": "stream",
     "text": [
      "Epoch: 068, Train: 0.9892, Val: 0.9821, Test: 0.9825, Loss: 0.41191\n"
     ]
    },
    {
     "name": "stderr",
     "output_type": "stream",
     "text": [
      "/home/s2959607/.local/lib/python3.7/site-packages/deepsnap/graph.py:2126: UserWarning: __floordiv__ is deprecated, and its behavior will change in a future version of pytorch. It currently rounds toward 0 (like the 'trunc' function NOT 'floor'). This results in incorrect rounding for negative values. To keep the current behavior, use torch.div(a, b, rounding_mode='trunc'), or for actual floor division, use torch.div(a, b, rounding_mode='floor').\n",
      "  row = perm // num_nodes\n"
     ]
    },
    {
     "name": "stdout",
     "output_type": "stream",
     "text": [
      "Epoch: 069, Train: 0.9895, Val: 0.9823, Test: 0.9826, Loss: 0.41085\n"
     ]
    },
    {
     "name": "stderr",
     "output_type": "stream",
     "text": [
      "/home/s2959607/.local/lib/python3.7/site-packages/deepsnap/graph.py:2126: UserWarning: __floordiv__ is deprecated, and its behavior will change in a future version of pytorch. It currently rounds toward 0 (like the 'trunc' function NOT 'floor'). This results in incorrect rounding for negative values. To keep the current behavior, use torch.div(a, b, rounding_mode='trunc'), or for actual floor division, use torch.div(a, b, rounding_mode='floor').\n",
      "  row = perm // num_nodes\n"
     ]
    },
    {
     "name": "stdout",
     "output_type": "stream",
     "text": [
      "Epoch: 070, Train: 0.9893, Val: 0.9824, Test: 0.9828, Loss: 0.41109\n"
     ]
    },
    {
     "name": "stderr",
     "output_type": "stream",
     "text": [
      "/home/s2959607/.local/lib/python3.7/site-packages/deepsnap/graph.py:2126: UserWarning: __floordiv__ is deprecated, and its behavior will change in a future version of pytorch. It currently rounds toward 0 (like the 'trunc' function NOT 'floor'). This results in incorrect rounding for negative values. To keep the current behavior, use torch.div(a, b, rounding_mode='trunc'), or for actual floor division, use torch.div(a, b, rounding_mode='floor').\n",
      "  row = perm // num_nodes\n"
     ]
    },
    {
     "name": "stdout",
     "output_type": "stream",
     "text": [
      "Epoch: 071, Train: 0.9895, Val: 0.9826, Test: 0.9829, Loss: 0.41001\n"
     ]
    },
    {
     "name": "stderr",
     "output_type": "stream",
     "text": [
      "/home/s2959607/.local/lib/python3.7/site-packages/deepsnap/graph.py:2126: UserWarning: __floordiv__ is deprecated, and its behavior will change in a future version of pytorch. It currently rounds toward 0 (like the 'trunc' function NOT 'floor'). This results in incorrect rounding for negative values. To keep the current behavior, use torch.div(a, b, rounding_mode='trunc'), or for actual floor division, use torch.div(a, b, rounding_mode='floor').\n",
      "  row = perm // num_nodes\n"
     ]
    },
    {
     "name": "stdout",
     "output_type": "stream",
     "text": [
      "Epoch: 072, Train: 0.9896, Val: 0.9827, Test: 0.9830, Loss: 0.41081\n"
     ]
    },
    {
     "name": "stderr",
     "output_type": "stream",
     "text": [
      "/home/s2959607/.local/lib/python3.7/site-packages/deepsnap/graph.py:2126: UserWarning: __floordiv__ is deprecated, and its behavior will change in a future version of pytorch. It currently rounds toward 0 (like the 'trunc' function NOT 'floor'). This results in incorrect rounding for negative values. To keep the current behavior, use torch.div(a, b, rounding_mode='trunc'), or for actual floor division, use torch.div(a, b, rounding_mode='floor').\n",
      "  row = perm // num_nodes\n"
     ]
    },
    {
     "name": "stdout",
     "output_type": "stream",
     "text": [
      "Epoch: 073, Train: 0.9896, Val: 0.9828, Test: 0.9831, Loss: 0.40993\n"
     ]
    },
    {
     "name": "stderr",
     "output_type": "stream",
     "text": [
      "/home/s2959607/.local/lib/python3.7/site-packages/deepsnap/graph.py:2126: UserWarning: __floordiv__ is deprecated, and its behavior will change in a future version of pytorch. It currently rounds toward 0 (like the 'trunc' function NOT 'floor'). This results in incorrect rounding for negative values. To keep the current behavior, use torch.div(a, b, rounding_mode='trunc'), or for actual floor division, use torch.div(a, b, rounding_mode='floor').\n",
      "  row = perm // num_nodes\n"
     ]
    },
    {
     "name": "stdout",
     "output_type": "stream",
     "text": [
      "Epoch: 074, Train: 0.9897, Val: 0.9829, Test: 0.9832, Loss: 0.40910\n"
     ]
    },
    {
     "name": "stderr",
     "output_type": "stream",
     "text": [
      "/home/s2959607/.local/lib/python3.7/site-packages/deepsnap/graph.py:2126: UserWarning: __floordiv__ is deprecated, and its behavior will change in a future version of pytorch. It currently rounds toward 0 (like the 'trunc' function NOT 'floor'). This results in incorrect rounding for negative values. To keep the current behavior, use torch.div(a, b, rounding_mode='trunc'), or for actual floor division, use torch.div(a, b, rounding_mode='floor').\n",
      "  row = perm // num_nodes\n"
     ]
    },
    {
     "name": "stdout",
     "output_type": "stream",
     "text": [
      "Epoch: 075, Train: 0.9902, Val: 0.9830, Test: 0.9833, Loss: 0.40858\n"
     ]
    },
    {
     "name": "stderr",
     "output_type": "stream",
     "text": [
      "/home/s2959607/.local/lib/python3.7/site-packages/deepsnap/graph.py:2126: UserWarning: __floordiv__ is deprecated, and its behavior will change in a future version of pytorch. It currently rounds toward 0 (like the 'trunc' function NOT 'floor'). This results in incorrect rounding for negative values. To keep the current behavior, use torch.div(a, b, rounding_mode='trunc'), or for actual floor division, use torch.div(a, b, rounding_mode='floor').\n",
      "  row = perm // num_nodes\n"
     ]
    },
    {
     "name": "stdout",
     "output_type": "stream",
     "text": [
      "Epoch: 076, Train: 0.9905, Val: 0.9831, Test: 0.9834, Loss: 0.40854\n"
     ]
    },
    {
     "name": "stderr",
     "output_type": "stream",
     "text": [
      "/home/s2959607/.local/lib/python3.7/site-packages/deepsnap/graph.py:2126: UserWarning: __floordiv__ is deprecated, and its behavior will change in a future version of pytorch. It currently rounds toward 0 (like the 'trunc' function NOT 'floor'). This results in incorrect rounding for negative values. To keep the current behavior, use torch.div(a, b, rounding_mode='trunc'), or for actual floor division, use torch.div(a, b, rounding_mode='floor').\n",
      "  row = perm // num_nodes\n"
     ]
    },
    {
     "name": "stdout",
     "output_type": "stream",
     "text": [
      "Epoch: 077, Train: 0.9899, Val: 0.9832, Test: 0.9835, Loss: 0.40883\n"
     ]
    },
    {
     "name": "stderr",
     "output_type": "stream",
     "text": [
      "/home/s2959607/.local/lib/python3.7/site-packages/deepsnap/graph.py:2126: UserWarning: __floordiv__ is deprecated, and its behavior will change in a future version of pytorch. It currently rounds toward 0 (like the 'trunc' function NOT 'floor'). This results in incorrect rounding for negative values. To keep the current behavior, use torch.div(a, b, rounding_mode='trunc'), or for actual floor division, use torch.div(a, b, rounding_mode='floor').\n",
      "  row = perm // num_nodes\n"
     ]
    },
    {
     "name": "stdout",
     "output_type": "stream",
     "text": [
      "Epoch: 078, Train: 0.9902, Val: 0.9832, Test: 0.9836, Loss: 0.40912\n"
     ]
    },
    {
     "name": "stderr",
     "output_type": "stream",
     "text": [
      "/home/s2959607/.local/lib/python3.7/site-packages/deepsnap/graph.py:2126: UserWarning: __floordiv__ is deprecated, and its behavior will change in a future version of pytorch. It currently rounds toward 0 (like the 'trunc' function NOT 'floor'). This results in incorrect rounding for negative values. To keep the current behavior, use torch.div(a, b, rounding_mode='trunc'), or for actual floor division, use torch.div(a, b, rounding_mode='floor').\n",
      "  row = perm // num_nodes\n"
     ]
    },
    {
     "name": "stdout",
     "output_type": "stream",
     "text": [
      "Epoch: 079, Train: 0.9904, Val: 0.9833, Test: 0.9837, Loss: 0.40662\n"
     ]
    },
    {
     "name": "stderr",
     "output_type": "stream",
     "text": [
      "/home/s2959607/.local/lib/python3.7/site-packages/deepsnap/graph.py:2126: UserWarning: __floordiv__ is deprecated, and its behavior will change in a future version of pytorch. It currently rounds toward 0 (like the 'trunc' function NOT 'floor'). This results in incorrect rounding for negative values. To keep the current behavior, use torch.div(a, b, rounding_mode='trunc'), or for actual floor division, use torch.div(a, b, rounding_mode='floor').\n",
      "  row = perm // num_nodes\n"
     ]
    },
    {
     "name": "stdout",
     "output_type": "stream",
     "text": [
      "Epoch: 080, Train: 0.9904, Val: 0.9834, Test: 0.9838, Loss: 0.40598\n"
     ]
    },
    {
     "name": "stderr",
     "output_type": "stream",
     "text": [
      "/home/s2959607/.local/lib/python3.7/site-packages/deepsnap/graph.py:2126: UserWarning: __floordiv__ is deprecated, and its behavior will change in a future version of pytorch. It currently rounds toward 0 (like the 'trunc' function NOT 'floor'). This results in incorrect rounding for negative values. To keep the current behavior, use torch.div(a, b, rounding_mode='trunc'), or for actual floor division, use torch.div(a, b, rounding_mode='floor').\n",
      "  row = perm // num_nodes\n"
     ]
    },
    {
     "name": "stdout",
     "output_type": "stream",
     "text": [
      "Epoch: 081, Train: 0.9908, Val: 0.9835, Test: 0.9839, Loss: 0.40712\n"
     ]
    },
    {
     "name": "stderr",
     "output_type": "stream",
     "text": [
      "/home/s2959607/.local/lib/python3.7/site-packages/deepsnap/graph.py:2126: UserWarning: __floordiv__ is deprecated, and its behavior will change in a future version of pytorch. It currently rounds toward 0 (like the 'trunc' function NOT 'floor'). This results in incorrect rounding for negative values. To keep the current behavior, use torch.div(a, b, rounding_mode='trunc'), or for actual floor division, use torch.div(a, b, rounding_mode='floor').\n",
      "  row = perm // num_nodes\n"
     ]
    },
    {
     "name": "stdout",
     "output_type": "stream",
     "text": [
      "Epoch: 082, Train: 0.9908, Val: 0.9836, Test: 0.9840, Loss: 0.40730\n"
     ]
    },
    {
     "name": "stderr",
     "output_type": "stream",
     "text": [
      "/home/s2959607/.local/lib/python3.7/site-packages/deepsnap/graph.py:2126: UserWarning: __floordiv__ is deprecated, and its behavior will change in a future version of pytorch. It currently rounds toward 0 (like the 'trunc' function NOT 'floor'). This results in incorrect rounding for negative values. To keep the current behavior, use torch.div(a, b, rounding_mode='trunc'), or for actual floor division, use torch.div(a, b, rounding_mode='floor').\n",
      "  row = perm // num_nodes\n"
     ]
    },
    {
     "name": "stdout",
     "output_type": "stream",
     "text": [
      "Epoch: 083, Train: 0.9908, Val: 0.9837, Test: 0.9841, Loss: 0.40589\n"
     ]
    },
    {
     "name": "stderr",
     "output_type": "stream",
     "text": [
      "/home/s2959607/.local/lib/python3.7/site-packages/deepsnap/graph.py:2126: UserWarning: __floordiv__ is deprecated, and its behavior will change in a future version of pytorch. It currently rounds toward 0 (like the 'trunc' function NOT 'floor'). This results in incorrect rounding for negative values. To keep the current behavior, use torch.div(a, b, rounding_mode='trunc'), or for actual floor division, use torch.div(a, b, rounding_mode='floor').\n",
      "  row = perm // num_nodes\n"
     ]
    },
    {
     "name": "stdout",
     "output_type": "stream",
     "text": [
      "Epoch: 084, Train: 0.9910, Val: 0.9838, Test: 0.9842, Loss: 0.40543\n"
     ]
    },
    {
     "name": "stderr",
     "output_type": "stream",
     "text": [
      "/home/s2959607/.local/lib/python3.7/site-packages/deepsnap/graph.py:2126: UserWarning: __floordiv__ is deprecated, and its behavior will change in a future version of pytorch. It currently rounds toward 0 (like the 'trunc' function NOT 'floor'). This results in incorrect rounding for negative values. To keep the current behavior, use torch.div(a, b, rounding_mode='trunc'), or for actual floor division, use torch.div(a, b, rounding_mode='floor').\n",
      "  row = perm // num_nodes\n"
     ]
    },
    {
     "name": "stdout",
     "output_type": "stream",
     "text": [
      "Epoch: 085, Train: 0.9910, Val: 0.9839, Test: 0.9843, Loss: 0.40488\n"
     ]
    },
    {
     "name": "stderr",
     "output_type": "stream",
     "text": [
      "/home/s2959607/.local/lib/python3.7/site-packages/deepsnap/graph.py:2126: UserWarning: __floordiv__ is deprecated, and its behavior will change in a future version of pytorch. It currently rounds toward 0 (like the 'trunc' function NOT 'floor'). This results in incorrect rounding for negative values. To keep the current behavior, use torch.div(a, b, rounding_mode='trunc'), or for actual floor division, use torch.div(a, b, rounding_mode='floor').\n",
      "  row = perm // num_nodes\n"
     ]
    },
    {
     "name": "stdout",
     "output_type": "stream",
     "text": [
      "Epoch: 086, Train: 0.9913, Val: 0.9840, Test: 0.9844, Loss: 0.40500\n"
     ]
    },
    {
     "name": "stderr",
     "output_type": "stream",
     "text": [
      "/home/s2959607/.local/lib/python3.7/site-packages/deepsnap/graph.py:2126: UserWarning: __floordiv__ is deprecated, and its behavior will change in a future version of pytorch. It currently rounds toward 0 (like the 'trunc' function NOT 'floor'). This results in incorrect rounding for negative values. To keep the current behavior, use torch.div(a, b, rounding_mode='trunc'), or for actual floor division, use torch.div(a, b, rounding_mode='floor').\n",
      "  row = perm // num_nodes\n"
     ]
    },
    {
     "name": "stdout",
     "output_type": "stream",
     "text": [
      "Epoch: 087, Train: 0.9914, Val: 0.9841, Test: 0.9845, Loss: 0.40417\n"
     ]
    },
    {
     "name": "stderr",
     "output_type": "stream",
     "text": [
      "/home/s2959607/.local/lib/python3.7/site-packages/deepsnap/graph.py:2126: UserWarning: __floordiv__ is deprecated, and its behavior will change in a future version of pytorch. It currently rounds toward 0 (like the 'trunc' function NOT 'floor'). This results in incorrect rounding for negative values. To keep the current behavior, use torch.div(a, b, rounding_mode='trunc'), or for actual floor division, use torch.div(a, b, rounding_mode='floor').\n",
      "  row = perm // num_nodes\n"
     ]
    },
    {
     "name": "stdout",
     "output_type": "stream",
     "text": [
      "Epoch: 088, Train: 0.9911, Val: 0.9841, Test: 0.9846, Loss: 0.40487\n"
     ]
    },
    {
     "name": "stderr",
     "output_type": "stream",
     "text": [
      "/home/s2959607/.local/lib/python3.7/site-packages/deepsnap/graph.py:2126: UserWarning: __floordiv__ is deprecated, and its behavior will change in a future version of pytorch. It currently rounds toward 0 (like the 'trunc' function NOT 'floor'). This results in incorrect rounding for negative values. To keep the current behavior, use torch.div(a, b, rounding_mode='trunc'), or for actual floor division, use torch.div(a, b, rounding_mode='floor').\n",
      "  row = perm // num_nodes\n"
     ]
    },
    {
     "name": "stdout",
     "output_type": "stream",
     "text": [
      "Epoch: 089, Train: 0.9915, Val: 0.9842, Test: 0.9846, Loss: 0.40640\n"
     ]
    },
    {
     "name": "stderr",
     "output_type": "stream",
     "text": [
      "/home/s2959607/.local/lib/python3.7/site-packages/deepsnap/graph.py:2126: UserWarning: __floordiv__ is deprecated, and its behavior will change in a future version of pytorch. It currently rounds toward 0 (like the 'trunc' function NOT 'floor'). This results in incorrect rounding for negative values. To keep the current behavior, use torch.div(a, b, rounding_mode='trunc'), or for actual floor division, use torch.div(a, b, rounding_mode='floor').\n",
      "  row = perm // num_nodes\n"
     ]
    },
    {
     "name": "stdout",
     "output_type": "stream",
     "text": [
      "Epoch: 090, Train: 0.9913, Val: 0.9843, Test: 0.9847, Loss: 0.40429\n"
     ]
    },
    {
     "name": "stderr",
     "output_type": "stream",
     "text": [
      "/home/s2959607/.local/lib/python3.7/site-packages/deepsnap/graph.py:2126: UserWarning: __floordiv__ is deprecated, and its behavior will change in a future version of pytorch. It currently rounds toward 0 (like the 'trunc' function NOT 'floor'). This results in incorrect rounding for negative values. To keep the current behavior, use torch.div(a, b, rounding_mode='trunc'), or for actual floor division, use torch.div(a, b, rounding_mode='floor').\n",
      "  row = perm // num_nodes\n"
     ]
    },
    {
     "name": "stdout",
     "output_type": "stream",
     "text": [
      "Epoch: 091, Train: 0.9915, Val: 0.9844, Test: 0.9848, Loss: 0.40414\n"
     ]
    },
    {
     "name": "stderr",
     "output_type": "stream",
     "text": [
      "/home/s2959607/.local/lib/python3.7/site-packages/deepsnap/graph.py:2126: UserWarning: __floordiv__ is deprecated, and its behavior will change in a future version of pytorch. It currently rounds toward 0 (like the 'trunc' function NOT 'floor'). This results in incorrect rounding for negative values. To keep the current behavior, use torch.div(a, b, rounding_mode='trunc'), or for actual floor division, use torch.div(a, b, rounding_mode='floor').\n",
      "  row = perm // num_nodes\n"
     ]
    },
    {
     "name": "stdout",
     "output_type": "stream",
     "text": [
      "Epoch: 092, Train: 0.9915, Val: 0.9845, Test: 0.9849, Loss: 0.40331\n"
     ]
    },
    {
     "name": "stderr",
     "output_type": "stream",
     "text": [
      "/home/s2959607/.local/lib/python3.7/site-packages/deepsnap/graph.py:2126: UserWarning: __floordiv__ is deprecated, and its behavior will change in a future version of pytorch. It currently rounds toward 0 (like the 'trunc' function NOT 'floor'). This results in incorrect rounding for negative values. To keep the current behavior, use torch.div(a, b, rounding_mode='trunc'), or for actual floor division, use torch.div(a, b, rounding_mode='floor').\n",
      "  row = perm // num_nodes\n"
     ]
    },
    {
     "name": "stdout",
     "output_type": "stream",
     "text": [
      "Epoch: 093, Train: 0.9916, Val: 0.9846, Test: 0.9850, Loss: 0.40255\n"
     ]
    },
    {
     "name": "stderr",
     "output_type": "stream",
     "text": [
      "/home/s2959607/.local/lib/python3.7/site-packages/deepsnap/graph.py:2126: UserWarning: __floordiv__ is deprecated, and its behavior will change in a future version of pytorch. It currently rounds toward 0 (like the 'trunc' function NOT 'floor'). This results in incorrect rounding for negative values. To keep the current behavior, use torch.div(a, b, rounding_mode='trunc'), or for actual floor division, use torch.div(a, b, rounding_mode='floor').\n",
      "  row = perm // num_nodes\n"
     ]
    },
    {
     "name": "stdout",
     "output_type": "stream",
     "text": [
      "Epoch: 094, Train: 0.9916, Val: 0.9846, Test: 0.9851, Loss: 0.40362\n"
     ]
    },
    {
     "name": "stderr",
     "output_type": "stream",
     "text": [
      "/home/s2959607/.local/lib/python3.7/site-packages/deepsnap/graph.py:2126: UserWarning: __floordiv__ is deprecated, and its behavior will change in a future version of pytorch. It currently rounds toward 0 (like the 'trunc' function NOT 'floor'). This results in incorrect rounding for negative values. To keep the current behavior, use torch.div(a, b, rounding_mode='trunc'), or for actual floor division, use torch.div(a, b, rounding_mode='floor').\n",
      "  row = perm // num_nodes\n"
     ]
    },
    {
     "name": "stdout",
     "output_type": "stream",
     "text": [
      "Epoch: 095, Train: 0.9919, Val: 0.9847, Test: 0.9851, Loss: 0.40422\n"
     ]
    },
    {
     "name": "stderr",
     "output_type": "stream",
     "text": [
      "/home/s2959607/.local/lib/python3.7/site-packages/deepsnap/graph.py:2126: UserWarning: __floordiv__ is deprecated, and its behavior will change in a future version of pytorch. It currently rounds toward 0 (like the 'trunc' function NOT 'floor'). This results in incorrect rounding for negative values. To keep the current behavior, use torch.div(a, b, rounding_mode='trunc'), or for actual floor division, use torch.div(a, b, rounding_mode='floor').\n",
      "  row = perm // num_nodes\n"
     ]
    },
    {
     "name": "stdout",
     "output_type": "stream",
     "text": [
      "Epoch: 096, Train: 0.9920, Val: 0.9848, Test: 0.9852, Loss: 0.40281\n"
     ]
    },
    {
     "name": "stderr",
     "output_type": "stream",
     "text": [
      "/home/s2959607/.local/lib/python3.7/site-packages/deepsnap/graph.py:2126: UserWarning: __floordiv__ is deprecated, and its behavior will change in a future version of pytorch. It currently rounds toward 0 (like the 'trunc' function NOT 'floor'). This results in incorrect rounding for negative values. To keep the current behavior, use torch.div(a, b, rounding_mode='trunc'), or for actual floor division, use torch.div(a, b, rounding_mode='floor').\n",
      "  row = perm // num_nodes\n"
     ]
    },
    {
     "name": "stdout",
     "output_type": "stream",
     "text": [
      "Epoch: 097, Train: 0.9921, Val: 0.9848, Test: 0.9852, Loss: 0.40293\n"
     ]
    },
    {
     "name": "stderr",
     "output_type": "stream",
     "text": [
      "/home/s2959607/.local/lib/python3.7/site-packages/deepsnap/graph.py:2126: UserWarning: __floordiv__ is deprecated, and its behavior will change in a future version of pytorch. It currently rounds toward 0 (like the 'trunc' function NOT 'floor'). This results in incorrect rounding for negative values. To keep the current behavior, use torch.div(a, b, rounding_mode='trunc'), or for actual floor division, use torch.div(a, b, rounding_mode='floor').\n",
      "  row = perm // num_nodes\n"
     ]
    },
    {
     "name": "stdout",
     "output_type": "stream",
     "text": [
      "Epoch: 098, Train: 0.9919, Val: 0.9849, Test: 0.9853, Loss: 0.40262\n"
     ]
    },
    {
     "name": "stderr",
     "output_type": "stream",
     "text": [
      "/home/s2959607/.local/lib/python3.7/site-packages/deepsnap/graph.py:2126: UserWarning: __floordiv__ is deprecated, and its behavior will change in a future version of pytorch. It currently rounds toward 0 (like the 'trunc' function NOT 'floor'). This results in incorrect rounding for negative values. To keep the current behavior, use torch.div(a, b, rounding_mode='trunc'), or for actual floor division, use torch.div(a, b, rounding_mode='floor').\n",
      "  row = perm // num_nodes\n"
     ]
    },
    {
     "name": "stdout",
     "output_type": "stream",
     "text": [
      "Epoch: 099, Train: 0.9922, Val: 0.9849, Test: 0.9853, Loss: 0.40233\n"
     ]
    },
    {
     "name": "stderr",
     "output_type": "stream",
     "text": [
      "/home/s2959607/.local/lib/python3.7/site-packages/deepsnap/graph.py:2126: UserWarning: __floordiv__ is deprecated, and its behavior will change in a future version of pytorch. It currently rounds toward 0 (like the 'trunc' function NOT 'floor'). This results in incorrect rounding for negative values. To keep the current behavior, use torch.div(a, b, rounding_mode='trunc'), or for actual floor division, use torch.div(a, b, rounding_mode='floor').\n",
      "  row = perm // num_nodes\n"
     ]
    },
    {
     "name": "stdout",
     "output_type": "stream",
     "text": [
      "Epoch: 100, Train: 0.9920, Val: 0.9849, Test: 0.9854, Loss: 0.40204\n"
     ]
    },
    {
     "name": "stderr",
     "output_type": "stream",
     "text": [
      "/home/s2959607/.local/lib/python3.7/site-packages/deepsnap/graph.py:2126: UserWarning: __floordiv__ is deprecated, and its behavior will change in a future version of pytorch. It currently rounds toward 0 (like the 'trunc' function NOT 'floor'). This results in incorrect rounding for negative values. To keep the current behavior, use torch.div(a, b, rounding_mode='trunc'), or for actual floor division, use torch.div(a, b, rounding_mode='floor').\n",
      "  row = perm // num_nodes\n"
     ]
    },
    {
     "name": "stdout",
     "output_type": "stream",
     "text": [
      "Epoch: 101, Train: 0.9923, Val: 0.9850, Test: 0.9855, Loss: 0.40171\n"
     ]
    },
    {
     "name": "stderr",
     "output_type": "stream",
     "text": [
      "/home/s2959607/.local/lib/python3.7/site-packages/deepsnap/graph.py:2126: UserWarning: __floordiv__ is deprecated, and its behavior will change in a future version of pytorch. It currently rounds toward 0 (like the 'trunc' function NOT 'floor'). This results in incorrect rounding for negative values. To keep the current behavior, use torch.div(a, b, rounding_mode='trunc'), or for actual floor division, use torch.div(a, b, rounding_mode='floor').\n",
      "  row = perm // num_nodes\n"
     ]
    },
    {
     "name": "stdout",
     "output_type": "stream",
     "text": [
      "Epoch: 102, Train: 0.9925, Val: 0.9851, Test: 0.9855, Loss: 0.40212\n"
     ]
    },
    {
     "name": "stderr",
     "output_type": "stream",
     "text": [
      "/home/s2959607/.local/lib/python3.7/site-packages/deepsnap/graph.py:2126: UserWarning: __floordiv__ is deprecated, and its behavior will change in a future version of pytorch. It currently rounds toward 0 (like the 'trunc' function NOT 'floor'). This results in incorrect rounding for negative values. To keep the current behavior, use torch.div(a, b, rounding_mode='trunc'), or for actual floor division, use torch.div(a, b, rounding_mode='floor').\n",
      "  row = perm // num_nodes\n"
     ]
    },
    {
     "name": "stdout",
     "output_type": "stream",
     "text": [
      "Epoch: 103, Train: 0.9921, Val: 0.9851, Test: 0.9856, Loss: 0.40169\n"
     ]
    },
    {
     "name": "stderr",
     "output_type": "stream",
     "text": [
      "/home/s2959607/.local/lib/python3.7/site-packages/deepsnap/graph.py:2126: UserWarning: __floordiv__ is deprecated, and its behavior will change in a future version of pytorch. It currently rounds toward 0 (like the 'trunc' function NOT 'floor'). This results in incorrect rounding for negative values. To keep the current behavior, use torch.div(a, b, rounding_mode='trunc'), or for actual floor division, use torch.div(a, b, rounding_mode='floor').\n",
      "  row = perm // num_nodes\n"
     ]
    },
    {
     "name": "stdout",
     "output_type": "stream",
     "text": [
      "Epoch: 104, Train: 0.9924, Val: 0.9852, Test: 0.9856, Loss: 0.40253\n"
     ]
    },
    {
     "name": "stderr",
     "output_type": "stream",
     "text": [
      "/home/s2959607/.local/lib/python3.7/site-packages/deepsnap/graph.py:2126: UserWarning: __floordiv__ is deprecated, and its behavior will change in a future version of pytorch. It currently rounds toward 0 (like the 'trunc' function NOT 'floor'). This results in incorrect rounding for negative values. To keep the current behavior, use torch.div(a, b, rounding_mode='trunc'), or for actual floor division, use torch.div(a, b, rounding_mode='floor').\n",
      "  row = perm // num_nodes\n"
     ]
    },
    {
     "name": "stdout",
     "output_type": "stream",
     "text": [
      "Epoch: 105, Train: 0.9925, Val: 0.9852, Test: 0.9857, Loss: 0.40098\n"
     ]
    },
    {
     "name": "stderr",
     "output_type": "stream",
     "text": [
      "/home/s2959607/.local/lib/python3.7/site-packages/deepsnap/graph.py:2126: UserWarning: __floordiv__ is deprecated, and its behavior will change in a future version of pytorch. It currently rounds toward 0 (like the 'trunc' function NOT 'floor'). This results in incorrect rounding for negative values. To keep the current behavior, use torch.div(a, b, rounding_mode='trunc'), or for actual floor division, use torch.div(a, b, rounding_mode='floor').\n",
      "  row = perm // num_nodes\n"
     ]
    },
    {
     "name": "stdout",
     "output_type": "stream",
     "text": [
      "Epoch: 106, Train: 0.9924, Val: 0.9852, Test: 0.9857, Loss: 0.40155\n"
     ]
    },
    {
     "name": "stderr",
     "output_type": "stream",
     "text": [
      "/home/s2959607/.local/lib/python3.7/site-packages/deepsnap/graph.py:2126: UserWarning: __floordiv__ is deprecated, and its behavior will change in a future version of pytorch. It currently rounds toward 0 (like the 'trunc' function NOT 'floor'). This results in incorrect rounding for negative values. To keep the current behavior, use torch.div(a, b, rounding_mode='trunc'), or for actual floor division, use torch.div(a, b, rounding_mode='floor').\n",
      "  row = perm // num_nodes\n"
     ]
    },
    {
     "name": "stdout",
     "output_type": "stream",
     "text": [
      "Epoch: 107, Train: 0.9924, Val: 0.9853, Test: 0.9858, Loss: 0.40085\n"
     ]
    },
    {
     "name": "stderr",
     "output_type": "stream",
     "text": [
      "/home/s2959607/.local/lib/python3.7/site-packages/deepsnap/graph.py:2126: UserWarning: __floordiv__ is deprecated, and its behavior will change in a future version of pytorch. It currently rounds toward 0 (like the 'trunc' function NOT 'floor'). This results in incorrect rounding for negative values. To keep the current behavior, use torch.div(a, b, rounding_mode='trunc'), or for actual floor division, use torch.div(a, b, rounding_mode='floor').\n",
      "  row = perm // num_nodes\n"
     ]
    },
    {
     "name": "stdout",
     "output_type": "stream",
     "text": [
      "Epoch: 108, Train: 0.9927, Val: 0.9853, Test: 0.9858, Loss: 0.39990\n"
     ]
    },
    {
     "name": "stderr",
     "output_type": "stream",
     "text": [
      "/home/s2959607/.local/lib/python3.7/site-packages/deepsnap/graph.py:2126: UserWarning: __floordiv__ is deprecated, and its behavior will change in a future version of pytorch. It currently rounds toward 0 (like the 'trunc' function NOT 'floor'). This results in incorrect rounding for negative values. To keep the current behavior, use torch.div(a, b, rounding_mode='trunc'), or for actual floor division, use torch.div(a, b, rounding_mode='floor').\n",
      "  row = perm // num_nodes\n"
     ]
    },
    {
     "name": "stdout",
     "output_type": "stream",
     "text": [
      "Epoch: 109, Train: 0.9926, Val: 0.9854, Test: 0.9859, Loss: 0.40134\n"
     ]
    },
    {
     "name": "stderr",
     "output_type": "stream",
     "text": [
      "/home/s2959607/.local/lib/python3.7/site-packages/deepsnap/graph.py:2126: UserWarning: __floordiv__ is deprecated, and its behavior will change in a future version of pytorch. It currently rounds toward 0 (like the 'trunc' function NOT 'floor'). This results in incorrect rounding for negative values. To keep the current behavior, use torch.div(a, b, rounding_mode='trunc'), or for actual floor division, use torch.div(a, b, rounding_mode='floor').\n",
      "  row = perm // num_nodes\n"
     ]
    },
    {
     "name": "stdout",
     "output_type": "stream",
     "text": [
      "Epoch: 110, Train: 0.9926, Val: 0.9854, Test: 0.9859, Loss: 0.40034\n"
     ]
    },
    {
     "name": "stderr",
     "output_type": "stream",
     "text": [
      "/home/s2959607/.local/lib/python3.7/site-packages/deepsnap/graph.py:2126: UserWarning: __floordiv__ is deprecated, and its behavior will change in a future version of pytorch. It currently rounds toward 0 (like the 'trunc' function NOT 'floor'). This results in incorrect rounding for negative values. To keep the current behavior, use torch.div(a, b, rounding_mode='trunc'), or for actual floor division, use torch.div(a, b, rounding_mode='floor').\n",
      "  row = perm // num_nodes\n"
     ]
    },
    {
     "name": "stdout",
     "output_type": "stream",
     "text": [
      "Epoch: 111, Train: 0.9929, Val: 0.9854, Test: 0.9860, Loss: 0.39835\n"
     ]
    },
    {
     "name": "stderr",
     "output_type": "stream",
     "text": [
      "/home/s2959607/.local/lib/python3.7/site-packages/deepsnap/graph.py:2126: UserWarning: __floordiv__ is deprecated, and its behavior will change in a future version of pytorch. It currently rounds toward 0 (like the 'trunc' function NOT 'floor'). This results in incorrect rounding for negative values. To keep the current behavior, use torch.div(a, b, rounding_mode='trunc'), or for actual floor division, use torch.div(a, b, rounding_mode='floor').\n",
      "  row = perm // num_nodes\n"
     ]
    },
    {
     "name": "stdout",
     "output_type": "stream",
     "text": [
      "Epoch: 112, Train: 0.9927, Val: 0.9855, Test: 0.9860, Loss: 0.39999\n"
     ]
    },
    {
     "name": "stderr",
     "output_type": "stream",
     "text": [
      "/home/s2959607/.local/lib/python3.7/site-packages/deepsnap/graph.py:2126: UserWarning: __floordiv__ is deprecated, and its behavior will change in a future version of pytorch. It currently rounds toward 0 (like the 'trunc' function NOT 'floor'). This results in incorrect rounding for negative values. To keep the current behavior, use torch.div(a, b, rounding_mode='trunc'), or for actual floor division, use torch.div(a, b, rounding_mode='floor').\n",
      "  row = perm // num_nodes\n"
     ]
    },
    {
     "name": "stdout",
     "output_type": "stream",
     "text": [
      "Epoch: 113, Train: 0.9929, Val: 0.9855, Test: 0.9861, Loss: 0.40026\n"
     ]
    },
    {
     "name": "stderr",
     "output_type": "stream",
     "text": [
      "/home/s2959607/.local/lib/python3.7/site-packages/deepsnap/graph.py:2126: UserWarning: __floordiv__ is deprecated, and its behavior will change in a future version of pytorch. It currently rounds toward 0 (like the 'trunc' function NOT 'floor'). This results in incorrect rounding for negative values. To keep the current behavior, use torch.div(a, b, rounding_mode='trunc'), or for actual floor division, use torch.div(a, b, rounding_mode='floor').\n",
      "  row = perm // num_nodes\n"
     ]
    },
    {
     "name": "stdout",
     "output_type": "stream",
     "text": [
      "Epoch: 114, Train: 0.9930, Val: 0.9856, Test: 0.9861, Loss: 0.39879\n"
     ]
    },
    {
     "name": "stderr",
     "output_type": "stream",
     "text": [
      "/home/s2959607/.local/lib/python3.7/site-packages/deepsnap/graph.py:2126: UserWarning: __floordiv__ is deprecated, and its behavior will change in a future version of pytorch. It currently rounds toward 0 (like the 'trunc' function NOT 'floor'). This results in incorrect rounding for negative values. To keep the current behavior, use torch.div(a, b, rounding_mode='trunc'), or for actual floor division, use torch.div(a, b, rounding_mode='floor').\n",
      "  row = perm // num_nodes\n"
     ]
    },
    {
     "name": "stdout",
     "output_type": "stream",
     "text": [
      "Epoch: 115, Train: 0.9929, Val: 0.9856, Test: 0.9862, Loss: 0.39870\n"
     ]
    },
    {
     "name": "stderr",
     "output_type": "stream",
     "text": [
      "/home/s2959607/.local/lib/python3.7/site-packages/deepsnap/graph.py:2126: UserWarning: __floordiv__ is deprecated, and its behavior will change in a future version of pytorch. It currently rounds toward 0 (like the 'trunc' function NOT 'floor'). This results in incorrect rounding for negative values. To keep the current behavior, use torch.div(a, b, rounding_mode='trunc'), or for actual floor division, use torch.div(a, b, rounding_mode='floor').\n",
      "  row = perm // num_nodes\n"
     ]
    },
    {
     "name": "stdout",
     "output_type": "stream",
     "text": [
      "Epoch: 116, Train: 0.9929, Val: 0.9856, Test: 0.9862, Loss: 0.40002\n"
     ]
    },
    {
     "name": "stderr",
     "output_type": "stream",
     "text": [
      "/home/s2959607/.local/lib/python3.7/site-packages/deepsnap/graph.py:2126: UserWarning: __floordiv__ is deprecated, and its behavior will change in a future version of pytorch. It currently rounds toward 0 (like the 'trunc' function NOT 'floor'). This results in incorrect rounding for negative values. To keep the current behavior, use torch.div(a, b, rounding_mode='trunc'), or for actual floor division, use torch.div(a, b, rounding_mode='floor').\n",
      "  row = perm // num_nodes\n"
     ]
    },
    {
     "name": "stdout",
     "output_type": "stream",
     "text": [
      "Epoch: 117, Train: 0.9933, Val: 0.9857, Test: 0.9862, Loss: 0.39945\n"
     ]
    },
    {
     "name": "stderr",
     "output_type": "stream",
     "text": [
      "/home/s2959607/.local/lib/python3.7/site-packages/deepsnap/graph.py:2126: UserWarning: __floordiv__ is deprecated, and its behavior will change in a future version of pytorch. It currently rounds toward 0 (like the 'trunc' function NOT 'floor'). This results in incorrect rounding for negative values. To keep the current behavior, use torch.div(a, b, rounding_mode='trunc'), or for actual floor division, use torch.div(a, b, rounding_mode='floor').\n",
      "  row = perm // num_nodes\n"
     ]
    },
    {
     "name": "stdout",
     "output_type": "stream",
     "text": [
      "Epoch: 118, Train: 0.9930, Val: 0.9857, Test: 0.9863, Loss: 0.39941\n"
     ]
    },
    {
     "name": "stderr",
     "output_type": "stream",
     "text": [
      "/home/s2959607/.local/lib/python3.7/site-packages/deepsnap/graph.py:2126: UserWarning: __floordiv__ is deprecated, and its behavior will change in a future version of pytorch. It currently rounds toward 0 (like the 'trunc' function NOT 'floor'). This results in incorrect rounding for negative values. To keep the current behavior, use torch.div(a, b, rounding_mode='trunc'), or for actual floor division, use torch.div(a, b, rounding_mode='floor').\n",
      "  row = perm // num_nodes\n"
     ]
    },
    {
     "name": "stdout",
     "output_type": "stream",
     "text": [
      "Epoch: 119, Train: 0.9933, Val: 0.9857, Test: 0.9863, Loss: 0.39985\n"
     ]
    },
    {
     "name": "stderr",
     "output_type": "stream",
     "text": [
      "/home/s2959607/.local/lib/python3.7/site-packages/deepsnap/graph.py:2126: UserWarning: __floordiv__ is deprecated, and its behavior will change in a future version of pytorch. It currently rounds toward 0 (like the 'trunc' function NOT 'floor'). This results in incorrect rounding for negative values. To keep the current behavior, use torch.div(a, b, rounding_mode='trunc'), or for actual floor division, use torch.div(a, b, rounding_mode='floor').\n",
      "  row = perm // num_nodes\n"
     ]
    },
    {
     "name": "stdout",
     "output_type": "stream",
     "text": [
      "Epoch: 120, Train: 0.9932, Val: 0.9858, Test: 0.9863, Loss: 0.39956\n"
     ]
    },
    {
     "name": "stderr",
     "output_type": "stream",
     "text": [
      "/home/s2959607/.local/lib/python3.7/site-packages/deepsnap/graph.py:2126: UserWarning: __floordiv__ is deprecated, and its behavior will change in a future version of pytorch. It currently rounds toward 0 (like the 'trunc' function NOT 'floor'). This results in incorrect rounding for negative values. To keep the current behavior, use torch.div(a, b, rounding_mode='trunc'), or for actual floor division, use torch.div(a, b, rounding_mode='floor').\n",
      "  row = perm // num_nodes\n"
     ]
    },
    {
     "name": "stdout",
     "output_type": "stream",
     "text": [
      "Epoch: 121, Train: 0.9931, Val: 0.9858, Test: 0.9864, Loss: 0.39775\n"
     ]
    },
    {
     "name": "stderr",
     "output_type": "stream",
     "text": [
      "/home/s2959607/.local/lib/python3.7/site-packages/deepsnap/graph.py:2126: UserWarning: __floordiv__ is deprecated, and its behavior will change in a future version of pytorch. It currently rounds toward 0 (like the 'trunc' function NOT 'floor'). This results in incorrect rounding for negative values. To keep the current behavior, use torch.div(a, b, rounding_mode='trunc'), or for actual floor division, use torch.div(a, b, rounding_mode='floor').\n",
      "  row = perm // num_nodes\n"
     ]
    },
    {
     "name": "stdout",
     "output_type": "stream",
     "text": [
      "Epoch: 122, Train: 0.9933, Val: 0.9858, Test: 0.9864, Loss: 0.39869\n"
     ]
    },
    {
     "name": "stderr",
     "output_type": "stream",
     "text": [
      "/home/s2959607/.local/lib/python3.7/site-packages/deepsnap/graph.py:2126: UserWarning: __floordiv__ is deprecated, and its behavior will change in a future version of pytorch. It currently rounds toward 0 (like the 'trunc' function NOT 'floor'). This results in incorrect rounding for negative values. To keep the current behavior, use torch.div(a, b, rounding_mode='trunc'), or for actual floor division, use torch.div(a, b, rounding_mode='floor').\n",
      "  row = perm // num_nodes\n"
     ]
    },
    {
     "name": "stdout",
     "output_type": "stream",
     "text": [
      "Epoch: 123, Train: 0.9933, Val: 0.9858, Test: 0.9864, Loss: 0.39776\n"
     ]
    },
    {
     "name": "stderr",
     "output_type": "stream",
     "text": [
      "/home/s2959607/.local/lib/python3.7/site-packages/deepsnap/graph.py:2126: UserWarning: __floordiv__ is deprecated, and its behavior will change in a future version of pytorch. It currently rounds toward 0 (like the 'trunc' function NOT 'floor'). This results in incorrect rounding for negative values. To keep the current behavior, use torch.div(a, b, rounding_mode='trunc'), or for actual floor division, use torch.div(a, b, rounding_mode='floor').\n",
      "  row = perm // num_nodes\n"
     ]
    },
    {
     "name": "stdout",
     "output_type": "stream",
     "text": [
      "Epoch: 124, Train: 0.9932, Val: 0.9858, Test: 0.9864, Loss: 0.39902\n"
     ]
    },
    {
     "name": "stderr",
     "output_type": "stream",
     "text": [
      "/home/s2959607/.local/lib/python3.7/site-packages/deepsnap/graph.py:2126: UserWarning: __floordiv__ is deprecated, and its behavior will change in a future version of pytorch. It currently rounds toward 0 (like the 'trunc' function NOT 'floor'). This results in incorrect rounding for negative values. To keep the current behavior, use torch.div(a, b, rounding_mode='trunc'), or for actual floor division, use torch.div(a, b, rounding_mode='floor').\n",
      "  row = perm // num_nodes\n"
     ]
    },
    {
     "name": "stdout",
     "output_type": "stream",
     "text": [
      "Epoch: 125, Train: 0.9935, Val: 0.9859, Test: 0.9865, Loss: 0.39773\n"
     ]
    },
    {
     "name": "stderr",
     "output_type": "stream",
     "text": [
      "/home/s2959607/.local/lib/python3.7/site-packages/deepsnap/graph.py:2126: UserWarning: __floordiv__ is deprecated, and its behavior will change in a future version of pytorch. It currently rounds toward 0 (like the 'trunc' function NOT 'floor'). This results in incorrect rounding for negative values. To keep the current behavior, use torch.div(a, b, rounding_mode='trunc'), or for actual floor division, use torch.div(a, b, rounding_mode='floor').\n",
      "  row = perm // num_nodes\n"
     ]
    },
    {
     "name": "stdout",
     "output_type": "stream",
     "text": [
      "Epoch: 126, Train: 0.9935, Val: 0.9859, Test: 0.9865, Loss: 0.39865\n"
     ]
    },
    {
     "name": "stderr",
     "output_type": "stream",
     "text": [
      "/home/s2959607/.local/lib/python3.7/site-packages/deepsnap/graph.py:2126: UserWarning: __floordiv__ is deprecated, and its behavior will change in a future version of pytorch. It currently rounds toward 0 (like the 'trunc' function NOT 'floor'). This results in incorrect rounding for negative values. To keep the current behavior, use torch.div(a, b, rounding_mode='trunc'), or for actual floor division, use torch.div(a, b, rounding_mode='floor').\n",
      "  row = perm // num_nodes\n"
     ]
    },
    {
     "name": "stdout",
     "output_type": "stream",
     "text": [
      "Epoch: 127, Train: 0.9936, Val: 0.9859, Test: 0.9866, Loss: 0.39843\n"
     ]
    },
    {
     "name": "stderr",
     "output_type": "stream",
     "text": [
      "/home/s2959607/.local/lib/python3.7/site-packages/deepsnap/graph.py:2126: UserWarning: __floordiv__ is deprecated, and its behavior will change in a future version of pytorch. It currently rounds toward 0 (like the 'trunc' function NOT 'floor'). This results in incorrect rounding for negative values. To keep the current behavior, use torch.div(a, b, rounding_mode='trunc'), or for actual floor division, use torch.div(a, b, rounding_mode='floor').\n",
      "  row = perm // num_nodes\n"
     ]
    },
    {
     "name": "stdout",
     "output_type": "stream",
     "text": [
      "Epoch: 128, Train: 0.9937, Val: 0.9860, Test: 0.9866, Loss: 0.39722\n"
     ]
    },
    {
     "name": "stderr",
     "output_type": "stream",
     "text": [
      "/home/s2959607/.local/lib/python3.7/site-packages/deepsnap/graph.py:2126: UserWarning: __floordiv__ is deprecated, and its behavior will change in a future version of pytorch. It currently rounds toward 0 (like the 'trunc' function NOT 'floor'). This results in incorrect rounding for negative values. To keep the current behavior, use torch.div(a, b, rounding_mode='trunc'), or for actual floor division, use torch.div(a, b, rounding_mode='floor').\n",
      "  row = perm // num_nodes\n"
     ]
    },
    {
     "name": "stdout",
     "output_type": "stream",
     "text": [
      "Epoch: 129, Train: 0.9935, Val: 0.9860, Test: 0.9866, Loss: 0.39823\n"
     ]
    },
    {
     "name": "stderr",
     "output_type": "stream",
     "text": [
      "/home/s2959607/.local/lib/python3.7/site-packages/deepsnap/graph.py:2126: UserWarning: __floordiv__ is deprecated, and its behavior will change in a future version of pytorch. It currently rounds toward 0 (like the 'trunc' function NOT 'floor'). This results in incorrect rounding for negative values. To keep the current behavior, use torch.div(a, b, rounding_mode='trunc'), or for actual floor division, use torch.div(a, b, rounding_mode='floor').\n",
      "  row = perm // num_nodes\n"
     ]
    },
    {
     "name": "stdout",
     "output_type": "stream",
     "text": [
      "Epoch: 130, Train: 0.9935, Val: 0.9860, Test: 0.9867, Loss: 0.39829\n"
     ]
    },
    {
     "name": "stderr",
     "output_type": "stream",
     "text": [
      "/home/s2959607/.local/lib/python3.7/site-packages/deepsnap/graph.py:2126: UserWarning: __floordiv__ is deprecated, and its behavior will change in a future version of pytorch. It currently rounds toward 0 (like the 'trunc' function NOT 'floor'). This results in incorrect rounding for negative values. To keep the current behavior, use torch.div(a, b, rounding_mode='trunc'), or for actual floor division, use torch.div(a, b, rounding_mode='floor').\n",
      "  row = perm // num_nodes\n"
     ]
    },
    {
     "name": "stdout",
     "output_type": "stream",
     "text": [
      "Epoch: 131, Train: 0.9939, Val: 0.9861, Test: 0.9867, Loss: 0.39761\n"
     ]
    },
    {
     "name": "stderr",
     "output_type": "stream",
     "text": [
      "/home/s2959607/.local/lib/python3.7/site-packages/deepsnap/graph.py:2126: UserWarning: __floordiv__ is deprecated, and its behavior will change in a future version of pytorch. It currently rounds toward 0 (like the 'trunc' function NOT 'floor'). This results in incorrect rounding for negative values. To keep the current behavior, use torch.div(a, b, rounding_mode='trunc'), or for actual floor division, use torch.div(a, b, rounding_mode='floor').\n",
      "  row = perm // num_nodes\n"
     ]
    },
    {
     "name": "stdout",
     "output_type": "stream",
     "text": [
      "Epoch: 132, Train: 0.9936, Val: 0.9861, Test: 0.9868, Loss: 0.39911\n"
     ]
    },
    {
     "name": "stderr",
     "output_type": "stream",
     "text": [
      "/home/s2959607/.local/lib/python3.7/site-packages/deepsnap/graph.py:2126: UserWarning: __floordiv__ is deprecated, and its behavior will change in a future version of pytorch. It currently rounds toward 0 (like the 'trunc' function NOT 'floor'). This results in incorrect rounding for negative values. To keep the current behavior, use torch.div(a, b, rounding_mode='trunc'), or for actual floor division, use torch.div(a, b, rounding_mode='floor').\n",
      "  row = perm // num_nodes\n"
     ]
    },
    {
     "name": "stdout",
     "output_type": "stream",
     "text": [
      "Epoch: 133, Train: 0.9937, Val: 0.9862, Test: 0.9868, Loss: 0.39817\n"
     ]
    },
    {
     "name": "stderr",
     "output_type": "stream",
     "text": [
      "/home/s2959607/.local/lib/python3.7/site-packages/deepsnap/graph.py:2126: UserWarning: __floordiv__ is deprecated, and its behavior will change in a future version of pytorch. It currently rounds toward 0 (like the 'trunc' function NOT 'floor'). This results in incorrect rounding for negative values. To keep the current behavior, use torch.div(a, b, rounding_mode='trunc'), or for actual floor division, use torch.div(a, b, rounding_mode='floor').\n",
      "  row = perm // num_nodes\n"
     ]
    },
    {
     "name": "stdout",
     "output_type": "stream",
     "text": [
      "Epoch: 134, Train: 0.9938, Val: 0.9862, Test: 0.9869, Loss: 0.39713\n"
     ]
    },
    {
     "name": "stderr",
     "output_type": "stream",
     "text": [
      "/home/s2959607/.local/lib/python3.7/site-packages/deepsnap/graph.py:2126: UserWarning: __floordiv__ is deprecated, and its behavior will change in a future version of pytorch. It currently rounds toward 0 (like the 'trunc' function NOT 'floor'). This results in incorrect rounding for negative values. To keep the current behavior, use torch.div(a, b, rounding_mode='trunc'), or for actual floor division, use torch.div(a, b, rounding_mode='floor').\n",
      "  row = perm // num_nodes\n"
     ]
    },
    {
     "name": "stdout",
     "output_type": "stream",
     "text": [
      "Epoch: 135, Train: 0.9938, Val: 0.9863, Test: 0.9869, Loss: 0.39665\n"
     ]
    },
    {
     "name": "stderr",
     "output_type": "stream",
     "text": [
      "/home/s2959607/.local/lib/python3.7/site-packages/deepsnap/graph.py:2126: UserWarning: __floordiv__ is deprecated, and its behavior will change in a future version of pytorch. It currently rounds toward 0 (like the 'trunc' function NOT 'floor'). This results in incorrect rounding for negative values. To keep the current behavior, use torch.div(a, b, rounding_mode='trunc'), or for actual floor division, use torch.div(a, b, rounding_mode='floor').\n",
      "  row = perm // num_nodes\n"
     ]
    },
    {
     "name": "stdout",
     "output_type": "stream",
     "text": [
      "Epoch: 136, Train: 0.9940, Val: 0.9863, Test: 0.9870, Loss: 0.39693\n"
     ]
    },
    {
     "name": "stderr",
     "output_type": "stream",
     "text": [
      "/home/s2959607/.local/lib/python3.7/site-packages/deepsnap/graph.py:2126: UserWarning: __floordiv__ is deprecated, and its behavior will change in a future version of pytorch. It currently rounds toward 0 (like the 'trunc' function NOT 'floor'). This results in incorrect rounding for negative values. To keep the current behavior, use torch.div(a, b, rounding_mode='trunc'), or for actual floor division, use torch.div(a, b, rounding_mode='floor').\n",
      "  row = perm // num_nodes\n"
     ]
    },
    {
     "name": "stdout",
     "output_type": "stream",
     "text": [
      "Epoch: 137, Train: 0.9936, Val: 0.9864, Test: 0.9871, Loss: 0.39631\n"
     ]
    },
    {
     "name": "stderr",
     "output_type": "stream",
     "text": [
      "/home/s2959607/.local/lib/python3.7/site-packages/deepsnap/graph.py:2126: UserWarning: __floordiv__ is deprecated, and its behavior will change in a future version of pytorch. It currently rounds toward 0 (like the 'trunc' function NOT 'floor'). This results in incorrect rounding for negative values. To keep the current behavior, use torch.div(a, b, rounding_mode='trunc'), or for actual floor division, use torch.div(a, b, rounding_mode='floor').\n",
      "  row = perm // num_nodes\n"
     ]
    },
    {
     "name": "stdout",
     "output_type": "stream",
     "text": [
      "Epoch: 138, Train: 0.9941, Val: 0.9864, Test: 0.9871, Loss: 0.39598\n"
     ]
    },
    {
     "name": "stderr",
     "output_type": "stream",
     "text": [
      "/home/s2959607/.local/lib/python3.7/site-packages/deepsnap/graph.py:2126: UserWarning: __floordiv__ is deprecated, and its behavior will change in a future version of pytorch. It currently rounds toward 0 (like the 'trunc' function NOT 'floor'). This results in incorrect rounding for negative values. To keep the current behavior, use torch.div(a, b, rounding_mode='trunc'), or for actual floor division, use torch.div(a, b, rounding_mode='floor').\n",
      "  row = perm // num_nodes\n"
     ]
    },
    {
     "name": "stdout",
     "output_type": "stream",
     "text": [
      "Epoch: 139, Train: 0.9939, Val: 0.9865, Test: 0.9871, Loss: 0.39674\n"
     ]
    },
    {
     "name": "stderr",
     "output_type": "stream",
     "text": [
      "/home/s2959607/.local/lib/python3.7/site-packages/deepsnap/graph.py:2126: UserWarning: __floordiv__ is deprecated, and its behavior will change in a future version of pytorch. It currently rounds toward 0 (like the 'trunc' function NOT 'floor'). This results in incorrect rounding for negative values. To keep the current behavior, use torch.div(a, b, rounding_mode='trunc'), or for actual floor division, use torch.div(a, b, rounding_mode='floor').\n",
      "  row = perm // num_nodes\n"
     ]
    },
    {
     "name": "stdout",
     "output_type": "stream",
     "text": [
      "Epoch: 140, Train: 0.9942, Val: 0.9865, Test: 0.9872, Loss: 0.39519\n"
     ]
    },
    {
     "name": "stderr",
     "output_type": "stream",
     "text": [
      "/home/s2959607/.local/lib/python3.7/site-packages/deepsnap/graph.py:2126: UserWarning: __floordiv__ is deprecated, and its behavior will change in a future version of pytorch. It currently rounds toward 0 (like the 'trunc' function NOT 'floor'). This results in incorrect rounding for negative values. To keep the current behavior, use torch.div(a, b, rounding_mode='trunc'), or for actual floor division, use torch.div(a, b, rounding_mode='floor').\n",
      "  row = perm // num_nodes\n"
     ]
    },
    {
     "name": "stdout",
     "output_type": "stream",
     "text": [
      "Epoch: 141, Train: 0.9940, Val: 0.9865, Test: 0.9872, Loss: 0.39677\n"
     ]
    },
    {
     "name": "stderr",
     "output_type": "stream",
     "text": [
      "/home/s2959607/.local/lib/python3.7/site-packages/deepsnap/graph.py:2126: UserWarning: __floordiv__ is deprecated, and its behavior will change in a future version of pytorch. It currently rounds toward 0 (like the 'trunc' function NOT 'floor'). This results in incorrect rounding for negative values. To keep the current behavior, use torch.div(a, b, rounding_mode='trunc'), or for actual floor division, use torch.div(a, b, rounding_mode='floor').\n",
      "  row = perm // num_nodes\n"
     ]
    },
    {
     "name": "stdout",
     "output_type": "stream",
     "text": [
      "Epoch: 142, Train: 0.9941, Val: 0.9866, Test: 0.9873, Loss: 0.39635\n"
     ]
    },
    {
     "name": "stderr",
     "output_type": "stream",
     "text": [
      "/home/s2959607/.local/lib/python3.7/site-packages/deepsnap/graph.py:2126: UserWarning: __floordiv__ is deprecated, and its behavior will change in a future version of pytorch. It currently rounds toward 0 (like the 'trunc' function NOT 'floor'). This results in incorrect rounding for negative values. To keep the current behavior, use torch.div(a, b, rounding_mode='trunc'), or for actual floor division, use torch.div(a, b, rounding_mode='floor').\n",
      "  row = perm // num_nodes\n"
     ]
    },
    {
     "name": "stdout",
     "output_type": "stream",
     "text": [
      "Epoch: 143, Train: 0.9943, Val: 0.9866, Test: 0.9873, Loss: 0.39729\n"
     ]
    },
    {
     "name": "stderr",
     "output_type": "stream",
     "text": [
      "/home/s2959607/.local/lib/python3.7/site-packages/deepsnap/graph.py:2126: UserWarning: __floordiv__ is deprecated, and its behavior will change in a future version of pytorch. It currently rounds toward 0 (like the 'trunc' function NOT 'floor'). This results in incorrect rounding for negative values. To keep the current behavior, use torch.div(a, b, rounding_mode='trunc'), or for actual floor division, use torch.div(a, b, rounding_mode='floor').\n",
      "  row = perm // num_nodes\n"
     ]
    },
    {
     "name": "stdout",
     "output_type": "stream",
     "text": [
      "Epoch: 144, Train: 0.9941, Val: 0.9866, Test: 0.9873, Loss: 0.39635\n"
     ]
    },
    {
     "name": "stderr",
     "output_type": "stream",
     "text": [
      "/home/s2959607/.local/lib/python3.7/site-packages/deepsnap/graph.py:2126: UserWarning: __floordiv__ is deprecated, and its behavior will change in a future version of pytorch. It currently rounds toward 0 (like the 'trunc' function NOT 'floor'). This results in incorrect rounding for negative values. To keep the current behavior, use torch.div(a, b, rounding_mode='trunc'), or for actual floor division, use torch.div(a, b, rounding_mode='floor').\n",
      "  row = perm // num_nodes\n"
     ]
    },
    {
     "name": "stdout",
     "output_type": "stream",
     "text": [
      "Epoch: 145, Train: 0.9944, Val: 0.9867, Test: 0.9874, Loss: 0.39521\n"
     ]
    },
    {
     "name": "stderr",
     "output_type": "stream",
     "text": [
      "/home/s2959607/.local/lib/python3.7/site-packages/deepsnap/graph.py:2126: UserWarning: __floordiv__ is deprecated, and its behavior will change in a future version of pytorch. It currently rounds toward 0 (like the 'trunc' function NOT 'floor'). This results in incorrect rounding for negative values. To keep the current behavior, use torch.div(a, b, rounding_mode='trunc'), or for actual floor division, use torch.div(a, b, rounding_mode='floor').\n",
      "  row = perm // num_nodes\n"
     ]
    },
    {
     "name": "stdout",
     "output_type": "stream",
     "text": [
      "Epoch: 146, Train: 0.9945, Val: 0.9867, Test: 0.9874, Loss: 0.39442\n"
     ]
    },
    {
     "name": "stderr",
     "output_type": "stream",
     "text": [
      "/home/s2959607/.local/lib/python3.7/site-packages/deepsnap/graph.py:2126: UserWarning: __floordiv__ is deprecated, and its behavior will change in a future version of pytorch. It currently rounds toward 0 (like the 'trunc' function NOT 'floor'). This results in incorrect rounding for negative values. To keep the current behavior, use torch.div(a, b, rounding_mode='trunc'), or for actual floor division, use torch.div(a, b, rounding_mode='floor').\n",
      "  row = perm // num_nodes\n"
     ]
    },
    {
     "name": "stdout",
     "output_type": "stream",
     "text": [
      "Epoch: 147, Train: 0.9942, Val: 0.9867, Test: 0.9874, Loss: 0.39701\n"
     ]
    },
    {
     "name": "stderr",
     "output_type": "stream",
     "text": [
      "/home/s2959607/.local/lib/python3.7/site-packages/deepsnap/graph.py:2126: UserWarning: __floordiv__ is deprecated, and its behavior will change in a future version of pytorch. It currently rounds toward 0 (like the 'trunc' function NOT 'floor'). This results in incorrect rounding for negative values. To keep the current behavior, use torch.div(a, b, rounding_mode='trunc'), or for actual floor division, use torch.div(a, b, rounding_mode='floor').\n",
      "  row = perm // num_nodes\n"
     ]
    },
    {
     "name": "stdout",
     "output_type": "stream",
     "text": [
      "Epoch: 148, Train: 0.9940, Val: 0.9867, Test: 0.9874, Loss: 0.39558\n"
     ]
    },
    {
     "name": "stderr",
     "output_type": "stream",
     "text": [
      "/home/s2959607/.local/lib/python3.7/site-packages/deepsnap/graph.py:2126: UserWarning: __floordiv__ is deprecated, and its behavior will change in a future version of pytorch. It currently rounds toward 0 (like the 'trunc' function NOT 'floor'). This results in incorrect rounding for negative values. To keep the current behavior, use torch.div(a, b, rounding_mode='trunc'), or for actual floor division, use torch.div(a, b, rounding_mode='floor').\n",
      "  row = perm // num_nodes\n"
     ]
    },
    {
     "name": "stdout",
     "output_type": "stream",
     "text": [
      "Epoch: 149, Train: 0.9943, Val: 0.9867, Test: 0.9874, Loss: 0.39456\n"
     ]
    },
    {
     "name": "stderr",
     "output_type": "stream",
     "text": [
      "/home/s2959607/.local/lib/python3.7/site-packages/deepsnap/graph.py:2126: UserWarning: __floordiv__ is deprecated, and its behavior will change in a future version of pytorch. It currently rounds toward 0 (like the 'trunc' function NOT 'floor'). This results in incorrect rounding for negative values. To keep the current behavior, use torch.div(a, b, rounding_mode='trunc'), or for actual floor division, use torch.div(a, b, rounding_mode='floor').\n",
      "  row = perm // num_nodes\n"
     ]
    },
    {
     "name": "stdout",
     "output_type": "stream",
     "text": [
      "Train: 0.9943, Val: 0.9867, Test: 0.9874\n"
     ]
    }
   ],
   "source": [
    "args = {\n",
    "    \"device\" : 'cpu', \n",
    "    \"hidden_dim\" : 264,\n",
    "    'output_dim':64,\n",
    "    \"epochs\" : 150, \n",
    "    'lr': 0.07, \n",
    "    'aggr': 'mean', \n",
    "    'layers': 2, \n",
    "    'dropout': 0.2\n",
    "}\n",
    "\n",
    "\n",
    "model = LinkPredModel(input_dim, args[\"hidden_dim\"], args['output_dim'], args['layers'], args['aggr'],args['dropout'] ).to(args[\"device\"])\n",
    "\n",
    "optimizer = torch.optim.SGD(model.parameters(), lr=args['lr'], momentum=0.9, weight_decay=5e-4)\n",
    "\n",
    "dataloaders = {split: DataLoader(\n",
    "            ds, collate_fn=Batch.collate([]),\n",
    "            batch_size=1, shuffle=(split=='train'))\n",
    "            for split, ds in datasets.items()}\n",
    "best_model, best_x, performance = train(model, dataloaders, optimizer, args)\n",
    "log = \"Train: {:.4f}, Val: {:.4f}, Test: {:.4f}\"\n",
    "best_train_roc = test(best_model, dataloaders['train'], args)\n",
    "best_val_roc = test(best_model, dataloaders['val'], args)\n",
    "best_test_roc = test(best_model, dataloaders['test'], args)\n",
    "print(log.format(best_train_roc, best_val_roc, best_test_roc))"
   ]
  },
  {
   "cell_type": "markdown",
   "metadata": {},
   "source": [
    "Run this cell to save the model: "
   ]
  },
  {
   "cell_type": "code",
   "execution_count": 173,
   "metadata": {},
   "outputs": [],
   "source": [
    "#torch.save(best_model.state_dict(), './models/model_big_final.pth')"
   ]
  },
  {
   "cell_type": "markdown",
   "metadata": {},
   "source": [
    "Run this cell to save the parameters of the model: "
   ]
  },
  {
   "cell_type": "code",
   "execution_count": 240,
   "metadata": {},
   "outputs": [],
   "source": [
    "# import pickle\n",
    "# with open('./models/args_final.pkl', 'wb') as f:\n",
    "#     pickle.dump(args, f)"
   ]
  },
  {
   "cell_type": "markdown",
   "metadata": {},
   "source": [
    "The following cell will show the learning curve of the model. It will show the AUC-ROC score of every dataset (train, validation, test) as well as the loss in every epoch. "
   ]
  },
  {
   "cell_type": "code",
   "execution_count": 297,
   "metadata": {},
   "outputs": [
    {
     "data": {
      "text/plain": [
       "Text(0.5, 0, 'Epochs')"
      ]
     },
     "execution_count": 297,
     "metadata": {},
     "output_type": "execute_result"
    },
    {
     "data": {
      "image/png": "[encoded data removed]",
      "text/plain": [
       "<Figure size 720x504 with 1 Axes>"
      ]
     },
     "metadata": {
      "needs_background": "light"
     },
     "output_type": "display_data"
    }
   ],
   "source": [
    "plt.figure(figsize= (10,7))\n",
    "plt.plot(np.log10(performance[0]), label = 'Loss')\n",
    "plt.plot(performance[1], label = 'AUC Train')\n",
    "plt.plot(performance[2], label = 'AUC Validation')\n",
    "plt.plot(performance[3], label = 'AUC Test')\n",
    "plt.legend()\n",
    "plt.ylabel('AUC/Loss')\n",
    "plt.xlabel('Epochs')"
   ]
  },
  {
   "cell_type": "markdown",
   "metadata": {},
   "source": [
    "To obtain the ROC curve of the test set, run the next two cells: "
   ]
  },
  {
   "cell_type": "code",
   "execution_count": 195,
   "metadata": {},
   "outputs": [
    {
     "name": "stdout",
     "output_type": "stream",
     "text": [
      "0.9861874236069825\n"
     ]
    }
   ],
   "source": [
    "for batch in dataloaders['test']:\n",
    "    feat, edge_index, edge_label_index = batch.node_feature, batch.edge_index, batch.edge_label_index\n",
    "    batch.to(args[\"device\"])\n",
    "    pred, x = best_model(feat, edge_index, edge_label_index, training = False)\n",
    "    pred = torch.sigmoid(pred)\n",
    "    score = roc_auc_score(batch.edge_label.flatten().cpu().numpy(), pred.flatten().data.cpu().numpy())\n",
    "    print(score)"
   ]
  },
  {
   "cell_type": "code",
   "execution_count": 196,
   "metadata": {},
   "outputs": [
    {
     "name": "stderr",
     "output_type": "stream",
     "text": [
      "No artists with labels found to put in legend.  Note that artists whose label start with an underscore are ignored when legend() is called with no argument.\n"
     ]
    },
    {
     "data": {
      "image/png": "[encoded data removed]",
      "text/plain": [
       "<Figure size 504x504 with 1 Axes>"
      ]
     },
     "metadata": {
      "needs_background": "light"
     },
     "output_type": "display_data"
    }
   ],
   "source": [
    "from sklearn.metrics import roc_curve\n",
    "fpr, tpr, thresholds = roc_curve(batch.edge_label.flatten().cpu().numpy(), pred.flatten().data.cpu().numpy())\n",
    "# plot the roc curve for the model\n",
    "plt.figure(figsize = (7, 7))\n",
    "plt.plot(fpr, tpr, marker='.')\n",
    "# axis labels\n",
    "plt.xlabel('False Positive Rate')\n",
    "plt.ylabel('True Positive Rate')\n",
    "# show the legend\n",
    "plt.legend()\n",
    "# show the plot\n",
    "plt.show()"
   ]
  },
  {
   "cell_type": "markdown",
   "metadata": {},
   "source": [
    "To obtain the F1-Score in the test set, run the following cells: "
   ]
  },
  {
   "cell_type": "code",
   "execution_count": 197,
   "metadata": {},
   "outputs": [],
   "source": [
    "from sklearn.metrics import f1_score\n",
    "def test_f1(model, dataloader, args, threshold):\n",
    "    model.eval()\n",
    "    score = 0\n",
    "    num_batches = 0\n",
    "    for batch in dataloader:\n",
    "        feat, edge_index, edge_label_index = batch.node_feature, batch.edge_index, batch.edge_label_index\n",
    "        batch.to(args[\"device\"])\n",
    "        pred, x = model(feat, edge_index, edge_label_index, training = False)\n",
    "        pred = torch.sigmoid(pred) > threshold\n",
    "        score += f1_score(batch.edge_label.flatten().cpu().numpy(), pred.flatten().data.cpu().numpy())\n",
    "        num_batches += 1\n",
    "    score /= num_batches \n",
    "    return batch.edge_label.flatten().cpu().numpy(), pred.flatten().data.cpu().numpy(), score"
   ]
  },
  {
   "cell_type": "code",
   "execution_count": 199,
   "metadata": {},
   "outputs": [
    {
     "name": "stdout",
     "output_type": "stream",
     "text": [
      "F1-Score in the test set: 0.9501330357909192\n"
     ]
    }
   ],
   "source": [
    "true_label, pred_label, best_test_f1 = test_f1(best_model, dataloaders['test'], args, 0.75)\n",
    "print('F1-Score in the test set:', best_test_f1)"
   ]
  },
  {
   "cell_type": "markdown",
   "metadata": {},
   "source": [
    "To obtain the classification report run the following cell:"
   ]
  },
  {
   "cell_type": "code",
   "execution_count": 200,
   "metadata": {
    "scrolled": true
   },
   "outputs": [
    {
     "name": "stdout",
     "output_type": "stream",
     "text": [
      "              precision    recall  f1-score   support\n",
      "\n",
      "           0       0.95      0.95      0.95     11688\n",
      "           1       0.95      0.95      0.95     11688\n",
      "\n",
      "    accuracy                           0.95     23376\n",
      "   macro avg       0.95      0.95      0.95     23376\n",
      "weighted avg       0.95      0.95      0.95     23376\n",
      "\n"
     ]
    }
   ],
   "source": [
    "print(classification_report(true_label, pred_label))"
   ]
  },
  {
   "cell_type": "markdown",
   "metadata": {},
   "source": [
    "To obtain the confusion matrix run the following cells: "
   ]
  },
  {
   "cell_type": "code",
   "execution_count": null,
   "metadata": {},
   "outputs": [],
   "source": [
    "from sklearn.metrics import confusion_matrix\n",
    "def test_cm(model, dataloader, args, threshold):\n",
    "    model.eval()\n",
    "    score = 0\n",
    "    num_batches = 0\n",
    "    for batch in dataloader:\n",
    "        feat, edge_index, edge_label_index = batch.node_feature, batch.edge_index, batch.edge_label_index\n",
    "        batch.to(args[\"device\"])\n",
    "        pred, x = model(feat, edge_index, edge_label_index, training = False)\n",
    "        pred = torch.sigmoid(pred) > threshold\n",
    "        score += confusion_matrix(batch.edge_label.flatten().cpu().numpy(), pred.flatten().data.cpu().numpy())\n",
    "    return score"
   ]
  },
  {
   "cell_type": "code",
   "execution_count": 158,
   "metadata": {},
   "outputs": [
    {
     "name": "stderr",
     "output_type": "stream",
     "text": [
      "/home/s2959607/.local/lib/python3.7/site-packages/deepsnap/graph.py:2126: UserWarning: __floordiv__ is deprecated, and its behavior will change in a future version of pytorch. It currently rounds toward 0 (like the 'trunc' function NOT 'floor'). This results in incorrect rounding for negative values. To keep the current behavior, use torch.div(a, b, rounding_mode='trunc'), or for actual floor division, use torch.div(a, b, rounding_mode='floor').\n",
      "  row = perm // num_nodes\n"
     ]
    },
    {
     "name": "stdout",
     "output_type": "stream",
     "text": [
      "[[2216947   87721]\n",
      " [ 165538 2139130]]\n"
     ]
    }
   ],
   "source": [
    "table = test_cm(best_model, dataloaders['train'], args, 0.8)\n",
    "print(table)"
   ]
  },
  {
   "cell_type": "markdown",
   "metadata": {
    "id": "N9Rxejs28ldv"
   },
   "source": [
    "### Hyperparameter Optimization"
   ]
  },
  {
   "cell_type": "markdown",
   "metadata": {},
   "source": [
    "Run this section only if you are interested in performing the hyperparamter optimization. If you have already trained your model you can skip to the next section"
   ]
  },
  {
   "cell_type": "code",
   "execution_count": 332,
   "metadata": {
    "colab": {
     "base_uri": "https://localhost:8080/"
    },
    "id": "jI471mu3WE1C",
    "outputId": "47f523a3-783e-4d5a-fd62-34ab855cbaf6"
   },
   "outputs": [],
   "source": [
    "def optim(args): \n",
    "\n",
    "  trans_matrix = initialize_edge_type_matrix(args['type_size'])\n",
    "  for i in range(args['epoch_e2v']):\n",
    "    walks = simulate_walks_1(args['G'], args['num_walks'], args['walk_length'], trans_matrix, True , args['p'], args['q'])#M step\n",
    "    #print('Len Walks:', len(walks))\n",
    "    #print(str(i), \"th iteration for Upating transition matrix!\")\n",
    "    trans_matrix = update_trans_matrix(walks,args['type_size'],3)#E step\n",
    "    #print(\"trans_matrix: \",trans_matrix)\n",
    "  walks = simulate_walks_2(args['G'],args['num_walks'], args['walk_length'],trans_matrix,True,args['p'],args['q'])\n",
    "  w2v_model = Word2Vec(walks, vector_size=args['dimensions_e2v'], window=args['walk_length']-1, min_count=0, sg=1, workers=8, epochs=args['epoch_e2v'])\n",
    "  #print('Edge2Vec Ended!')\n",
    "  e2v_embedding = pd.DataFrame(columns = ['Node', 'Embedding'])\n",
    "  #print('Vocab:', len(w2v_model.wv.index_to_key))\n",
    "  for idx, key in enumerate(w2v_model.wv.index_to_key):\n",
    "    e2v_embedding.loc[int(key)] = pd.Series({'Node':int(key), 'Embedding':list(w2v_model.wv[key])})\n",
    "  e2v_embedding = e2v_embedding.sort_values('Node')\n",
    "  #print('Len E2V:', len(e2v_embedding))\n",
    "  G2 = nx.Graph()\n",
    "  for ind, node in e2v_embedding.iterrows(): \n",
    "    G2.add_node(node['Node'], node_feature=torch.Tensor(node['Embedding']))\n",
    "  for ind, edge in args['df'].iterrows(): \n",
    "    G2.add_edge(edge['index_head'], edge['index_tail'])\n",
    "#   print('Graph Builded')\n",
    "#   print(\"Number of edges is {}\".format(G2.number_of_edges()))\n",
    "#   print(\"Number of nodes is {}\".format(G2.number_of_nodes()))\n",
    "\n",
    "  dataset = GraphDataset(\n",
    "        G2,\n",
    "        task='link_pred',\n",
    "        edge_train_mode=\"all\"\n",
    "    )\n",
    "  #print('Loading Datasets')\n",
    "  datasets = {}\n",
    "  datasets['train'], datasets['val'], datasets['test']= dataset.split(\n",
    "              transductive=True, split_ratio=[0.8, 0.1, 0.1])\n",
    "  #print('Train Nodes:', datasets['train'].num_nodes)\n",
    "  input_dim = datasets['train'].num_node_features\n",
    "  #print('Train Features:', input_dim)\n",
    "\n",
    "  #print('Loading Model')\n",
    "  model = LinkPredModel(input_dim, args[\"hidden_dim\"], args['output_dim'], args['layers'], args['aggr'], args['dropout']).to('cpu')\n",
    "  #print('Loading Optimizer')\n",
    "  optimizer = torch.optim.SGD(model.parameters(), lr=args['lr'], momentum=0.9, weight_decay=5e-4)\n",
    "  #print('Loading dataloaders')\n",
    "  dataloaders = {split: DataLoader(\n",
    "              ds, collate_fn=Batch.collate([]),\n",
    "              batch_size=1, shuffle=(split=='train'))\n",
    "              for split, ds in datasets.items()}\n",
    "  # print(dataloaders['train'])\n",
    "  # for i, batch in enumerate(dataloaders['train']): \n",
    "  #   print('Batch:', batch)\n",
    "  # print('Starting Training')\n",
    "  best_model, best_x = train(model, dataloaders, optimizer, args, ho = False)\n",
    "  log = \"Train: {:.4f}, Val: {:.4f}, Test: {:.4f}\"\n",
    "  best_train_roc = test(best_model, dataloaders['train'], args)\n",
    "  best_val_roc = test(best_model, dataloaders['val'], args)\n",
    "  best_test_roc = test(best_model, dataloaders['test'], args)\n",
    "  print('AUC:', best_test_roc)\n",
    "  print(log.format(best_train_roc, best_val_roc, best_test_roc))\n",
    "  #torch.save(best_model.state_dict(), './models/model' + str(best_val_roc) + '.pth')\n",
    "  tune.report(accuracy=best_val_roc)\n",
    "  \n"
   ]
  },
  {
   "cell_type": "markdown",
   "metadata": {},
   "source": [
    "Select the different parameters that you would like to test in the search and run the cell:"
   ]
  },
  {
   "cell_type": "code",
   "execution_count": null,
   "metadata": {
    "colab": {
     "background_save": true
    },
    "id": "idOLsIM5jdy-",
    "scrolled": true
   },
   "outputs": [],
   "source": [
    "args = {\n",
    "    'G': G,\n",
    "    'device': 'cpu', \n",
    "    \"hidden_dim\" : tune.choice([64, 128, 256]),\n",
    "    'output_dim': tune.choice([64, 128, 256]),\n",
    "    \"epochs\" : tune.choice([100, 150, 200]),\n",
    "    'type_size' : len(set(df['relationship'])),\n",
    "    'epoch_e2v' : tune.choice([5, 10]),\n",
    "    'num_walks' : tune.choice([2, 4, 6]),\n",
    "    'walk_length' : tune.choice([3, 5, 7]),\n",
    "    'p' : tune.choice([0.5, 0.75, 1]),\n",
    "    'q' : tune.choice([0.5, 0.75, 1]),\n",
    "    'dimensions_e2v' : tune.choice([32, 64, 128]),\n",
    "    'df': df, \n",
    "    'lr': tune.loguniform(1e-4, 1e-1), \n",
    "    'aggr': tune.choice(['mean', 'sum']), \n",
    "    'dropout': tune.choice([0, 0.1, 0.2]), \n",
    "    'layers': tune.choice([2, 4, 6])\n",
    "}\n",
    "\n",
    "scheduler = ASHAScheduler(\n",
    "        max_t=10,\n",
    "        grace_period=1,\n",
    "        reduction_factor=2)\n",
    "\n",
    "result = tune.run(\n",
    "        tune.with_parameters(optim),\n",
    "        resources_per_trial={\"gpu\": 2}, #change this value according to the gpu units you would like to use\n",
    "        config=args,\n",
    "        metric=\"val_auc\",\n",
    "        mode=\"max\",\n",
    "        num_samples=30, #select the maximum number of models you would like to test\n",
    "        scheduler=scheduler, \n",
    "        resume = False, \n",
    "        local_dir=\"./results\"\n",
    "    )"
   ]
  },
  {
   "cell_type": "markdown",
   "metadata": {},
   "source": [
    "Print the best configuration:"
   ]
  },
  {
   "cell_type": "code",
   "execution_count": null,
   "metadata": {
    "id": "DT1uabU2VpoN"
   },
   "outputs": [],
   "source": [
    "best_trial = result.get_best_trial(\"val_auc\")"
   ]
  },
  {
   "cell_type": "code",
   "execution_count": null,
   "metadata": {
    "colab": {
     "base_uri": "https://localhost:8080/"
    },
    "id": "fH4uTG4pV3EM",
    "outputId": "361049e5-63ad-406f-c257-617de0c312e7"
   },
   "outputs": [],
   "source": [
    "print(\"Best trial config: {}\".format(best_trial.config))"
   ]
  },
  {
   "cell_type": "markdown",
   "metadata": {
    "id": "-tOM8agyw5JL"
   },
   "source": [
    "### **Predictions**"
   ]
  },
  {
   "cell_type": "markdown",
   "metadata": {},
   "source": [
    "If you have already trained a model and you would like to load it, start by loading the saved arguments:"
   ]
  },
  {
   "cell_type": "code",
   "execution_count": 144,
   "metadata": {},
   "outputs": [],
   "source": [
    "with open('./models/args_final.pkl', 'rb') as f:\n",
    "    loaded_args = pickle.load(f)"
   ]
  },
  {
   "cell_type": "markdown",
   "metadata": {},
   "source": [
    "Next, load the saved Edge2Vec embedding: "
   ]
  },
  {
   "cell_type": "code",
   "execution_count": 145,
   "metadata": {},
   "outputs": [],
   "source": [
    "from gensim.models import KeyedVectors\n",
    "node_feat = KeyedVectors.load(\"./models/w2v_small_undirected.dvectors\", mmap='r')"
   ]
  },
  {
   "cell_type": "markdown",
   "metadata": {},
   "source": [
    "Create a pandas dataframe with the embeddings and create the graph. Take into account that you must have your edges loaded previously: "
   ]
  },
  {
   "cell_type": "code",
   "execution_count": 146,
   "metadata": {
    "collapsed": true
   },
   "outputs": [],
   "source": [
    "e2v_embedding = pd.DataFrame(columns = ['Node', 'Embedding'])\n",
    "for idx, key in enumerate(node_feat.index_to_key):\n",
    "    e2v_embedding.loc[int(key)] = pd.Series({'Node':int(key), 'Embedding':list(node_feat[key])})"
   ]
  },
  {
   "cell_type": "code",
   "execution_count": 147,
   "metadata": {},
   "outputs": [],
   "source": [
    "e2v_embedding = e2v_embedding.sort_values('Node')"
   ]
  },
  {
   "cell_type": "code",
   "execution_count": 149,
   "metadata": {},
   "outputs": [],
   "source": [
    "G = nx.Graph()\n",
    "for ind, node in e2v_embedding.iterrows(): \n",
    "  G.add_node(node['Node'], node_feature=torch.Tensor(node['Embedding']))\n",
    "for ind, edge in df.iterrows(): \n",
    "  G.add_edge(edge['index_head'], edge['index_tail'])"
   ]
  },
  {
   "cell_type": "code",
   "execution_count": 277,
   "metadata": {},
   "outputs": [
    {
     "name": "stdout",
     "output_type": "stream",
     "text": [
      "(0, {'node_feature': tensor([ 0.4660,  0.0235, -0.0685, -0.0545, -0.1018, -0.2964,  1.1133, -0.4784,\n",
      "        -0.6535,  0.0790,  0.1186,  0.3870,  0.1199, -0.4534,  0.1130,  0.2055,\n",
      "        -0.9076, -0.4866,  0.1334,  0.6622,  0.1539,  0.5992,  0.0359, -1.0402,\n",
      "        -0.5485,  0.5385, -0.1095, -0.4836,  0.1842, -0.5914,  0.6113, -0.1889,\n",
      "        -0.0814, -0.4404, -0.1958,  0.0887, -0.8594, -0.0229, -0.5045,  0.1345,\n",
      "         0.5049,  0.0231, -0.1518,  0.2632,  0.2179,  0.1244, -0.1614, -0.9524,\n",
      "        -0.0344, -0.1791,  0.8663,  0.3809, -0.6735, -0.0602, -0.2207, -1.0342,\n",
      "        -0.1356, -0.6840, -0.1733,  0.1907, -0.6172, -0.1274, -0.0668, -0.2323])})\n",
      "(0, 1, {'edge_label': 'has phenotype'})\n",
      "Number of edges is 58435\n",
      "Number of nodes is 10786\n"
     ]
    }
   ],
   "source": [
    "for node in G.nodes(data=True):\n",
    "    print(node)\n",
    "    break\n",
    "for edge in G.edges(data=True):\n",
    "    print(edge)\n",
    "    break\n",
    "print(\"Number of edges is {}\".format(G.number_of_edges()))\n",
    "print(\"Number of nodes is {}\".format(G.number_of_nodes()))"
   ]
  },
  {
   "cell_type": "markdown",
   "metadata": {},
   "source": [
    "Load the GNN model:"
   ]
  },
  {
   "cell_type": "code",
   "execution_count": 182,
   "metadata": {},
   "outputs": [],
   "source": [
    "best_model =  LinkPredModel(len(e2v_embedding['Embedding'][0]), loaded_args[\"hidden_dim\"], loaded_args['output_dim'], loaded_args['layers'], loaded_args['aggr'],loaded_args['dropout'] ).to(loaded_args[\"device\"])"
   ]
  },
  {
   "cell_type": "code",
   "execution_count": 183,
   "metadata": {},
   "outputs": [
    {
     "data": {
      "text/plain": [
       "<All keys matched successfully>"
      ]
     },
     "execution_count": 183,
     "metadata": {},
     "output_type": "execute_result"
    }
   ],
   "source": [
    "best_model.load_state_dict(torch.load('./models/model_small_final.pth'))"
   ]
  },
  {
   "cell_type": "markdown",
   "metadata": {},
   "source": [
    "Define the score function: "
   ]
  },
  {
   "cell_type": "code",
   "execution_count": 202,
   "metadata": {
    "id": "i3y249TfKScx"
   },
   "outputs": [],
   "source": [
    "def score(x, id1, id2): \n",
    "  n1 = x[id1]\n",
    "  n2 = x[id2]\n",
    "  score = torch.Tensor([torch.sum(n1 * n2, dim=-1)])\n",
    "  p = torch.sigmoid(score).cpu().detach().numpy()\n",
    "  return p"
   ]
  },
  {
   "cell_type": "markdown",
   "metadata": {},
   "source": [
    "Check the symptoms/phenotypes of the disease. If testing for Duchenne Muscular Dystrophy you can run the cell as it is; if you would like to test other disease, please change the ID in df['head'] == 'ID' to the targeted disease ID:"
   ]
  },
  {
   "cell_type": "code",
   "execution_count": 185,
   "metadata": {
    "id": "LfkYbBbh4x2G"
   },
   "outputs": [],
   "source": [
    "symptoms = df[(df['head'] == 'MONDO:0010679') & (df['relationship'] == 'has phenotype')]"
   ]
  },
  {
   "cell_type": "code",
   "execution_count": 186,
   "metadata": {},
   "outputs": [
    {
     "name": "stderr",
     "output_type": "stream",
     "text": [
      "/home/s2959607/.local/lib/python3.7/site-packages/ipykernel_launcher.py:4: SettingWithCopyWarning: \n",
      "A value is trying to be set on a copy of a slice from a DataFrame.\n",
      "Try using .loc[row_indexer,col_indexer] = value instead\n",
      "\n",
      "See the caveats in the documentation: https://pandas.pydata.org/pandas-docs/stable/user_guide/indexing.html#returning-a-view-versus-a-copy\n",
      "  after removing the cwd from sys.path.\n"
     ]
    }
   ],
   "source": [
    "name = []\n",
    "for i in symptoms['tail']: \n",
    "    name.append(nodes[nodes['id'] == i]['preflabel'].item())\n",
    "symptoms['preflabel'] = name"
   ]
  },
  {
   "cell_type": "code",
   "execution_count": 187,
   "metadata": {},
   "outputs": [
    {
     "data": {
      "text/html": [
       "<div>\n",
       "<style scoped>\n",
       "    .dataframe tbody tr th:only-of-type {\n",
       "        vertical-align: middle;\n",
       "    }\n",
       "\n",
       "    .dataframe tbody tr th {\n",
       "        vertical-align: top;\n",
       "    }\n",
       "\n",
       "    .dataframe thead th {\n",
       "        text-align: right;\n",
       "    }\n",
       "</style>\n",
       "<table border=\"1\" class=\"dataframe\">\n",
       "  <thead>\n",
       "    <tr style=\"text-align: right;\">\n",
       "      <th></th>\n",
       "      <th>head</th>\n",
       "      <th>relationship</th>\n",
       "      <th>tail</th>\n",
       "      <th>class_head</th>\n",
       "      <th>preflabel_x</th>\n",
       "      <th>semantic_id_x</th>\n",
       "      <th>class_tail</th>\n",
       "      <th>preflabel_y</th>\n",
       "      <th>semantic_id_y</th>\n",
       "      <th>index_head</th>\n",
       "      <th>index_tail</th>\n",
       "      <th>preflabel</th>\n",
       "    </tr>\n",
       "  </thead>\n",
       "  <tbody>\n",
       "    <tr>\n",
       "      <th>608</th>\n",
       "      <td>MONDO:0010679</td>\n",
       "      <td>has phenotype</td>\n",
       "      <td>HP:0001252</td>\n",
       "      <td>DISO</td>\n",
       "      <td>Duchenne muscular dystrophy</td>\n",
       "      <td>1</td>\n",
       "      <td>DISO</td>\n",
       "      <td>Hypotonia</td>\n",
       "      <td>1</td>\n",
       "      <td>323</td>\n",
       "      <td>1008</td>\n",
       "      <td>Hypotonia</td>\n",
       "    </tr>\n",
       "    <tr>\n",
       "      <th>3181</th>\n",
       "      <td>MONDO:0010679</td>\n",
       "      <td>has phenotype</td>\n",
       "      <td>HP:0001328</td>\n",
       "      <td>DISO</td>\n",
       "      <td>Duchenne muscular dystrophy</td>\n",
       "      <td>1</td>\n",
       "      <td>DISO</td>\n",
       "      <td>Specific learning disability</td>\n",
       "      <td>1</td>\n",
       "      <td>323</td>\n",
       "      <td>1898</td>\n",
       "      <td>Specific learning disability</td>\n",
       "    </tr>\n",
       "    <tr>\n",
       "      <th>8391</th>\n",
       "      <td>MONDO:0010679</td>\n",
       "      <td>has phenotype</td>\n",
       "      <td>HP:0011675</td>\n",
       "      <td>DISO</td>\n",
       "      <td>Duchenne muscular dystrophy</td>\n",
       "      <td>1</td>\n",
       "      <td>DISO</td>\n",
       "      <td>Arrhythmia</td>\n",
       "      <td>1</td>\n",
       "      <td>323</td>\n",
       "      <td>3456</td>\n",
       "      <td>Arrhythmia</td>\n",
       "    </tr>\n",
       "    <tr>\n",
       "      <th>15936</th>\n",
       "      <td>MONDO:0010679</td>\n",
       "      <td>has phenotype</td>\n",
       "      <td>HP:0001635</td>\n",
       "      <td>DISO</td>\n",
       "      <td>Duchenne muscular dystrophy</td>\n",
       "      <td>1</td>\n",
       "      <td>DISO</td>\n",
       "      <td>Congestive heart failure</td>\n",
       "      <td>1</td>\n",
       "      <td>323</td>\n",
       "      <td>1739</td>\n",
       "      <td>Congestive heart failure</td>\n",
       "    </tr>\n",
       "    <tr>\n",
       "      <th>19211</th>\n",
       "      <td>MONDO:0010679</td>\n",
       "      <td>has phenotype</td>\n",
       "      <td>HP:0001644</td>\n",
       "      <td>DISO</td>\n",
       "      <td>Duchenne muscular dystrophy</td>\n",
       "      <td>1</td>\n",
       "      <td>DISO</td>\n",
       "      <td>Dilated cardiomyopathy</td>\n",
       "      <td>1</td>\n",
       "      <td>323</td>\n",
       "      <td>1771</td>\n",
       "      <td>Dilated cardiomyopathy</td>\n",
       "    </tr>\n",
       "    <tr>\n",
       "      <th>20634</th>\n",
       "      <td>MONDO:0010679</td>\n",
       "      <td>has phenotype</td>\n",
       "      <td>HP:0008981</td>\n",
       "      <td>DISO</td>\n",
       "      <td>Duchenne muscular dystrophy</td>\n",
       "      <td>1</td>\n",
       "      <td>DISO</td>\n",
       "      <td>Calf muscle hypertrophy</td>\n",
       "      <td>1</td>\n",
       "      <td>323</td>\n",
       "      <td>2367</td>\n",
       "      <td>Calf muscle hypertrophy</td>\n",
       "    </tr>\n",
       "    <tr>\n",
       "      <th>30416</th>\n",
       "      <td>MONDO:0010679</td>\n",
       "      <td>has phenotype</td>\n",
       "      <td>HP:0001270</td>\n",
       "      <td>DISO</td>\n",
       "      <td>Duchenne muscular dystrophy</td>\n",
       "      <td>1</td>\n",
       "      <td>DISO</td>\n",
       "      <td>Motor delay</td>\n",
       "      <td>1</td>\n",
       "      <td>323</td>\n",
       "      <td>3122</td>\n",
       "      <td>Motor delay</td>\n",
       "    </tr>\n",
       "    <tr>\n",
       "      <th>30432</th>\n",
       "      <td>MONDO:0010679</td>\n",
       "      <td>has phenotype</td>\n",
       "      <td>HP:0003560</td>\n",
       "      <td>DISO</td>\n",
       "      <td>Duchenne muscular dystrophy</td>\n",
       "      <td>1</td>\n",
       "      <td>DISO</td>\n",
       "      <td>Muscular dystrophy</td>\n",
       "      <td>1</td>\n",
       "      <td>323</td>\n",
       "      <td>385</td>\n",
       "      <td>Muscular dystrophy</td>\n",
       "    </tr>\n",
       "    <tr>\n",
       "      <th>31176</th>\n",
       "      <td>MONDO:0010679</td>\n",
       "      <td>has phenotype</td>\n",
       "      <td>HP:0000750</td>\n",
       "      <td>DISO</td>\n",
       "      <td>Duchenne muscular dystrophy</td>\n",
       "      <td>1</td>\n",
       "      <td>DISO</td>\n",
       "      <td>Delayed speech and language development</td>\n",
       "      <td>1</td>\n",
       "      <td>323</td>\n",
       "      <td>3514</td>\n",
       "      <td>Delayed speech and language development</td>\n",
       "    </tr>\n",
       "    <tr>\n",
       "      <th>34153</th>\n",
       "      <td>MONDO:0010679</td>\n",
       "      <td>has phenotype</td>\n",
       "      <td>HP:0002791</td>\n",
       "      <td>DISO</td>\n",
       "      <td>Duchenne muscular dystrophy</td>\n",
       "      <td>1</td>\n",
       "      <td>DISO</td>\n",
       "      <td>Hypoventilation</td>\n",
       "      <td>1</td>\n",
       "      <td>323</td>\n",
       "      <td>4577</td>\n",
       "      <td>Hypoventilation</td>\n",
       "    </tr>\n",
       "    <tr>\n",
       "      <th>34896</th>\n",
       "      <td>MONDO:0010679</td>\n",
       "      <td>has phenotype</td>\n",
       "      <td>HP:0001256</td>\n",
       "      <td>DISO</td>\n",
       "      <td>Duchenne muscular dystrophy</td>\n",
       "      <td>1</td>\n",
       "      <td>DISO</td>\n",
       "      <td>Intellectual disability, mild</td>\n",
       "      <td>1</td>\n",
       "      <td>323</td>\n",
       "      <td>3248</td>\n",
       "      <td>Intellectual disability, mild</td>\n",
       "    </tr>\n",
       "    <tr>\n",
       "      <th>35504</th>\n",
       "      <td>MONDO:0010679</td>\n",
       "      <td>has phenotype</td>\n",
       "      <td>HP:0001265</td>\n",
       "      <td>DISO</td>\n",
       "      <td>Duchenne muscular dystrophy</td>\n",
       "      <td>1</td>\n",
       "      <td>DISO</td>\n",
       "      <td>Hyporeflexia</td>\n",
       "      <td>1</td>\n",
       "      <td>323</td>\n",
       "      <td>5103</td>\n",
       "      <td>Hyporeflexia</td>\n",
       "    </tr>\n",
       "    <tr>\n",
       "      <th>37565</th>\n",
       "      <td>MONDO:0010679</td>\n",
       "      <td>has phenotype</td>\n",
       "      <td>HP:0100543</td>\n",
       "      <td>DISO</td>\n",
       "      <td>Duchenne muscular dystrophy</td>\n",
       "      <td>1</td>\n",
       "      <td>DISO</td>\n",
       "      <td>Cognitive impairment</td>\n",
       "      <td>1</td>\n",
       "      <td>323</td>\n",
       "      <td>3859</td>\n",
       "      <td>Cognitive impairment</td>\n",
       "    </tr>\n",
       "    <tr>\n",
       "      <th>39273</th>\n",
       "      <td>MONDO:0010679</td>\n",
       "      <td>has phenotype</td>\n",
       "      <td>HP:0003701</td>\n",
       "      <td>DISO</td>\n",
       "      <td>Duchenne muscular dystrophy</td>\n",
       "      <td>1</td>\n",
       "      <td>DISO</td>\n",
       "      <td>Proximal muscle weakness</td>\n",
       "      <td>1</td>\n",
       "      <td>323</td>\n",
       "      <td>2880</td>\n",
       "      <td>Proximal muscle weakness</td>\n",
       "    </tr>\n",
       "    <tr>\n",
       "      <th>40237</th>\n",
       "      <td>MONDO:0010679</td>\n",
       "      <td>has phenotype</td>\n",
       "      <td>HP:0003115</td>\n",
       "      <td>DISO</td>\n",
       "      <td>Duchenne muscular dystrophy</td>\n",
       "      <td>1</td>\n",
       "      <td>DISO</td>\n",
       "      <td>Abnormal EKG</td>\n",
       "      <td>1</td>\n",
       "      <td>323</td>\n",
       "      <td>5797</td>\n",
       "      <td>Abnormal EKG</td>\n",
       "    </tr>\n",
       "    <tr>\n",
       "      <th>40762</th>\n",
       "      <td>MONDO:0010679</td>\n",
       "      <td>has phenotype</td>\n",
       "      <td>HP:0003707</td>\n",
       "      <td>DISO</td>\n",
       "      <td>Duchenne muscular dystrophy</td>\n",
       "      <td>1</td>\n",
       "      <td>DISO</td>\n",
       "      <td>Calf muscle pseudohypertrophy</td>\n",
       "      <td>1</td>\n",
       "      <td>323</td>\n",
       "      <td>2665</td>\n",
       "      <td>Calf muscle pseudohypertrophy</td>\n",
       "    </tr>\n",
       "    <tr>\n",
       "      <th>41919</th>\n",
       "      <td>MONDO:0010679</td>\n",
       "      <td>has phenotype</td>\n",
       "      <td>HP:0001638</td>\n",
       "      <td>DISO</td>\n",
       "      <td>Duchenne muscular dystrophy</td>\n",
       "      <td>1</td>\n",
       "      <td>DISO</td>\n",
       "      <td>Cardiomyopathy</td>\n",
       "      <td>1</td>\n",
       "      <td>323</td>\n",
       "      <td>5784</td>\n",
       "      <td>Cardiomyopathy</td>\n",
       "    </tr>\n",
       "    <tr>\n",
       "      <th>42577</th>\n",
       "      <td>MONDO:0010679</td>\n",
       "      <td>has phenotype</td>\n",
       "      <td>HP:0001371</td>\n",
       "      <td>DISO</td>\n",
       "      <td>Duchenne muscular dystrophy</td>\n",
       "      <td>1</td>\n",
       "      <td>DISO</td>\n",
       "      <td>Flexion contracture</td>\n",
       "      <td>1</td>\n",
       "      <td>323</td>\n",
       "      <td>2215</td>\n",
       "      <td>Flexion contracture</td>\n",
       "    </tr>\n",
       "    <tr>\n",
       "      <th>46888</th>\n",
       "      <td>MONDO:0010679</td>\n",
       "      <td>has phenotype</td>\n",
       "      <td>HP:0003236</td>\n",
       "      <td>DISO</td>\n",
       "      <td>Duchenne muscular dystrophy</td>\n",
       "      <td>1</td>\n",
       "      <td>DISO</td>\n",
       "      <td>Elevated circulating creatine kinase concentra...</td>\n",
       "      <td>1</td>\n",
       "      <td>323</td>\n",
       "      <td>1145</td>\n",
       "      <td>Elevated circulating creatine kinase concentra...</td>\n",
       "    </tr>\n",
       "    <tr>\n",
       "      <th>57205</th>\n",
       "      <td>MONDO:0010679</td>\n",
       "      <td>has phenotype</td>\n",
       "      <td>HP:0001263</td>\n",
       "      <td>DISO</td>\n",
       "      <td>Duchenne muscular dystrophy</td>\n",
       "      <td>1</td>\n",
       "      <td>DISO</td>\n",
       "      <td>Global developmental delay</td>\n",
       "      <td>1</td>\n",
       "      <td>323</td>\n",
       "      <td>4070</td>\n",
       "      <td>Global developmental delay</td>\n",
       "    </tr>\n",
       "    <tr>\n",
       "      <th>60970</th>\n",
       "      <td>MONDO:0010679</td>\n",
       "      <td>has phenotype</td>\n",
       "      <td>HP:0003202</td>\n",
       "      <td>DISO</td>\n",
       "      <td>Duchenne muscular dystrophy</td>\n",
       "      <td>1</td>\n",
       "      <td>DISO</td>\n",
       "      <td>Skeletal muscle atrophy</td>\n",
       "      <td>1</td>\n",
       "      <td>323</td>\n",
       "      <td>227</td>\n",
       "      <td>Skeletal muscle atrophy</td>\n",
       "    </tr>\n",
       "    <tr>\n",
       "      <th>63337</th>\n",
       "      <td>MONDO:0010679</td>\n",
       "      <td>has phenotype</td>\n",
       "      <td>HP:0002093</td>\n",
       "      <td>DISO</td>\n",
       "      <td>Duchenne muscular dystrophy</td>\n",
       "      <td>1</td>\n",
       "      <td>DISO</td>\n",
       "      <td>Respiratory insufficiency</td>\n",
       "      <td>1</td>\n",
       "      <td>323</td>\n",
       "      <td>3090</td>\n",
       "      <td>Respiratory insufficiency</td>\n",
       "    </tr>\n",
       "    <tr>\n",
       "      <th>71755</th>\n",
       "      <td>MONDO:0010679</td>\n",
       "      <td>has phenotype</td>\n",
       "      <td>HP:0002515</td>\n",
       "      <td>DISO</td>\n",
       "      <td>Duchenne muscular dystrophy</td>\n",
       "      <td>1</td>\n",
       "      <td>DISO</td>\n",
       "      <td>Waddling gait</td>\n",
       "      <td>1</td>\n",
       "      <td>323</td>\n",
       "      <td>4574</td>\n",
       "      <td>Waddling gait</td>\n",
       "    </tr>\n",
       "    <tr>\n",
       "      <th>76958</th>\n",
       "      <td>MONDO:0010679</td>\n",
       "      <td>has phenotype</td>\n",
       "      <td>HP:0003391</td>\n",
       "      <td>DISO</td>\n",
       "      <td>Duchenne muscular dystrophy</td>\n",
       "      <td>1</td>\n",
       "      <td>DISO</td>\n",
       "      <td>Gowers sign</td>\n",
       "      <td>1</td>\n",
       "      <td>323</td>\n",
       "      <td>3897</td>\n",
       "      <td>Gowers sign</td>\n",
       "    </tr>\n",
       "    <tr>\n",
       "      <th>80176</th>\n",
       "      <td>MONDO:0010679</td>\n",
       "      <td>has phenotype</td>\n",
       "      <td>HP:0001290</td>\n",
       "      <td>DISO</td>\n",
       "      <td>Duchenne muscular dystrophy</td>\n",
       "      <td>1</td>\n",
       "      <td>DISO</td>\n",
       "      <td>Generalized hypotonia</td>\n",
       "      <td>1</td>\n",
       "      <td>323</td>\n",
       "      <td>2596</td>\n",
       "      <td>Generalized hypotonia</td>\n",
       "    </tr>\n",
       "    <tr>\n",
       "      <th>82477</th>\n",
       "      <td>MONDO:0010679</td>\n",
       "      <td>has phenotype</td>\n",
       "      <td>HP:0003323</td>\n",
       "      <td>DISO</td>\n",
       "      <td>Duchenne muscular dystrophy</td>\n",
       "      <td>1</td>\n",
       "      <td>DISO</td>\n",
       "      <td>Progressive muscle weakness</td>\n",
       "      <td>1</td>\n",
       "      <td>323</td>\n",
       "      <td>3687</td>\n",
       "      <td>Progressive muscle weakness</td>\n",
       "    </tr>\n",
       "    <tr>\n",
       "      <th>86701</th>\n",
       "      <td>MONDO:0010679</td>\n",
       "      <td>has phenotype</td>\n",
       "      <td>HP:0002650</td>\n",
       "      <td>DISO</td>\n",
       "      <td>Duchenne muscular dystrophy</td>\n",
       "      <td>1</td>\n",
       "      <td>DISO</td>\n",
       "      <td>Scoliosis</td>\n",
       "      <td>1</td>\n",
       "      <td>323</td>\n",
       "      <td>2622</td>\n",
       "      <td>Scoliosis</td>\n",
       "    </tr>\n",
       "    <tr>\n",
       "      <th>90190</th>\n",
       "      <td>MONDO:0010679</td>\n",
       "      <td>has phenotype</td>\n",
       "      <td>HP:0003307</td>\n",
       "      <td>DISO</td>\n",
       "      <td>Duchenne muscular dystrophy</td>\n",
       "      <td>1</td>\n",
       "      <td>DISO</td>\n",
       "      <td>Hyperlordosis</td>\n",
       "      <td>1</td>\n",
       "      <td>323</td>\n",
       "      <td>5202</td>\n",
       "      <td>Hyperlordosis</td>\n",
       "    </tr>\n",
       "  </tbody>\n",
       "</table>\n",
       "</div>"
      ],
      "text/plain": [
       "                head   relationship        tail class_head  \\\n",
       "608    MONDO:0010679  has phenotype  HP:0001252       DISO   \n",
       "3181   MONDO:0010679  has phenotype  HP:0001328       DISO   \n",
       "8391   MONDO:0010679  has phenotype  HP:0011675       DISO   \n",
       "15936  MONDO:0010679  has phenotype  HP:0001635       DISO   \n",
       "19211  MONDO:0010679  has phenotype  HP:0001644       DISO   \n",
       "20634  MONDO:0010679  has phenotype  HP:0008981       DISO   \n",
       "30416  MONDO:0010679  has phenotype  HP:0001270       DISO   \n",
       "30432  MONDO:0010679  has phenotype  HP:0003560       DISO   \n",
       "31176  MONDO:0010679  has phenotype  HP:0000750       DISO   \n",
       "34153  MONDO:0010679  has phenotype  HP:0002791       DISO   \n",
       "34896  MONDO:0010679  has phenotype  HP:0001256       DISO   \n",
       "35504  MONDO:0010679  has phenotype  HP:0001265       DISO   \n",
       "37565  MONDO:0010679  has phenotype  HP:0100543       DISO   \n",
       "39273  MONDO:0010679  has phenotype  HP:0003701       DISO   \n",
       "40237  MONDO:0010679  has phenotype  HP:0003115       DISO   \n",
       "40762  MONDO:0010679  has phenotype  HP:0003707       DISO   \n",
       "41919  MONDO:0010679  has phenotype  HP:0001638       DISO   \n",
       "42577  MONDO:0010679  has phenotype  HP:0001371       DISO   \n",
       "46888  MONDO:0010679  has phenotype  HP:0003236       DISO   \n",
       "57205  MONDO:0010679  has phenotype  HP:0001263       DISO   \n",
       "60970  MONDO:0010679  has phenotype  HP:0003202       DISO   \n",
       "63337  MONDO:0010679  has phenotype  HP:0002093       DISO   \n",
       "71755  MONDO:0010679  has phenotype  HP:0002515       DISO   \n",
       "76958  MONDO:0010679  has phenotype  HP:0003391       DISO   \n",
       "80176  MONDO:0010679  has phenotype  HP:0001290       DISO   \n",
       "82477  MONDO:0010679  has phenotype  HP:0003323       DISO   \n",
       "86701  MONDO:0010679  has phenotype  HP:0002650       DISO   \n",
       "90190  MONDO:0010679  has phenotype  HP:0003307       DISO   \n",
       "\n",
       "                       preflabel_x  semantic_id_x class_tail  \\\n",
       "608    Duchenne muscular dystrophy              1       DISO   \n",
       "3181   Duchenne muscular dystrophy              1       DISO   \n",
       "8391   Duchenne muscular dystrophy              1       DISO   \n",
       "15936  Duchenne muscular dystrophy              1       DISO   \n",
       "19211  Duchenne muscular dystrophy              1       DISO   \n",
       "20634  Duchenne muscular dystrophy              1       DISO   \n",
       "30416  Duchenne muscular dystrophy              1       DISO   \n",
       "30432  Duchenne muscular dystrophy              1       DISO   \n",
       "31176  Duchenne muscular dystrophy              1       DISO   \n",
       "34153  Duchenne muscular dystrophy              1       DISO   \n",
       "34896  Duchenne muscular dystrophy              1       DISO   \n",
       "35504  Duchenne muscular dystrophy              1       DISO   \n",
       "37565  Duchenne muscular dystrophy              1       DISO   \n",
       "39273  Duchenne muscular dystrophy              1       DISO   \n",
       "40237  Duchenne muscular dystrophy              1       DISO   \n",
       "40762  Duchenne muscular dystrophy              1       DISO   \n",
       "41919  Duchenne muscular dystrophy              1       DISO   \n",
       "42577  Duchenne muscular dystrophy              1       DISO   \n",
       "46888  Duchenne muscular dystrophy              1       DISO   \n",
       "57205  Duchenne muscular dystrophy              1       DISO   \n",
       "60970  Duchenne muscular dystrophy              1       DISO   \n",
       "63337  Duchenne muscular dystrophy              1       DISO   \n",
       "71755  Duchenne muscular dystrophy              1       DISO   \n",
       "76958  Duchenne muscular dystrophy              1       DISO   \n",
       "80176  Duchenne muscular dystrophy              1       DISO   \n",
       "82477  Duchenne muscular dystrophy              1       DISO   \n",
       "86701  Duchenne muscular dystrophy              1       DISO   \n",
       "90190  Duchenne muscular dystrophy              1       DISO   \n",
       "\n",
       "                                             preflabel_y  semantic_id_y  \\\n",
       "608                                            Hypotonia              1   \n",
       "3181                        Specific learning disability              1   \n",
       "8391                                          Arrhythmia              1   \n",
       "15936                           Congestive heart failure              1   \n",
       "19211                             Dilated cardiomyopathy              1   \n",
       "20634                            Calf muscle hypertrophy              1   \n",
       "30416                                        Motor delay              1   \n",
       "30432                                 Muscular dystrophy              1   \n",
       "31176            Delayed speech and language development              1   \n",
       "34153                                    Hypoventilation              1   \n",
       "34896                      Intellectual disability, mild              1   \n",
       "35504                                       Hyporeflexia              1   \n",
       "37565                               Cognitive impairment              1   \n",
       "39273                           Proximal muscle weakness              1   \n",
       "40237                                       Abnormal EKG              1   \n",
       "40762                      Calf muscle pseudohypertrophy              1   \n",
       "41919                                     Cardiomyopathy              1   \n",
       "42577                                Flexion contracture              1   \n",
       "46888  Elevated circulating creatine kinase concentra...              1   \n",
       "57205                         Global developmental delay              1   \n",
       "60970                            Skeletal muscle atrophy              1   \n",
       "63337                          Respiratory insufficiency              1   \n",
       "71755                                      Waddling gait              1   \n",
       "76958                                        Gowers sign              1   \n",
       "80176                              Generalized hypotonia              1   \n",
       "82477                        Progressive muscle weakness              1   \n",
       "86701                                          Scoliosis              1   \n",
       "90190                                      Hyperlordosis              1   \n",
       "\n",
       "       index_head  index_tail  \\\n",
       "608           323        1008   \n",
       "3181          323        1898   \n",
       "8391          323        3456   \n",
       "15936         323        1739   \n",
       "19211         323        1771   \n",
       "20634         323        2367   \n",
       "30416         323        3122   \n",
       "30432         323         385   \n",
       "31176         323        3514   \n",
       "34153         323        4577   \n",
       "34896         323        3248   \n",
       "35504         323        5103   \n",
       "37565         323        3859   \n",
       "39273         323        2880   \n",
       "40237         323        5797   \n",
       "40762         323        2665   \n",
       "41919         323        5784   \n",
       "42577         323        2215   \n",
       "46888         323        1145   \n",
       "57205         323        4070   \n",
       "60970         323         227   \n",
       "63337         323        3090   \n",
       "71755         323        4574   \n",
       "76958         323        3897   \n",
       "80176         323        2596   \n",
       "82477         323        3687   \n",
       "86701         323        2622   \n",
       "90190         323        5202   \n",
       "\n",
       "                                               preflabel  \n",
       "608                                            Hypotonia  \n",
       "3181                        Specific learning disability  \n",
       "8391                                          Arrhythmia  \n",
       "15936                           Congestive heart failure  \n",
       "19211                             Dilated cardiomyopathy  \n",
       "20634                            Calf muscle hypertrophy  \n",
       "30416                                        Motor delay  \n",
       "30432                                 Muscular dystrophy  \n",
       "31176            Delayed speech and language development  \n",
       "34153                                    Hypoventilation  \n",
       "34896                      Intellectual disability, mild  \n",
       "35504                                       Hyporeflexia  \n",
       "37565                               Cognitive impairment  \n",
       "39273                           Proximal muscle weakness  \n",
       "40237                                       Abnormal EKG  \n",
       "40762                      Calf muscle pseudohypertrophy  \n",
       "41919                                     Cardiomyopathy  \n",
       "42577                                Flexion contracture  \n",
       "46888  Elevated circulating creatine kinase concentra...  \n",
       "57205                         Global developmental delay  \n",
       "60970                            Skeletal muscle atrophy  \n",
       "63337                          Respiratory insufficiency  \n",
       "71755                                      Waddling gait  \n",
       "76958                                        Gowers sign  \n",
       "80176                              Generalized hypotonia  \n",
       "82477                        Progressive muscle weakness  \n",
       "86701                                          Scoliosis  \n",
       "90190                                      Hyperlordosis  "
      ]
     },
     "execution_count": 187,
     "metadata": {},
     "output_type": "execute_result"
    }
   ],
   "source": [
    "symptoms"
   ]
  },
  {
   "cell_type": "markdown",
   "metadata": {},
   "source": [
    "This function will return the score between a certain node (selected by its ID) and all the other nodes in the graph: "
   ]
  },
  {
   "cell_type": "code",
   "execution_count": 188,
   "metadata": {
    "id": "hgvWJcoVKaqy"
   },
   "outputs": [],
   "source": [
    "def candidates(nodes, id, x): \n",
    "  ind = nodes[nodes['id'] == id].index.values.astype(int)[0]\n",
    "  predictions = nodes\n",
    "  scores = []\n",
    "  for i in range(len(x)):  \n",
    "    s = score(x, i, ind)\n",
    "    scores.append(s)\n",
    "  predictions['Score'] = scores\n",
    "  return predictions"
   ]
  },
  {
   "cell_type": "markdown",
   "metadata": {},
   "source": [
    "Obtain the embeddings using the loaded/trained model:"
   ]
  },
  {
   "cell_type": "code",
   "execution_count": 189,
   "metadata": {},
   "outputs": [],
   "source": [
    "from deepsnap.graph import Graph\n",
    "DeepG = Graph(G)"
   ]
  },
  {
   "cell_type": "code",
   "execution_count": 190,
   "metadata": {},
   "outputs": [],
   "source": [
    "_, best_x = best_model(DeepG.node_feature, DeepG.edge_index, DeepG.edge_label_index, training = False)"
   ]
  },
  {
   "cell_type": "markdown",
   "metadata": {},
   "source": [
    "List the candidates:"
   ]
  },
  {
   "cell_type": "code",
   "execution_count": 203,
   "metadata": {
    "colab": {
     "base_uri": "https://localhost:8080/",
     "height": 468
    },
    "id": "0yhFWBCFKl9H",
    "outputId": "e93236e9-7fe6-4b49-a571-15b3ae55c18f",
    "scrolled": true
   },
   "outputs": [
    {
     "data": {
      "text/html": [
       "<div>\n",
       "<style scoped>\n",
       "    .dataframe tbody tr th:only-of-type {\n",
       "        vertical-align: middle;\n",
       "    }\n",
       "\n",
       "    .dataframe tbody tr th {\n",
       "        vertical-align: top;\n",
       "    }\n",
       "\n",
       "    .dataframe thead th {\n",
       "        text-align: right;\n",
       "    }\n",
       "</style>\n",
       "<table border=\"1\" class=\"dataframe\">\n",
       "  <thead>\n",
       "    <tr style=\"text-align: right;\">\n",
       "      <th></th>\n",
       "      <th>id</th>\n",
       "      <th>semantic_groups</th>\n",
       "      <th>preflabel</th>\n",
       "      <th>semantic_id</th>\n",
       "      <th>Score</th>\n",
       "    </tr>\n",
       "  </thead>\n",
       "  <tbody>\n",
       "    <tr>\n",
       "      <th>10777</th>\n",
       "      <td>5345</td>\n",
       "      <td>DRUG</td>\n",
       "      <td>entrectinib</td>\n",
       "      <td>2</td>\n",
       "      <td>[0.95223063]</td>\n",
       "    </tr>\n",
       "    <tr>\n",
       "      <th>10740</th>\n",
       "      <td>4225</td>\n",
       "      <td>DRUG</td>\n",
       "      <td>axitinib</td>\n",
       "      <td>2</td>\n",
       "      <td>[0.93142116]</td>\n",
       "    </tr>\n",
       "    <tr>\n",
       "      <th>10719</th>\n",
       "      <td>3514</td>\n",
       "      <td>DRUG</td>\n",
       "      <td>quercetin</td>\n",
       "      <td>2</td>\n",
       "      <td>[0.9075912]</td>\n",
       "    </tr>\n",
       "    <tr>\n",
       "      <th>10672</th>\n",
       "      <td>2459</td>\n",
       "      <td>DRUG</td>\n",
       "      <td>sorafenib</td>\n",
       "      <td>2</td>\n",
       "      <td>[0.9074932]</td>\n",
       "    </tr>\n",
       "    <tr>\n",
       "      <th>10764</th>\n",
       "      <td>4903</td>\n",
       "      <td>DRUG</td>\n",
       "      <td>nintedanib</td>\n",
       "      <td>2</td>\n",
       "      <td>[0.90545416]</td>\n",
       "    </tr>\n",
       "    <tr>\n",
       "      <th>10746</th>\n",
       "      <td>4359</td>\n",
       "      <td>DRUG</td>\n",
       "      <td>bosutinib</td>\n",
       "      <td>2</td>\n",
       "      <td>[0.90461737]</td>\n",
       "    </tr>\n",
       "    <tr>\n",
       "      <th>10731</th>\n",
       "      <td>4119</td>\n",
       "      <td>DRUG</td>\n",
       "      <td>romidepsin</td>\n",
       "      <td>2</td>\n",
       "      <td>[0.900632]</td>\n",
       "    </tr>\n",
       "    <tr>\n",
       "      <th>10769</th>\n",
       "      <td>5231</td>\n",
       "      <td>DRUG</td>\n",
       "      <td>midostaurin</td>\n",
       "      <td>2</td>\n",
       "      <td>[0.8967456]</td>\n",
       "    </tr>\n",
       "    <tr>\n",
       "      <th>10778</th>\n",
       "      <td>5347</td>\n",
       "      <td>DRUG</td>\n",
       "      <td>fedratinib</td>\n",
       "      <td>2</td>\n",
       "      <td>[0.8885186]</td>\n",
       "    </tr>\n",
       "    <tr>\n",
       "      <th>10758</th>\n",
       "      <td>4810</td>\n",
       "      <td>DRUG</td>\n",
       "      <td>ibrutinib</td>\n",
       "      <td>2</td>\n",
       "      <td>[0.8878181]</td>\n",
       "    </tr>\n",
       "    <tr>\n",
       "      <th>10552</th>\n",
       "      <td>960</td>\n",
       "      <td>DRUG</td>\n",
       "      <td>doxorubicin</td>\n",
       "      <td>2</td>\n",
       "      <td>[0.88511646]</td>\n",
       "    </tr>\n",
       "    <tr>\n",
       "      <th>10462</th>\n",
       "      <td>73</td>\n",
       "      <td>DRUG</td>\n",
       "      <td>acepromazine</td>\n",
       "      <td>2</td>\n",
       "      <td>[0.8671633]</td>\n",
       "    </tr>\n",
       "    <tr>\n",
       "      <th>10561</th>\n",
       "      <td>1045</td>\n",
       "      <td>DRUG</td>\n",
       "      <td>erlotinib</td>\n",
       "      <td>2</td>\n",
       "      <td>[0.8625989]</td>\n",
       "    </tr>\n",
       "    <tr>\n",
       "      <th>10737</th>\n",
       "      <td>4187</td>\n",
       "      <td>DRUG</td>\n",
       "      <td>crizotinib</td>\n",
       "      <td>2</td>\n",
       "      <td>[0.8623685]</td>\n",
       "    </tr>\n",
       "    <tr>\n",
       "      <th>10678</th>\n",
       "      <td>2544</td>\n",
       "      <td>DRUG</td>\n",
       "      <td>sunitinib</td>\n",
       "      <td>2</td>\n",
       "      <td>[0.85981005]</td>\n",
       "    </tr>\n",
       "    <tr>\n",
       "      <th>10563</th>\n",
       "      <td>1057</td>\n",
       "      <td>DRUG</td>\n",
       "      <td>estradiol</td>\n",
       "      <td>2</td>\n",
       "      <td>[0.85696363]</td>\n",
       "    </tr>\n",
       "    <tr>\n",
       "      <th>10548</th>\n",
       "      <td>926</td>\n",
       "      <td>DRUG</td>\n",
       "      <td>disopyramide</td>\n",
       "      <td>2</td>\n",
       "      <td>[0.8504199]</td>\n",
       "    </tr>\n",
       "    <tr>\n",
       "      <th>10492</th>\n",
       "      <td>391</td>\n",
       "      <td>DRUG</td>\n",
       "      <td>bortezomib</td>\n",
       "      <td>2</td>\n",
       "      <td>[0.8406722]</td>\n",
       "    </tr>\n",
       "    <tr>\n",
       "      <th>10770</th>\n",
       "      <td>5252</td>\n",
       "      <td>DRUG</td>\n",
       "      <td>neratinib</td>\n",
       "      <td>2</td>\n",
       "      <td>[0.8356354]</td>\n",
       "    </tr>\n",
       "    <tr>\n",
       "      <th>10506</th>\n",
       "      <td>624</td>\n",
       "      <td>DRUG</td>\n",
       "      <td>chlortetracycline</td>\n",
       "      <td>2</td>\n",
       "      <td>[0.8351706]</td>\n",
       "    </tr>\n",
       "  </tbody>\n",
       "</table>\n",
       "</div>"
      ],
      "text/plain": [
       "         id semantic_groups          preflabel  semantic_id         Score\n",
       "10777  5345            DRUG        entrectinib            2  [0.95223063]\n",
       "10740  4225            DRUG           axitinib            2  [0.93142116]\n",
       "10719  3514            DRUG          quercetin            2   [0.9075912]\n",
       "10672  2459            DRUG          sorafenib            2   [0.9074932]\n",
       "10764  4903            DRUG         nintedanib            2  [0.90545416]\n",
       "10746  4359            DRUG          bosutinib            2  [0.90461737]\n",
       "10731  4119            DRUG         romidepsin            2    [0.900632]\n",
       "10769  5231            DRUG        midostaurin            2   [0.8967456]\n",
       "10778  5347            DRUG         fedratinib            2   [0.8885186]\n",
       "10758  4810            DRUG          ibrutinib            2   [0.8878181]\n",
       "10552   960            DRUG        doxorubicin            2  [0.88511646]\n",
       "10462    73            DRUG       acepromazine            2   [0.8671633]\n",
       "10561  1045            DRUG          erlotinib            2   [0.8625989]\n",
       "10737  4187            DRUG         crizotinib            2   [0.8623685]\n",
       "10678  2544            DRUG          sunitinib            2  [0.85981005]\n",
       "10563  1057            DRUG          estradiol            2  [0.85696363]\n",
       "10548   926            DRUG       disopyramide            2   [0.8504199]\n",
       "10492   391            DRUG         bortezomib            2   [0.8406722]\n",
       "10770  5252            DRUG          neratinib            2   [0.8356354]\n",
       "10506   624            DRUG  chlortetracycline            2   [0.8351706]"
      ]
     },
     "execution_count": 203,
     "metadata": {},
     "output_type": "execute_result"
    }
   ],
   "source": [
    "predictions = candidates(nodes, 'HP:0100543', best_x)\n",
    "predictions[predictions['semantic_groups'] == 'DRUG'].sort_values(by = ['Score'], ascending = False).head(20)"
   ]
  },
  {
   "cell_type": "code",
   "execution_count": 276,
   "metadata": {},
   "outputs": [
    {
     "data": {
      "text/html": [
       "<div>\n",
       "<style scoped>\n",
       "    .dataframe tbody tr th:only-of-type {\n",
       "        vertical-align: middle;\n",
       "    }\n",
       "\n",
       "    .dataframe tbody tr th {\n",
       "        vertical-align: top;\n",
       "    }\n",
       "\n",
       "    .dataframe thead th {\n",
       "        text-align: right;\n",
       "    }\n",
       "</style>\n",
       "<table border=\"1\" class=\"dataframe\">\n",
       "  <thead>\n",
       "    <tr style=\"text-align: right;\">\n",
       "      <th></th>\n",
       "      <th>head</th>\n",
       "      <th>relationship</th>\n",
       "      <th>tail</th>\n",
       "      <th>class_head</th>\n",
       "      <th>preflabel_x</th>\n",
       "      <th>semantic_id_x</th>\n",
       "      <th>class_tail</th>\n",
       "      <th>preflabel_y</th>\n",
       "      <th>semantic_id_y</th>\n",
       "      <th>index_head</th>\n",
       "      <th>index_tail</th>\n",
       "    </tr>\n",
       "  </thead>\n",
       "  <tbody>\n",
       "    <tr>\n",
       "      <th>121</th>\n",
       "      <td>HGNC:2928</td>\n",
       "      <td>has phenotype</td>\n",
       "      <td>HP:0003202</td>\n",
       "      <td>GENE</td>\n",
       "      <td>DMD</td>\n",
       "      <td>3</td>\n",
       "      <td>DISO</td>\n",
       "      <td>Skeletal muscle atrophy</td>\n",
       "      <td>1</td>\n",
       "      <td>67</td>\n",
       "      <td>227</td>\n",
       "    </tr>\n",
       "    <tr>\n",
       "      <th>847</th>\n",
       "      <td>HGNC:2928</td>\n",
       "      <td>has phenotype</td>\n",
       "      <td>HP:0012704</td>\n",
       "      <td>GENE</td>\n",
       "      <td>DMD</td>\n",
       "      <td>3</td>\n",
       "      <td>DISO</td>\n",
       "      <td>Widened subarachnoid space</td>\n",
       "      <td>1</td>\n",
       "      <td>67</td>\n",
       "      <td>1309</td>\n",
       "    </tr>\n",
       "    <tr>\n",
       "      <th>1195</th>\n",
       "      <td>HGNC:2928</td>\n",
       "      <td>has phenotype</td>\n",
       "      <td>HP:0000219</td>\n",
       "      <td>GENE</td>\n",
       "      <td>DMD</td>\n",
       "      <td>3</td>\n",
       "      <td>DISO</td>\n",
       "      <td>Thin upper lip vermilion</td>\n",
       "      <td>1</td>\n",
       "      <td>67</td>\n",
       "      <td>1690</td>\n",
       "    </tr>\n",
       "    <tr>\n",
       "      <th>2421</th>\n",
       "      <td>HGNC:2928</td>\n",
       "      <td>has phenotype</td>\n",
       "      <td>HP:0002465</td>\n",
       "      <td>GENE</td>\n",
       "      <td>DMD</td>\n",
       "      <td>3</td>\n",
       "      <td>DISO</td>\n",
       "      <td>Poor speech</td>\n",
       "      <td>1</td>\n",
       "      <td>67</td>\n",
       "      <td>2661</td>\n",
       "    </tr>\n",
       "    <tr>\n",
       "      <th>4447</th>\n",
       "      <td>HGNC:2928</td>\n",
       "      <td>has phenotype</td>\n",
       "      <td>HP:0003323</td>\n",
       "      <td>GENE</td>\n",
       "      <td>DMD</td>\n",
       "      <td>3</td>\n",
       "      <td>DISO</td>\n",
       "      <td>Progressive muscle weakness</td>\n",
       "      <td>1</td>\n",
       "      <td>67</td>\n",
       "      <td>3687</td>\n",
       "    </tr>\n",
       "    <tr>\n",
       "      <th>...</th>\n",
       "      <td>...</td>\n",
       "      <td>...</td>\n",
       "      <td>...</td>\n",
       "      <td>...</td>\n",
       "      <td>...</td>\n",
       "      <td>...</td>\n",
       "      <td>...</td>\n",
       "      <td>...</td>\n",
       "      <td>...</td>\n",
       "      <td>...</td>\n",
       "      <td>...</td>\n",
       "    </tr>\n",
       "    <tr>\n",
       "      <th>89460</th>\n",
       "      <td>HGNC:2928</td>\n",
       "      <td>has phenotype</td>\n",
       "      <td>HP:0000494</td>\n",
       "      <td>GENE</td>\n",
       "      <td>DMD</td>\n",
       "      <td>3</td>\n",
       "      <td>DISO</td>\n",
       "      <td>Downslanted palpebral fissures</td>\n",
       "      <td>1</td>\n",
       "      <td>67</td>\n",
       "      <td>1212</td>\n",
       "    </tr>\n",
       "    <tr>\n",
       "      <th>89794</th>\n",
       "      <td>HGNC:2928</td>\n",
       "      <td>has phenotype</td>\n",
       "      <td>HP:0002342</td>\n",
       "      <td>GENE</td>\n",
       "      <td>DMD</td>\n",
       "      <td>3</td>\n",
       "      <td>DISO</td>\n",
       "      <td>Intellectual disability, moderate</td>\n",
       "      <td>1</td>\n",
       "      <td>67</td>\n",
       "      <td>5025</td>\n",
       "    </tr>\n",
       "    <tr>\n",
       "      <th>92155</th>\n",
       "      <td>HGNC:2928</td>\n",
       "      <td>has phenotype</td>\n",
       "      <td>HP:0001250</td>\n",
       "      <td>GENE</td>\n",
       "      <td>DMD</td>\n",
       "      <td>3</td>\n",
       "      <td>DISO</td>\n",
       "      <td>Seizure</td>\n",
       "      <td>1</td>\n",
       "      <td>67</td>\n",
       "      <td>1644</td>\n",
       "    </tr>\n",
       "    <tr>\n",
       "      <th>92335</th>\n",
       "      <td>HGNC:2928</td>\n",
       "      <td>has phenotype</td>\n",
       "      <td>HP:0002515</td>\n",
       "      <td>GENE</td>\n",
       "      <td>DMD</td>\n",
       "      <td>3</td>\n",
       "      <td>DISO</td>\n",
       "      <td>Waddling gait</td>\n",
       "      <td>1</td>\n",
       "      <td>67</td>\n",
       "      <td>4574</td>\n",
       "    </tr>\n",
       "    <tr>\n",
       "      <th>93228</th>\n",
       "      <td>HGNC:2928</td>\n",
       "      <td>has phenotype</td>\n",
       "      <td>HP:0003307</td>\n",
       "      <td>GENE</td>\n",
       "      <td>DMD</td>\n",
       "      <td>3</td>\n",
       "      <td>DISO</td>\n",
       "      <td>Hyperlordosis</td>\n",
       "      <td>1</td>\n",
       "      <td>67</td>\n",
       "      <td>5202</td>\n",
       "    </tr>\n",
       "  </tbody>\n",
       "</table>\n",
       "<p>82 rows × 11 columns</p>\n",
       "</div>"
      ],
      "text/plain": [
       "            head   relationship        tail class_head preflabel_x  \\\n",
       "121    HGNC:2928  has phenotype  HP:0003202       GENE         DMD   \n",
       "847    HGNC:2928  has phenotype  HP:0012704       GENE         DMD   \n",
       "1195   HGNC:2928  has phenotype  HP:0000219       GENE         DMD   \n",
       "2421   HGNC:2928  has phenotype  HP:0002465       GENE         DMD   \n",
       "4447   HGNC:2928  has phenotype  HP:0003323       GENE         DMD   \n",
       "...          ...            ...         ...        ...         ...   \n",
       "89460  HGNC:2928  has phenotype  HP:0000494       GENE         DMD   \n",
       "89794  HGNC:2928  has phenotype  HP:0002342       GENE         DMD   \n",
       "92155  HGNC:2928  has phenotype  HP:0001250       GENE         DMD   \n",
       "92335  HGNC:2928  has phenotype  HP:0002515       GENE         DMD   \n",
       "93228  HGNC:2928  has phenotype  HP:0003307       GENE         DMD   \n",
       "\n",
       "       semantic_id_x class_tail                        preflabel_y  \\\n",
       "121                3       DISO            Skeletal muscle atrophy   \n",
       "847                3       DISO         Widened subarachnoid space   \n",
       "1195               3       DISO           Thin upper lip vermilion   \n",
       "2421               3       DISO                        Poor speech   \n",
       "4447               3       DISO        Progressive muscle weakness   \n",
       "...              ...        ...                                ...   \n",
       "89460              3       DISO     Downslanted palpebral fissures   \n",
       "89794              3       DISO  Intellectual disability, moderate   \n",
       "92155              3       DISO                            Seizure   \n",
       "92335              3       DISO                      Waddling gait   \n",
       "93228              3       DISO                      Hyperlordosis   \n",
       "\n",
       "       semantic_id_y  index_head  index_tail  \n",
       "121                1          67         227  \n",
       "847                1          67        1309  \n",
       "1195               1          67        1690  \n",
       "2421               1          67        2661  \n",
       "4447               1          67        3687  \n",
       "...              ...         ...         ...  \n",
       "89460              1          67        1212  \n",
       "89794              1          67        5025  \n",
       "92155              1          67        1644  \n",
       "92335              1          67        4574  \n",
       "93228              1          67        5202  \n",
       "\n",
       "[82 rows x 11 columns]"
      ]
     },
     "execution_count": 276,
     "metadata": {},
     "output_type": "execute_result"
    }
   ],
   "source": [
    "df[(df['head'] == 'HGNC:2928') & (df['relationship'] == 'has phenotype')]"
   ]
  },
  {
   "cell_type": "markdown",
   "metadata": {
    "id": "vNzMoAmHywse"
   },
   "source": [
    "### **Plots**"
   ]
  },
  {
   "cell_type": "code",
   "execution_count": 427,
   "metadata": {
    "colab": {
     "base_uri": "https://localhost:8080/",
     "height": 200
    },
    "id": "4BrBUlQBX5uJ",
    "outputId": "869894ea-ca4a-478b-d7fd-17a6bf129942"
   },
   "outputs": [],
   "source": [
    "from sklearn.preprocessing import StandardScaler\n",
    "z = StandardScaler().fit_transform(best_x.detach().numpy())"
   ]
  },
  {
   "cell_type": "code",
   "execution_count": 486,
   "metadata": {
    "id": "o_FKWArHYmh5"
   },
   "outputs": [],
   "source": [
    "from sklearn.decomposition import PCA\n",
    "\n",
    "pca = PCA(n_components=32)\n",
    "principalComponents = pca.fit_transform(z)\n",
    "principalDf = pd.DataFrame(data = principalComponents[:, [0,1]]\n",
    "             , columns = ['principal component 1', 'principal component 2'])"
   ]
  },
  {
   "cell_type": "code",
   "execution_count": 429,
   "metadata": {
    "id": "x_1pgTdFazeb"
   },
   "outputs": [
    {
     "name": "stderr",
     "output_type": "stream",
     "text": [
      "/software/anaconda3/lib/python3.7/site-packages/sklearn/manifold/_t_sne.py:783: FutureWarning: The default initialization in TSNE will change from 'random' to 'pca' in 1.2.\n",
      "  FutureWarning,\n"
     ]
    }
   ],
   "source": [
    "from sklearn.manifold import TSNE\n",
    "from sklearn.decomposition import PCA\n",
    "import matplotlib.pyplot as plt\n",
    "\n",
    "X_tsne = TSNE(learning_rate=100, perplexity=40).fit_transform(best_x.detach().numpy())"
   ]
  },
  {
   "cell_type": "code",
   "execution_count": 430,
   "metadata": {
    "id": "VhUqFpzta-6t"
   },
   "outputs": [],
   "source": [
    "tsneDf = pd.DataFrame(data = X_tsne\n",
    "             , columns = ['t-SNE 1', 't-SNE 2'])"
   ]
  },
  {
   "cell_type": "code",
   "execution_count": 431,
   "metadata": {
    "id": "DQl2F_GXb9cw"
   },
   "outputs": [],
   "source": [
    "finaltsne = pd.concat([tsneDf, nodes[['semantic_groups']].reset_index()], axis = 1)"
   ]
  },
  {
   "cell_type": "code",
   "execution_count": 432,
   "metadata": {
    "id": "l1GutzShYt5o"
   },
   "outputs": [],
   "source": [
    "finalDf = pd.concat([principalDf, nodes[['semantic_groups']].reset_index()], axis = 1)"
   ]
  },
  {
   "cell_type": "code",
   "execution_count": 489,
   "metadata": {
    "colab": {
     "base_uri": "https://localhost:8080/",
     "height": 523
    },
    "id": "Do7lbLVTZA3g",
    "outputId": "d8090cb4-c124-4b58-fba1-82cab4fbaea5",
    "scrolled": false
   },
   "outputs": [
    {
     "data": {
      "image/png": "[encoded data removed]",
      "text/plain": [
       "<Figure size 576x576 with 1 Axes>"
      ]
     },
     "metadata": {
      "needs_background": "light"
     },
     "output_type": "display_data"
    }
   ],
   "source": [
    "import matplotlib.pyplot as plt\n",
    "\n",
    "fig = plt.figure(figsize = (8,8))\n",
    "ax = fig.add_subplot(1,1,1) \n",
    "ax.set_xlabel('Principal Component 1', fontsize = 15)\n",
    "ax.set_ylabel('Principal Component 2', fontsize = 15)\n",
    "ax.set_title('2 component PCA', fontsize = 20)\n",
    "targets =list(pd.unique(nodes['semantic_groups']))\n",
    "colors = ['r', 'g', 'b', 'y', 'c', 'm', 'k', 'orange']\n",
    "for target, color in zip(targets,colors):\n",
    "    indicesToKeep = finalDf['semantic_groups'] == target\n",
    "    ax.scatter(finalDf.loc[indicesToKeep, 'principal component 1']\n",
    "               , finalDf.loc[indicesToKeep, 'principal component 2']\n",
    "               , c = color\n",
    "               , s = 50)\n",
    "ax.legend(targets)\n",
    "ax.grid()"
   ]
  },
  {
   "cell_type": "code",
   "execution_count": 487,
   "metadata": {},
   "outputs": [
    {
     "data": {
      "image/png": "[encoded data removed]",
      "text/plain": [
       "<Figure size 432x288 with 1 Axes>"
      ]
     },
     "metadata": {
      "needs_background": "light"
     },
     "output_type": "display_data"
    }
   ],
   "source": [
    "#graficamos el acumulado de varianza explicada en las nuevas dimensiones\n",
    "plt.plot(np.cumsum(pca.explained_variance_ratio_))\n",
    "plt.xlabel('number of components')\n",
    "plt.ylabel('cumulative explained variance')\n",
    "plt.show()"
   ]
  },
  {
   "cell_type": "code",
   "execution_count": 437,
   "metadata": {
    "id": "mwUgpgoVG7y4",
    "scrolled": true
   },
   "outputs": [],
   "source": [
    "%matplotlib inline\n",
    "plt.close('all')"
   ]
  },
  {
   "cell_type": "code",
   "execution_count": 438,
   "metadata": {
    "colab": {
     "base_uri": "https://localhost:8080/",
     "height": 523
    },
    "id": "-2_lmB5NcHzo",
    "outputId": "8ae5a8e9-672f-46cf-91a5-76ef5e8b1dad",
    "scrolled": true
   },
   "outputs": [
    {
     "data": {
      "image/png": "[encoded data removed]",
      "text/plain": [
       "<Figure size 576x576 with 1 Axes>"
      ]
     },
     "metadata": {
      "needs_background": "light"
     },
     "output_type": "display_data"
    }
   ],
   "source": [
    "import matplotlib.pyplot as plt\n",
    "\n",
    "fig = plt.figure(figsize = (8,8))\n",
    "ax = fig.add_subplot(1,1,1) \n",
    "ax.set_xlabel('Principal Component 1', fontsize = 15)\n",
    "ax.set_ylabel('Principal Component 2', fontsize = 15)\n",
    "ax.set_title('2 component t-SNE', fontsize = 20)\n",
    "targets =list(pd.unique(nodes['semantic_groups']))\n",
    "colors = ['r', 'g', 'b', 'y', 'c', 'm', 'k', 'orange']\n",
    "for target, color in zip(targets,colors):\n",
    "    indicesToKeep = finaltsne['semantic_groups'] == target\n",
    "    ax.scatter(finaltsne.loc[indicesToKeep, 't-SNE 1']\n",
    "               , finaltsne.loc[indicesToKeep, 't-SNE 2']\n",
    "               , c = color\n",
    "               , s = 50)\n",
    "ax.legend(targets)\n",
    "ax.grid()"
   ]
  },
  {
   "cell_type": "markdown",
   "metadata": {
    "id": "CcX6LXBo_-8F"
   },
   "source": [
    "### **GNNExplainner**"
   ]
  },
  {
   "cell_type": "markdown",
   "metadata": {},
   "source": [
    "In this section explanations will be provided for a given prediction. We start by loading the functions that we will be using: "
   ]
  },
  {
   "cell_type": "code",
   "execution_count": 31,
   "metadata": {
    "id": "1FgBwviUiLHu"
   },
   "outputs": [],
   "source": [
    "from math import sqrt\n",
    "from typing import Optional\n",
    "\n",
    "import torch\n",
    "from tqdm import tqdm\n",
    "\n",
    "from torch_geometric.nn.models.explainer import (\n",
    "    Explainer,\n",
    "    clear_masks,\n",
    "    set_masks,\n",
    ")\n",
    "\n",
    "EPS = 1e-15\n",
    "\n",
    "\n",
    "class GNNExplainer(Explainer):\n",
    "    r\"\"\"The GNN-Explainer model from the `\"GNNExplainer: Generating\n",
    "    Explanations for Graph Neural Networks\"\n",
    "    <https://arxiv.org/abs/1903.03894>`_ paper for identifying compact subgraph\n",
    "    structures and small subsets node features that play a crucial role in a\n",
    "    GNN’s node-predictions.\n",
    "\n",
    "    .. note::\n",
    "\n",
    "        For an example of using GNN-Explainer, see `examples/gnn_explainer.py\n",
    "        <https://github.com/pyg-team/pytorch_geometric/blob/master/examples/\n",
    "        gnn_explainer.py>`_.\n",
    "\n",
    "    Args:\n",
    "        model (torch.nn.Module): The GNN module to explain.\n",
    "        epochs (int, optional): The number of epochs to train.\n",
    "            (default: :obj:`100`)\n",
    "        lr (float, optional): The learning rate to apply.\n",
    "            (default: :obj:`0.01`)\n",
    "        num_hops (int, optional): The number of hops the :obj:`model` is\n",
    "            aggregating information from.\n",
    "            If set to :obj:`None`, will automatically try to detect this\n",
    "            information based on the number of\n",
    "            :class:`~torch_geometric.nn.conv.message_passing.MessagePassing`\n",
    "            layers inside :obj:`model`. (default: :obj:`None`)\n",
    "        return_type (str, optional): Denotes the type of output from\n",
    "            :obj:`model`. Valid inputs are :obj:`\"log_prob\"` (the model\n",
    "            returns the logarithm of probabilities), :obj:`\"prob\"` (the\n",
    "            model returns probabilities), :obj:`\"raw\"` (the model returns raw\n",
    "            scores) and :obj:`\"regression\"` (the model returns scalars).\n",
    "            (default: :obj:`\"log_prob\"`)\n",
    "        feat_mask_type (str, optional): Denotes the type of feature mask\n",
    "            that will be learned. Valid inputs are :obj:`\"feature\"` (a single\n",
    "            feature-level mask for all nodes), :obj:`\"individual_feature\"`\n",
    "            (individual feature-level masks for each node), and :obj:`\"scalar\"`\n",
    "            (scalar mask for each each node). (default: :obj:`\"feature\"`)\n",
    "        allow_edge_mask (boolean, optional): If set to :obj:`False`, the edge\n",
    "            mask will not be optimized. (default: :obj:`True`)\n",
    "        log (bool, optional): If set to :obj:`False`, will not log any learning\n",
    "            progress. (default: :obj:`True`)\n",
    "        **kwargs (optional): Additional hyper-parameters to override default\n",
    "            settings in :attr:`~torch_geometric.nn.models.GNNExplainer.coeffs`.\n",
    "    \"\"\"\n",
    "\n",
    "    coeffs = {\n",
    "        'edge_size': 0.00005,\n",
    "        'edge_reduction': 'sum',\n",
    "        'node_feat_size': 1.0,\n",
    "        'node_feat_reduction': 'mean',\n",
    "        'edge_ent': 1.0,\n",
    "        'node_feat_ent': 0.1,\n",
    "    }\n",
    "\n",
    "    def __init__(self, model, epochs: int = 100, lr: float = 0.01,\n",
    "                 num_hops: Optional[int] = None, return_type: str = 'log_prob',\n",
    "                 feat_mask_type: str = 'feature', allow_edge_mask: bool = True,\n",
    "                 log: bool = True, **kwargs):\n",
    "        super().__init__(model, lr, epochs, num_hops, return_type, log)\n",
    "        assert feat_mask_type in ['feature', 'individual_feature', 'scalar']\n",
    "        self.allow_edge_mask = allow_edge_mask\n",
    "        self.feat_mask_type = feat_mask_type\n",
    "        self.coeffs.update(kwargs)\n",
    "\n",
    "    def _initialize_masks(self, x, edge_index, init=\"normal\"):\n",
    "        (N, F), E = x.size(), edge_index.size(1)\n",
    "        std = 0.1\n",
    "\n",
    "        if self.feat_mask_type == 'individual_feature':\n",
    "            self.node_feat_mask = torch.nn.Parameter(torch.randn(N, F) * std)\n",
    "        elif self.feat_mask_type == 'scalar':\n",
    "            self.node_feat_mask = torch.nn.Parameter(torch.randn(N, 1) * std)\n",
    "        else:\n",
    "            self.node_feat_mask = torch.nn.Parameter(torch.randn(1, F) * std)\n",
    "\n",
    "        std = torch.nn.init.calculate_gain('relu') * sqrt(2.0 / (2 * N))\n",
    "\n",
    "        if self.allow_edge_mask:\n",
    "            self.edge_mask = torch.nn.Parameter(torch.randn(E) * std)\n",
    "\n",
    "    def _clear_masks(self):\n",
    "        clear_masks(self.model)\n",
    "        self.node_feat_masks = None\n",
    "        self.edge_mask = None\n",
    "\n",
    "    def _loss(self, log_logits, prediction, node_idx: Optional[int] = None):\n",
    "        if self.return_type == 'regression':\n",
    "            if node_idx is not None and node_idx >= 0:\n",
    "                loss = torch.cdist(log_logits[node_idx], prediction[node_idx])\n",
    "            else:\n",
    "                loss = torch.cdist(log_logits, prediction)\n",
    "        else:\n",
    "            if node_idx is not None and node_idx >= 0:\n",
    "                loss = -log_logits[node_idx, prediction[node_idx]]\n",
    "            else:\n",
    "                loss = -log_logits[0, prediction[0]]\n",
    "\n",
    "        if self.allow_edge_mask:\n",
    "            m = self.edge_mask.sigmoid()\n",
    "            edge_reduce = getattr(torch, self.coeffs['edge_reduction'])\n",
    "            loss = loss + self.coeffs['edge_size'] * edge_reduce(m)\n",
    "            ent = -m * torch.log(m + EPS) - (1 - m) * torch.log(1 - m + EPS)\n",
    "            loss = loss + self.coeffs['edge_ent'] * ent.mean()\n",
    "\n",
    "        m = self.node_feat_mask.sigmoid()\n",
    "        node_feat_reduce = getattr(torch, self.coeffs['node_feat_reduction'])\n",
    "        loss = loss + self.coeffs['node_feat_size'] * node_feat_reduce(m)\n",
    "        ent = -m * torch.log(m + EPS) - (1 - m) * torch.log(1 - m + EPS)\n",
    "        loss = loss + self.coeffs['node_feat_ent'] * ent.mean()\n",
    "\n",
    "        return loss\n",
    "\n",
    "    def explain_graph(self, x, edge_index, **kwargs):\n",
    "        r\"\"\"Learns and returns a node feature mask and an edge mask that play a\n",
    "        crucial role to explain the prediction made by the GNN for a graph.\n",
    "\n",
    "        Args:\n",
    "            x (Tensor): The node feature matrix.\n",
    "            edge_index (LongTensor): The edge indices.\n",
    "            **kwargs (optional): Additional arguments passed to the GNN module.\n",
    "\n",
    "        :rtype: (:class:`Tensor`, :class:`Tensor`)\n",
    "        \"\"\"\n",
    "\n",
    "        self.model.eval()\n",
    "        self._clear_masks()\n",
    "\n",
    "        # all nodes belong to same graph\n",
    "        batch = torch.zeros(x.shape[0], dtype=int, device=x.device)\n",
    "\n",
    "        # Get the initial prediction.\n",
    "        prediction = self.get_initial_prediction(x, edge_index, batch=batch,\n",
    "                                                 **kwargs)\n",
    "\n",
    "        self._initialize_masks(x, edge_index)\n",
    "        self.to(x.device)\n",
    "        if self.allow_edge_mask:\n",
    "            set_masks(self.model, self.edge_mask, edge_index,\n",
    "                      apply_sigmoid=True)\n",
    "            parameters = [self.node_feat_mask, self.edge_mask]\n",
    "        else:\n",
    "            parameters = [self.node_feat_mask]\n",
    "        optimizer = torch.optim.Adam(parameters, lr=self.lr)\n",
    "\n",
    "        if self.log:  # pragma: no cover\n",
    "            pbar = tqdm(total=self.epochs)\n",
    "            pbar.set_description('Explain graph')\n",
    "\n",
    "        for epoch in range(1, self.epochs + 1):\n",
    "            optimizer.zero_grad()\n",
    "            h = x * self.node_feat_mask.sigmoid()\n",
    "            out = self.model(x=h, edge_index=edge_index, batch=batch, **kwargs)\n",
    "            loss = self.get_loss(out, prediction, None)\n",
    "            loss.backward()\n",
    "            optimizer.step()\n",
    "\n",
    "            if self.log:  # pragma: no cover\n",
    "                pbar.update(1)\n",
    "\n",
    "        if self.log:  # pragma: no cover\n",
    "            pbar.close()\n",
    "\n",
    "        node_feat_mask = self.node_feat_mask.detach().sigmoid().squeeze()\n",
    "        if self.allow_edge_mask:\n",
    "            edge_mask = self.edge_mask.detach().sigmoid()\n",
    "        else:\n",
    "            edge_mask = torch.ones(edge_index.size(1))\n",
    "\n",
    "        self._clear_masks()\n",
    "        return node_feat_mask, edge_mask\n",
    "\n",
    "\n",
    "    def explain_node(self, node_idx, x, edge_index, **kwargs):\n",
    "        r\"\"\"Learns and returns a node feature mask and an edge mask that play a\n",
    "        crucial role to explain the prediction made by the GNN for node\n",
    "        :attr:`node_idx`.\n",
    "\n",
    "        Args:\n",
    "            node_idx (int): The node to explain.\n",
    "            x (Tensor): The node feature matrix.\n",
    "            edge_index (LongTensor): The edge indices.\n",
    "            **kwargs (optional): Additional arguments passed to the GNN module.\n",
    "\n",
    "        :rtype: (:class:`Tensor`, :class:`Tensor`)\n",
    "        \"\"\"\n",
    "\n",
    "        self.model.eval()\n",
    "        self._clear_masks()\n",
    "\n",
    "        num_nodes = x.size(0)\n",
    "        num_edges = edge_index.size(1)\n",
    "\n",
    "        # Only operate on a k-hop subgraph around `node_idx`.\n",
    "        x, edge_index, mapping, hard_edge_mask, subset, kwargs = \\\n",
    "            self.subgraph(node_idx, -x, edge_index, **kwargs)\n",
    "        print('Edge Index 1:', edge_index)\n",
    "        # Get the initial prediction.\n",
    "        prediction = self.get_initial_prediction(x, edge_index, **kwargs)\n",
    "        print('Prediction:', prediction)\n",
    "\n",
    "        self._initialize_masks(x, edge_index)\n",
    "        self.to(x.device)\n",
    "\n",
    "        if self.allow_edge_mask:\n",
    "            set_masks(self.model, self.edge_mask, edge_index,\n",
    "                      apply_sigmoid=True)\n",
    "            parameters = [self.node_feat_mask, self.edge_mask]\n",
    "        else:\n",
    "            parameters = [self.node_feat_mask]\n",
    "        print('Edge Index 2:', edge_index)\n",
    "        optimizer = torch.optim.Adam(parameters, lr=self.lr)\n",
    "\n",
    "        if self.log:  # pragma: no cover\n",
    "            pbar = tqdm(total=self.epochs)\n",
    "            pbar.set_description(f'Explain node {node_idx}')\n",
    "\n",
    "        for epoch in range(1, self.epochs + 1):\n",
    "            optimizer.zero_grad()\n",
    "            h = x * self.node_feat_mask.sigmoid()\n",
    "            print('X:', x)\n",
    "            print('H:', h)\n",
    "            print('Mask:', self.node_feat_mask.sigmoid())\n",
    "            print('Edge Index 3:', edge_index)\n",
    "            out = self.model(x=h, edge_index=edge_index, **kwargs)\n",
    "            print('Out:', out)\n",
    "            print('Prediction:', prediction)\n",
    "            loss = self.get_loss(out, prediction, mapping)\n",
    "            print('Loss:', loss)\n",
    "            loss.backward()\n",
    "            optimizer.step()\n",
    "\n",
    "            if self.log:  # pragma: no cover\n",
    "                pbar.update(1)\n",
    "        print('Out:', out)\n",
    "        print('Mapping:', mapping )\n",
    "        if self.log:  # pragma: no cover\n",
    "            pbar.close()\n",
    "\n",
    "        node_feat_mask = self.node_feat_mask.detach().sigmoid()\n",
    "        if self.feat_mask_type == 'individual_feature':\n",
    "            new_mask = x.new_zeros(num_nodes, x.size(-1))\n",
    "            new_mask[subset] = node_feat_mask\n",
    "            node_feat_mask = new_mask\n",
    "        elif self.feat_mask_type == 'scalar':\n",
    "            new_mask = x.new_zeros(num_nodes, 1)\n",
    "            new_mask[subset] = node_feat_mask\n",
    "            node_feat_mask = new_mask\n",
    "        node_feat_mask = node_feat_mask.squeeze()\n",
    "\n",
    "        if self.allow_edge_mask:\n",
    "            edge_mask = self.edge_mask.new_zeros(num_edges)\n",
    "            print('Hard Edges:', hard_edge_mask)\n",
    "            print('Len Hard Edges:', len(hard_edge_mask))\n",
    "            print('Edges:', edge_mask)\n",
    "            print('Len Edges:', len(edge_mask))      \n",
    "            edge_mask[hard_edge_mask] = self.edge_mask.detach().sigmoid()\n",
    "        else:\n",
    "            edge_mask = torch.zeros(num_edges)\n",
    "            edge_mask[hard_edge_mask] = 1\n",
    "\n",
    "        self._clear_masks()\n",
    "\n",
    "        return node_feat_mask, edge_mask\n",
    "\n",
    "\n",
    "    def __repr__(self):\n",
    "        return f'{self.__class__.__name__}()'\n",
    "    \n",
    "    def explain_link(self, node_idx1, node_indx2, x, edge_index, G,  **kwargs): \n",
    "        r\"\"\"Learns and returns a node feature mask and an edge mask that play a\n",
    "        crucial role to explain the prediction made by the GNN for node\n",
    "        :attr:`node_idx`.\n",
    "\n",
    "        Args:\n",
    "            node_idx (int): The node to explain.\n",
    "            x (Tensor): The node feature matrix.\n",
    "            edge_index (LongTensor): The edge indices.\n",
    "            **kwargs (optional): Additional arguments passed to the GNN module.\n",
    "\n",
    "        :rtype: (:class:`Tensor`, :class:`Tensor`)\n",
    "        \"\"\"\n",
    "\n",
    "        self.model.eval()\n",
    "        self._clear_masks()\n",
    "        # for module in best_model.modules():  \n",
    "        #   if isinstance(module, MessagePassing):\n",
    "        #     #print(module._edge_mask)\n",
    "\n",
    "        num_nodes = x.size(0)\n",
    "        num_edges = edge_index.size(1)\n",
    "\n",
    "        # dataset = GraphDataset(\n",
    "        # G,\n",
    "        # task='link_pred',\n",
    "        # edge_train_mode=\"all\")\n",
    "        \n",
    "        # dataloader = DataLoader(\n",
    "        #     dataset, collate_fn=Batch.collate([]),\n",
    "        #     batch_size=1, shuffle=False)\n",
    "        \n",
    "        # for i, batch in enumerate(dataloader):\n",
    "        pred, emb = self.model(x, edge_index, edge_index)\n",
    "\n",
    "        \n",
    "        # print('Len Emb:', len(emb))\n",
    "        # Only operate on a k-hop subgraph around `node_idx1`.\n",
    "\n",
    "        x1, edge_index1, mapping1, hard_edge_mask1, subset1, kwargs1 = \\\n",
    "            subgraph([node_idx1, node_idx2], x, edge_index, flow='source_to_target', num_hops = self.num_hops, **kwargs)\n",
    "\n",
    "        # print(edge_index1)\n",
    "\n",
    "        # # Only operate on a k-hop subgraph around `node_idx2`.\n",
    "        # x2, edge_index2, mapping2, hard_edge_mask2, subset2, kwargs2 = \\\n",
    "        #     self.subgraph(node_idx2, x, edge_index, **kwargs)\n",
    "\n",
    "        #initial embedding\n",
    "        node_embedding_1 = emb[node_idx1]\n",
    "        node_embedding_2 = emb[node_idx2]\n",
    "\n",
    "        # Get the initial prediction.       \n",
    "        prediction = torch.Tensor([torch.sum(emb[node_idx1]* emb[node_idx2], dim=-1)]).requires_grad_()\n",
    "        \n",
    "\n",
    "        self._initialize_masks(x1, edge_index1)\n",
    "        self.to(x1.device)\n",
    "\n",
    "        if self.allow_edge_mask:\n",
    "            set_masks(self.model, self.edge_mask, edge_index1,\n",
    "                      apply_sigmoid=True)\n",
    "            parameters = [self.node_feat_mask, self.edge_mask]\n",
    "        else:\n",
    "            parameters = [self.node_feat_mask]\n",
    "        optimizer = torch.optim.Adam(parameters, lr=self.lr)\n",
    "\n",
    "        if self.log:  # pragma: no cover\n",
    "            pbar = tqdm(total=self.epochs)\n",
    "            pbar.set_description(f'Explain node {node_idx}')\n",
    "        \n",
    "        for epoch in range(1, self.epochs + 1):\n",
    "            optimizer.zero_grad()\n",
    "            criterion = torch.nn.MSELoss(reduction='sum')\n",
    "            h = x1 \n",
    "            # # print('X:', x1)\n",
    "            # # print('H:', h)\n",
    "            # # print('Mask:', self.node_feat_mask.sigmoid())\n",
    "            # G1 = nx.Graph()\n",
    "            # for ind, node in enumerate(h): \n",
    "            #   G1.add_node(ind, node_feature=node)\n",
    "            # for i in range(edge_index1.size(1)): \n",
    "            #   G1.add_edge(edge_index1[0][i].item(), edge_index1[1][i].item())\n",
    "            \n",
    "            # # print(\"Number of edges is {}\".format(G1.number_of_edges()))\n",
    "            # # print(\"Number of nodes is {}\".format(G1.number_of_nodes()))\n",
    "            # dataset1 = GraphDataset(\n",
    "            #   G1,\n",
    "            #   task='link_pred',\n",
    "            #   edge_train_mode=\"all\")\n",
    "            \n",
    "            # dataloader1 = DataLoader(\n",
    "            #     dataset1, collate_fn=Batch.collate([]),\n",
    "            #     batch_size=1, shuffle=False)\n",
    "        \n",
    "            # for i, batch in enumerate(dataloader1):\n",
    "            pred1, emb1 = self.model(h, edge_index1, edge_index1)\n",
    "            \n",
    "            # for module in self.model.modules():  \n",
    "            #   if isinstance(module, MessagePassing):\n",
    "            #     print(module._edge_mask)\n",
    "              # module._loop_mask = loop_mask\n",
    "              # module._apply_sigmoid = apply_sigmoid\n",
    "\n",
    "            out = torch.tensor([torch.sum(emb1[mapping1[1]]* emb1[mapping1[0]], dim=-1)]).requires_grad_()\n",
    "            # print('Out:', out)\n",
    "            # print('Prediction:', prediction)\n",
    "            loss = criterion(out, prediction)\n",
    "            #loss = self.get_loss(out, prediction, mapping1)\n",
    "            m = self.edge_mask.sigmoid()\n",
    "            edge_reduce = getattr(torch, self.coeffs['edge_reduction'])\n",
    "            loss = loss + self.coeffs['edge_size'] * edge_reduce(m)\n",
    "            ent = -m * torch.log(m + EPS) - (1 - m) * torch.log(1 - m + EPS)\n",
    "            loss = loss + self.coeffs['edge_ent'] * ent.mean()\n",
    "            # m = self.node_feat_mask.sigmoid()\n",
    "            # node_feat_reduce = getattr(torch, self.coeffs['node_feat_reduction'])\n",
    "            # loss = loss + self.coeffs['node_feat_size'] * node_feat_reduce(m)\n",
    "            # ent = -m * torch.log(m + EPS) - (1 - m) * torch.log(1 - m + EPS)\n",
    "            # loss = loss + self.coeffs['node_feat_ent'] * ent.mean()\n",
    "            # print('Loss:', loss)\n",
    "            loss.backward()\n",
    "            optimizer.step()\n",
    "\n",
    "            if self.log:  # pragma: no cover\n",
    "                pbar.update(1)\n",
    "\n",
    "        if self.log:  # pragma: no cover\n",
    "            pbar.close()\n",
    "\n",
    "        node_feat_mask = self.node_feat_mask.detach().sigmoid()\n",
    "        if self.feat_mask_type == 'individual_feature':\n",
    "            new_mask = x1.new_zeros(num_nodes, x1.size(-1))\n",
    "            new_mask[subset1] = node_feat_mask\n",
    "            node_feat_mask = new_mask\n",
    "        elif self.feat_mask_type == 'scalar':\n",
    "            new_mask = x1.new_zeros(num_nodes, 1)\n",
    "            new_mask[subset1] = node_feat_mask\n",
    "            node_feat_mask = new_mask\n",
    "        node_feat_mask = node_feat_mask.squeeze()\n",
    "        # print('Non Zero:', torch.count_nonzero(node_feat_mask))\n",
    "\n",
    "        if self.allow_edge_mask:\n",
    "            edge_mask = self.edge_mask.new_zeros(num_edges)\n",
    "            # print('Hard Edges:', hard_edge_mask1)\n",
    "            # print('Len Hard Edges:', len(hard_edge_mask1))\n",
    "            # print('Non Zero:', torch.count_nonzero(hard_edge_mask1))\n",
    "            # print('Edges:', edge_mask)\n",
    "            # print('Len Edges:', len(edge_mask))            \n",
    "            edge_mask[hard_edge_mask1] = self.edge_mask.detach().sigmoid()\n",
    "            #print('Edge Mask:', self.edge_mask.detach().sigmoid())\n",
    "            # print('Non Zero:', torch.count_nonzero(edge_mask))\n",
    "        else:\n",
    "            edge_mask = torch.zeros(num_edges)\n",
    "            edge_mask[hard_edge_mask1] = 1\n",
    "\n",
    "        self._clear_masks()\n",
    "\n",
    "        return node_feat_mask, edge_mask\n"
   ]
  },
  {
   "cell_type": "code",
   "execution_count": 32,
   "metadata": {
    "id": "MrlonnAexM99"
   },
   "outputs": [],
   "source": [
    "def maybe_num_nodes(index, num_nodes=None):\n",
    "    return index.max().item() + 1 if num_nodes is None else num_nodes"
   ]
  },
  {
   "cell_type": "code",
   "execution_count": 33,
   "metadata": {
    "id": "ze8iW8mPx-r2"
   },
   "outputs": [],
   "source": [
    "def k_hop_subgraph(node_idx, num_hops, edge_index, relabel_nodes=False,\n",
    "                   num_nodes=None, flow='source_to_target'):\n",
    "    r\"\"\"Computes the :math:`k`-hop subgraph of :obj:`edge_index` around node\n",
    "    :attr:`node_idx`.\n",
    "    It returns (1) the nodes involved in the subgraph, (2) the filtered\n",
    "    :obj:`edge_index` connectivity, (3) the mapping from node indices in\n",
    "    :obj:`node_idx` to their new location, and (4) the edge mask indicating\n",
    "    which edges were preserved.\n",
    "\n",
    "    Args:\n",
    "        node_idx (int, list, tuple or :obj:`torch.Tensor`): The central\n",
    "            node(s).\n",
    "        num_hops: (int): The number of hops :math:`k`.\n",
    "        edge_index (LongTensor): The edge indices.\n",
    "        relabel_nodes (bool, optional): If set to :obj:`True`, the resulting\n",
    "            :obj:`edge_index` will be relabeled to hold consecutive indices\n",
    "            starting from zero. (default: :obj:`False`)\n",
    "        num_nodes (int, optional): The number of nodes, *i.e.*\n",
    "            :obj:`max_val + 1` of :attr:`edge_index`. (default: :obj:`None`)\n",
    "        flow (string, optional): The flow direction of :math:`k`-hop\n",
    "            aggregation (:obj:`\"source_to_target\"` or\n",
    "            :obj:`\"target_to_source\"`). (default: :obj:`\"source_to_target\"`)\n",
    "\n",
    "    :rtype: (:class:`LongTensor`, :class:`LongTensor`, :class:`LongTensor`,\n",
    "             :class:`BoolTensor`)\n",
    "    \"\"\"\n",
    "\n",
    "    num_nodes = maybe_num_nodes(edge_index, num_nodes)\n",
    "\n",
    "    assert flow in ['source_to_target', 'target_to_source']\n",
    "    if flow == 'target_to_source':\n",
    "        row, col = edge_index\n",
    "    else:\n",
    "        col, row = edge_index\n",
    "\n",
    "    node_mask = row.new_empty(num_nodes, dtype=torch.bool)\n",
    "    edge_mask = row.new_empty(row.size(0), dtype=torch.bool)\n",
    "\n",
    "    if isinstance(node_idx, (int, list, tuple)):\n",
    "        node_idx = torch.tensor([node_idx], device=row.device).flatten()\n",
    "    else:\n",
    "        node_idx = node_idx.to(row.device)\n",
    "\n",
    "    subsets = [node_idx]\n",
    "\n",
    "    for _ in range(num_hops):\n",
    "        node_mask.fill_(False)\n",
    "        node_mask[subsets[-1]] = True\n",
    "        torch.index_select(node_mask, 0, row, out=edge_mask)\n",
    "        subsets.append(col[edge_mask])\n",
    "\n",
    "    subset, inv = torch.cat(subsets).unique(return_inverse=True)\n",
    "    inv = inv[:node_idx.numel()]\n",
    "\n",
    "    node_mask.fill_(False)\n",
    "    node_mask[subset] = True\n",
    "    edge_mask = node_mask[row] & node_mask[col]\n",
    "\n",
    "    edge_index = edge_index[:, edge_mask]\n",
    "\n",
    "    if relabel_nodes:\n",
    "        node_idx = row.new_full((num_nodes, ), -1)\n",
    "        node_idx[subset] = torch.arange(subset.size(0), device=row.device)\n",
    "        edge_index = node_idx[edge_index]\n",
    "\n",
    "    return subset, edge_index, inv, edge_mask"
   ]
  },
  {
   "cell_type": "code",
   "execution_count": 235,
   "metadata": {
    "id": "XN5T_7MDyHdw"
   },
   "outputs": [],
   "source": [
    "def subgraph(node_idx, x, edge_index, num_hops, **kwargs):\n",
    "        r\"\"\"Returns the subgraph of the given node.\n",
    "\n",
    "        Args:\n",
    "            node_idx (int): The node to explain.\n",
    "            x (Tensor): The node feature matrix.\n",
    "            edge_index (LongTensor): The edge indices.\n",
    "            **kwargs (optional): Additional arguments passed to the GNN module.\n",
    "        :rtype: (Tensor, Tensor, LongTensor, LongTensor, LongTensor, dict)\n",
    "        \"\"\"\n",
    "        num_nodes, num_edges = x.size(0), edge_index.size(0)\n",
    "        subset, edge_index, mapping, edge_mask = k_hop_subgraph(\n",
    "            node_idx, num_hops, edge_index, relabel_nodes=True,\n",
    "            num_nodes=num_nodes, flow = 'source_to_target')\n",
    "        #print(subset)\n",
    "        x = x[subset]\n",
    "        kwargs_new = {}\n",
    "        for key, value in kwargs.items():\n",
    "            if torch.is_tensor(value) and value.size(0) == num_nodes:\n",
    "                kwargs_new[key] = value[subset]\n",
    "            elif torch.is_tensor(value) and value.size(0) == num_edges:\n",
    "                kwargs_new[key] = value[edge_mask]\n",
    "            kwargs_new[key] = value  # TODO: this is not in PGExplainer\n",
    "        return x, edge_index, mapping, edge_mask, subset, kwargs_new"
   ]
  },
  {
   "cell_type": "code",
   "execution_count": null,
   "metadata": {},
   "outputs": [],
   "source": [
    "def get_node_idx(id, nodes): \n",
    "    return nodes[nodes['id'] == id].index.values.astype(int)[0]"
   ]
  },
  {
   "cell_type": "code",
   "execution_count": null,
   "metadata": {},
   "outputs": [],
   "source": [
    "from torch_geometric.data import Data\n",
    "from torch_geometric.utils import get_num_hops, k_hop_subgraph, to_networkx\n",
    "from inspect import signature\n",
    "\n",
    "def visualize_subgraph(node_idx, edge_index_full,\n",
    "                        edge_mask, nodes, y = None,\n",
    "                        threshold = None,\n",
    "                        edge_y = None,\n",
    "                        node_alpha = None, seed= 10,\n",
    "                       flow = 'source_to_target', \n",
    "                       num_hops = 1,node_label = 'preflabel',\n",
    "                       edge_labels = None,\n",
    "                       show_inactive = False,\n",
    "                       remove_unconnected = False,\n",
    "                       \n",
    "                        **kwargs):\n",
    "    r\"\"\"Visualizes the subgraph given an edge mask :attr:`edge_mask`.\n",
    "\n",
    "    Args:\n",
    "        node_idx (int): The node id to explain.\n",
    "            Set to :obj:`None` to explain a graph.\n",
    "        edge_index (LongTensor): The edge indices.\n",
    "        edge_mask (Tensor): The edge mask.\n",
    "        y (Tensor, optional): The ground-truth node-prediction labels used\n",
    "            as node colorings. All nodes will have the same color\n",
    "            if :attr:`node_idx` is :obj:`-1`.(default: :obj:`None`).\n",
    "        threshold (float, optional): Sets a threshold for visualizing\n",
    "            important edges. If set to :obj:`None`, will visualize all\n",
    "            edges with transparancy indicating the importance of edges.\n",
    "            (default: :obj:`None`)\n",
    "        edge_y (Tensor, optional): The edge labels used as edge colorings.\n",
    "        node_alpha (Tensor, optional): Tensor of floats (0 - 1) indicating\n",
    "            transparency of each node.\n",
    "        seed (int, optional): Random seed of the :obj:`networkx` node\n",
    "            placement algorithm. (default: :obj:`10`)\n",
    "        **kwargs (optional): Additional arguments passed to\n",
    "            :func:`nx.draw`.\n",
    "\n",
    "    :rtype: :class:`matplotlib.axes.Axes`, :class:`networkx.DiGraph`\n",
    "    \"\"\"\n",
    "    import matplotlib.pyplot as plt\n",
    "    import networkx as nx\n",
    "\n",
    "    assert edge_mask.size(0) == edge_index_full.size(1)\n",
    "\n",
    "    if node_idx is None or node_idx[0] < 0:\n",
    "        hard_edge_mask = torch.BoolTensor([True] * edge_index_full.size(1),\n",
    "                                          device=edge_mask.device)\n",
    "        subset = torch.arange(edge_index_full.max().item() + 1,\n",
    "                              device=edge_index_full.device)\n",
    "        y = None\n",
    "\n",
    "    else:\n",
    "        # Only operate on a k-hop subgraph around `node_idx`.\n",
    "        subset, edge_index, mapping_sub, hard_edge_mask = k_hop_subgraph(\n",
    "            node_idx, num_hops, edge_index_full, relabel_nodes=True,\n",
    "            num_nodes=None, flow=flow)\n",
    "        \n",
    "\n",
    "    edge_mask = edge_mask[hard_edge_mask]\n",
    "    selected = (hard_edge_mask == True).nonzero(as_tuple=True)\n",
    "\n",
    "    if threshold is not None:\n",
    "        edge_mask = (edge_mask >= threshold).to(torch.float)\n",
    "\n",
    "    if y is None:\n",
    "        y = torch.zeros(edge_index.max().item() + 1,\n",
    "                        device=edge_index.device)\n",
    "    else:\n",
    "        #print(y[subset])\n",
    "        y = y[subset].to(torch.float) / y.max().item()\n",
    "        \n",
    "\n",
    "    if edge_y is None:\n",
    "        edge_color = ['black'] * edge_index.size(1)\n",
    "    else:\n",
    "        colors = list(plt.rcParams['axes.prop_cycle'])\n",
    "        edge_color = [\n",
    "            colors[i % len(colors)]['color']\n",
    "            for i in edge_y[hard_edge_mask]\n",
    "        ]\n",
    "\n",
    "\n",
    "    data = Data(edge_index=edge_index, att=edge_mask,\n",
    "                edge_color=edge_color, y=y, num_nodes=y.size(0)).to('cpu')\n",
    "    #print(data)\n",
    "    G = to_networkx(data, node_attrs=['y'],\n",
    "                    edge_attrs=['att', 'edge_color'])\n",
    "\n",
    "    #print(G.number_of_nodes())\n",
    "    #print(node_label)\n",
    "    \n",
    "    #print(mapping)\n",
    "\n",
    "    #print(len(torch.stack((edge_index[0], edge_index[1])).unique()))\n",
    "    #print(G.number_of_edges())\n",
    "    G2 = copy.deepcopy(G)\n",
    "    if num_hops >= 1 and not show_inactive: \n",
    "      for indx, edge in enumerate(G.edges): \n",
    "        if edge_mask[indx] <  limit:\n",
    "          G2.remove_edge(edge[0], edge[1])\n",
    "      removed_nodes = list(nx.isolates(G2))\n",
    "      G2.remove_nodes_from(removed_nodes)\n",
    "\n",
    "    \n",
    "    if remove_unconnected:\n",
    "        G2 = G2.to_undirected()\n",
    "        for component in list(nx.connected_components(G2)):\n",
    "            if mapping_sub[0].item() in component or mapping_sub[1].item() in component:\n",
    "                continue\n",
    "            else:\n",
    "                for node in component:\n",
    "                    G2.remove_node(node)\n",
    "                    \n",
    "\n",
    "    active = torch.tensor(list(G2.nodes()))\n",
    "\n",
    "    mapping = {k: str(nodes.iloc[i][node_label]) + ' ' + str(i) for k, i in enumerate(subset.tolist())}\n",
    "    mapping2 = {str(nodes.iloc[i][node_label]) + ' ' + str(i): i for k, i in enumerate(subset.tolist())}\n",
    "    G2 = nx.relabel_nodes(G2, mapping)\n",
    "\n",
    "    node_args = set(signature(nx.draw_networkx_nodes).parameters.keys())\n",
    "    node_kwargs = {k: v for k, v in kwargs.items() if k in node_args}\n",
    "    node_kwargs['node_size'] = kwargs.get('node_size') or 800\n",
    "    node_kwargs['cmap'] = kwargs.get('cmap') or 'cool'\n",
    "\n",
    "    label_args = set(signature(nx.draw_networkx_labels).parameters.keys())\n",
    "    label_kwargs = {k: v for k, v in kwargs.items() if k in label_args}\n",
    "    label_kwargs['font_size'] = kwargs.get('font_size') or 10\n",
    "\n",
    "    pos = nx.spring_layout(G2, seed=seed)\n",
    "    ax = plt.gca()\n",
    "    for source, target, data in G2.edges(data=True):\n",
    "        ax.annotate(\n",
    "            '', xy=pos[target], xycoords='data', xytext=pos[source],\n",
    "            textcoords='data', arrowprops=dict(\n",
    "                arrowstyle=\"->\",\n",
    "                alpha=max(data['att'], 0.1),\n",
    "                color=data['edge_color'],\n",
    "                shrinkA=sqrt(node_kwargs['node_size']) / 2.0,\n",
    "                shrinkB=sqrt(node_kwargs['node_size']) / 2.0,\n",
    "                connectionstyle=\"arc3,rad=0.1\",\n",
    "            ))\n",
    "\n",
    "    if node_alpha is None:\n",
    "        #print(active)\n",
    "        nx.draw_networkx_nodes(G2, pos, node_color=y[active].tolist(),\n",
    "                                **node_kwargs)\n",
    "    else:\n",
    "        node_alpha_subset = node_alpha[subset]\n",
    "        assert ((node_alpha_subset >= 0) & (node_alpha_subset <= 1)).all()\n",
    "        nx.draw_networkx_nodes(G2, pos, alpha=node_alpha_subset.tolist(),\n",
    "                                node_color=y.tolist(), **node_kwargs)\n",
    "\n",
    "    nx.draw_networkx_labels(G2, pos, **label_kwargs)\n",
    "\n",
    "    if edge_labels is not None: \n",
    "\n",
    "      edge_labels_sub = {}\n",
    "      for (n1,n2) in G2.edges(): \n",
    "        #print(n1)\n",
    "        edge_labels_sub[(n1, n2)] = edge_labels[(mapping2[n1], mapping2[n2])]\n",
    "      \n",
    "      nx.draw_networkx_edge_labels(\n",
    "      G2, pos,\n",
    "      edge_labels=edge_labels_sub,\n",
    "      font_color='red', \n",
    "      font_size = 10\n",
    "  )\n",
    "\n",
    "    return ax, G2"
   ]
  },
  {
   "cell_type": "markdown",
   "metadata": {},
   "source": [
    "Reload the graph, this time including edge labels that will make the explanations more understandable. "
   ]
  },
  {
   "cell_type": "code",
   "execution_count": 313,
   "metadata": {
    "id": "7BsWRlZP05Tv"
   },
   "outputs": [],
   "source": [
    "G = nx.Graph()\n",
    "for ind, node in e2v_embedding.iterrows(): \n",
    "  G.add_node(node['Node'], node_feature=torch.Tensor(node['Embedding']))\n",
    "for ind, edge in df.iterrows(): \n",
    "  G.add_edge(edge['index_head'], edge['index_tail'], edge_label = edge['relationship'])"
   ]
  },
  {
   "cell_type": "markdown",
   "metadata": {},
   "source": [
    "Obtain the predictions:"
   ]
  },
  {
   "cell_type": "code",
   "execution_count": 266,
   "metadata": {},
   "outputs": [
    {
     "data": {
      "text/html": [
       "<div>\n",
       "<style scoped>\n",
       "    .dataframe tbody tr th:only-of-type {\n",
       "        vertical-align: middle;\n",
       "    }\n",
       "\n",
       "    .dataframe tbody tr th {\n",
       "        vertical-align: top;\n",
       "    }\n",
       "\n",
       "    .dataframe thead th {\n",
       "        text-align: right;\n",
       "    }\n",
       "</style>\n",
       "<table border=\"1\" class=\"dataframe\">\n",
       "  <thead>\n",
       "    <tr style=\"text-align: right;\">\n",
       "      <th></th>\n",
       "      <th>id</th>\n",
       "      <th>semantic_groups</th>\n",
       "      <th>preflabel</th>\n",
       "      <th>semantic_id</th>\n",
       "      <th>Score</th>\n",
       "    </tr>\n",
       "  </thead>\n",
       "  <tbody>\n",
       "    <tr>\n",
       "      <th>10590</th>\n",
       "      <td>1576</td>\n",
       "      <td>DRUG</td>\n",
       "      <td>levosimendan</td>\n",
       "      <td>2</td>\n",
       "      <td>[0.8496061]</td>\n",
       "    </tr>\n",
       "    <tr>\n",
       "      <th>10548</th>\n",
       "      <td>926</td>\n",
       "      <td>DRUG</td>\n",
       "      <td>disopyramide</td>\n",
       "      <td>2</td>\n",
       "      <td>[0.84895223]</td>\n",
       "    </tr>\n",
       "    <tr>\n",
       "      <th>10777</th>\n",
       "      <td>5345</td>\n",
       "      <td>DRUG</td>\n",
       "      <td>entrectinib</td>\n",
       "      <td>2</td>\n",
       "      <td>[0.8456758]</td>\n",
       "    </tr>\n",
       "    <tr>\n",
       "      <th>10740</th>\n",
       "      <td>4225</td>\n",
       "      <td>DRUG</td>\n",
       "      <td>axitinib</td>\n",
       "      <td>2</td>\n",
       "      <td>[0.7899362]</td>\n",
       "    </tr>\n",
       "    <tr>\n",
       "      <th>10472</th>\n",
       "      <td>231</td>\n",
       "      <td>DRUG</td>\n",
       "      <td>aprindine</td>\n",
       "      <td>2</td>\n",
       "      <td>[0.78351635]</td>\n",
       "    </tr>\n",
       "  </tbody>\n",
       "</table>\n",
       "</div>"
      ],
      "text/plain": [
       "         id semantic_groups     preflabel  semantic_id         Score\n",
       "10590  1576            DRUG  levosimendan            2   [0.8496061]\n",
       "10548   926            DRUG  disopyramide            2  [0.84895223]\n",
       "10777  5345            DRUG   entrectinib            2   [0.8456758]\n",
       "10740  4225            DRUG      axitinib            2   [0.7899362]\n",
       "10472   231            DRUG     aprindine            2  [0.78351635]"
      ]
     },
     "execution_count": 266,
     "metadata": {},
     "output_type": "execute_result"
    }
   ],
   "source": [
    "predictions = candidates(nodes, 'HP:0003560', best_x)\n",
    "predictions[predictions['semantic_groups'] == 'DRUG'].sort_values(by = ['Score'], ascending = False).head(5)"
   ]
  },
  {
   "cell_type": "markdown",
   "metadata": {},
   "source": [
    "The next cell is the one that obtains the explanations. You must introduce the node IDs of the nodes you are interested in. If the ID of the node is an integer (i.e. 1809) you must introduce it as an integer (no ''). On the other hand, if it's a string (i.e. 'HP:0001644' or 'MESH:D008775') you must introduce it as a string (use ''). If you want to modify the size of the explanations, modify the 'size' parameter. If you want to modify the number of iterations, modify the iterations parameter. "
   ]
  },
  {
   "cell_type": "code",
   "execution_count": 271,
   "metadata": {
    "colab": {
     "base_uri": "https://localhost:8080/"
    },
    "id": "Ls2iPcFR74JB",
    "outputId": "52dc9793-0aec-44ba-814e-f7ea32466d33"
   },
   "outputs": [
    {
     "name": "stderr",
     "output_type": "stream",
     "text": [
      "Explain node 385: 100%|██████████████████████| 700/700 [00:06<00:00, 116.36it/s]\n"
     ]
    },
    {
     "name": "stdout",
     "output_type": "stream",
     "text": [
      "Explanation found!\n"
     ]
    }
   ],
   "source": [
    "node_idx = get_node_idx('HP:0003560', nodes)\n",
    "node_idx2 = get_node_idx(5345, nodes)\n",
    "x= torch.Tensor(e2v_embedding['Embedding'])\n",
    "edge_index = torch.Tensor(np.array(G.edges).transpose()).type(torch.int64)\n",
    "explainer = GNNExplainer(best_model, epochs=700, num_hops = 1, lr = 0.01)\n",
    "edge_list = []\n",
    "trigger = False\n",
    "early_stop = 0\n",
    "size = 15 #change size of the explanation\n",
    "iterations = 10 #number of times GNNExplainer will be executed\n",
    "while not trigger: \n",
    "  node_feat_mask, edge_mask = explainer.explain_link(node_idx, node_idx2, x, edge_index, G)\n",
    "  #edge_list.append(edge_mask)\n",
    "  G2 = copy.deepcopy(G)\n",
    "  if size is not None: \n",
    "    limit = edge_mask.sort(descending = True)[0][size]\n",
    "  else: \n",
    "    limit = 0.5\n",
    "  #print(limit)\n",
    "  for indx, edge in enumerate(G.edges): \n",
    "    if edge_mask[indx] <  limit:\n",
    "      G2.remove_edge(edge[0], edge[1])\n",
    "  #print(len(G2.edges))\n",
    "  trigger = nx.has_path(G2, node_idx,node_idx2)\n",
    "  early_stop += 1\n",
    "  if early_stop == iterations and not trigger:\n",
    "    print('No good explanation found after {} iterations'.format(early_stop))\n",
    "    trigger = True\n",
    "  elif trigger: \n",
    "    print('Explanation found!')"
   ]
  },
  {
   "cell_type": "markdown",
   "metadata": {},
   "source": [
    "Obtain a dictionary with all the edge-label keys:"
   ]
  },
  {
   "cell_type": "code",
   "execution_count": 212,
   "metadata": {
    "id": "rEjQPZOrbgBS"
   },
   "outputs": [],
   "source": [
    "edge_labels_dict = dict([((n1, n2), G.edges[(n1,n2)]['edge_label'])\n",
    "                    for n1, n2 in G.edges])"
   ]
  },
  {
   "cell_type": "markdown",
   "metadata": {},
   "source": [
    "Plot the explanation:"
   ]
  },
  {
   "cell_type": "code",
   "execution_count": 272,
   "metadata": {
    "colab": {
     "base_uri": "https://localhost:8080/",
     "height": 1000
    },
    "id": "9iqZs8xTz28J",
    "outputId": "00434a3c-fb17-40ed-839c-7619d1ca61c1"
   },
   "outputs": [
    {
     "data": {
      "image/png": "[encoded data removed]",
      "text/plain": [
       "<Figure size 720x720 with 1 Axes>"
      ]
     },
     "metadata": {},
     "output_type": "display_data"
    }
   ],
   "source": [
    "plt.figure(figsize=(10, 10))\n",
    "ax, G_sub = visualize_subgraph([node_idx, node_idx2], edge_index, edge_mask, nodes = nodes, y=torch.Tensor(nodes.semantic_id), seed = 667, num_hops = 1, threshold=limit, node_label = 'preflabel', edge_labels = edge_labels_dict, show_inactive = False, remove_unconnected = True)\n",
    "plt.show()"
   ]
  },
  {
   "cell_type": "markdown",
   "metadata": {},
   "source": [
    "### **Plots**"
   ]
  },
  {
   "cell_type": "markdown",
   "metadata": {},
   "source": [
    "In this section several different plots are provided. Firstly, two dimensionality reduction techniques were applied, PCA and tSNE, to visualize the final embeddings: "
   ]
  },
  {
   "cell_type": "code",
   "execution_count": null,
   "metadata": {},
   "outputs": [],
   "source": [
    "from sklearn.preprocessing import StandardScaler\n",
    "z = StandardScaler().fit_transform(best_x.detach().numpy())"
   ]
  },
  {
   "cell_type": "code",
   "execution_count": null,
   "metadata": {},
   "outputs": [],
   "source": [
    "from sklearn.decomposition import PCA\n",
    "\n",
    "pca = PCA(n_components=32)\n",
    "principalComponents = pca.fit_transform(z)\n",
    "principalDf = pd.DataFrame(data = principalComponents[:, [0,1]]\n",
    "             , columns = ['principal component 1', 'principal component 2'])"
   ]
  },
  {
   "cell_type": "code",
   "execution_count": null,
   "metadata": {},
   "outputs": [],
   "source": [
    "from sklearn.manifold import TSNE\n",
    "from sklearn.decomposition import PCA\n",
    "import matplotlib.pyplot as plt\n",
    "\n",
    "X_tsne = TSNE(learning_rate=100, perplexity=40).fit_transform(best_x.detach().numpy())"
   ]
  },
  {
   "cell_type": "code",
   "execution_count": null,
   "metadata": {},
   "outputs": [],
   "source": [
    "tsneDf = pd.DataFrame(data = X_tsne\n",
    "             , columns = ['t-SNE 1', 't-SNE 2'])"
   ]
  },
  {
   "cell_type": "code",
   "execution_count": null,
   "metadata": {},
   "outputs": [],
   "source": [
    "finaltsne = pd.concat([tsneDf, nodes[['semantic_groups']].reset_index()], axis = 1)\n",
    "finalDf = pd.concat([principalDf, nodes[['semantic_groups']].reset_index()], axis = 1)"
   ]
  },
  {
   "cell_type": "code",
   "execution_count": null,
   "metadata": {},
   "outputs": [],
   "source": [
    "import matplotlib.pyplot as plt\n",
    "\n",
    "fig = plt.figure(figsize = (8,8))\n",
    "ax = fig.add_subplot(1,1,1) \n",
    "ax.set_xlabel('Principal Component 1', fontsize = 15)\n",
    "ax.set_ylabel('Principal Component 2', fontsize = 15)\n",
    "ax.set_title('2 component PCA', fontsize = 20)\n",
    "targets =list(pd.unique(nodes['semantic_groups']))\n",
    "colors = ['r', 'g', 'b', 'y', 'c', 'm', 'k', 'orange']\n",
    "for target, color in zip(targets,colors):\n",
    "    indicesToKeep = finalDf['semantic_groups'] == target\n",
    "    ax.scatter(finalDf.loc[indicesToKeep, 'principal component 1']\n",
    "               , finalDf.loc[indicesToKeep, 'principal component 2']\n",
    "               , c = color\n",
    "               , s = 50)\n",
    "ax.legend(targets)\n",
    "ax.grid()"
   ]
  },
  {
   "cell_type": "code",
   "execution_count": null,
   "metadata": {},
   "outputs": [],
   "source": [
    "plt.plot(np.cumsum(pca.explained_variance_ratio_))\n",
    "plt.xlabel('Number of components')\n",
    "plt.ylabel('Cumulative explained variance')\n",
    "plt.show()"
   ]
  },
  {
   "cell_type": "code",
   "execution_count": null,
   "metadata": {},
   "outputs": [],
   "source": [
    "%matplotlib inline\n",
    "plt.close('all')"
   ]
  },
  {
   "cell_type": "code",
   "execution_count": null,
   "metadata": {},
   "outputs": [],
   "source": [
    "import matplotlib.pyplot as plt\n",
    "\n",
    "fig = plt.figure(figsize = (8,8))\n",
    "ax = fig.add_subplot(1,1,1) \n",
    "ax.set_xlabel('Principal Component 1', fontsize = 15)\n",
    "ax.set_ylabel('Principal Component 2', fontsize = 15)\n",
    "ax.set_title('2 component t-SNE', fontsize = 20)\n",
    "targets =list(pd.unique(nodes['semantic_groups']))\n",
    "colors = ['r', 'g', 'b', 'y', 'c', 'm', 'k', 'orange']\n",
    "for target, color in zip(targets,colors):\n",
    "    indicesToKeep = finaltsne['semantic_groups'] == target\n",
    "    ax.scatter(finaltsne.loc[indicesToKeep, 't-SNE 1']\n",
    "               , finaltsne.loc[indicesToKeep, 't-SNE 2']\n",
    "               , c = color\n",
    "               , s = 50)\n",
    "ax.legend(targets)\n",
    "ax.grid()"
   ]
  },
  {
   "cell_type": "markdown",
   "metadata": {},
   "source": [
    "Next, we can plot the degree histogram: "
   ]
  },
  {
   "cell_type": "code",
   "execution_count": 667,
   "metadata": {},
   "outputs": [],
   "source": [
    "def plot_degree_histogram(g, normalized=True):\n",
    "    print(\"Creating histogram...\")\n",
    "    aux_y = nx.degree_histogram(g)\n",
    "    \n",
    "    aux_x = np.arange(0,len(aux_y)).tolist()\n",
    "    \n",
    "    n_nodes = g.number_of_nodes()\n",
    "    \n",
    "    if normalized:\n",
    "        for i in range(len(aux_y)):\n",
    "            aux_y[i] = aux_y[i]/n_nodes\n",
    "    \n",
    "    return aux_x, aux_y"
   ]
  },
  {
   "cell_type": "code",
   "execution_count": 690,
   "metadata": {},
   "outputs": [
    {
     "data": {
      "text/plain": [
       "Text(0, 0.5, '(Log) Frequency')"
      ]
     },
     "execution_count": 690,
     "metadata": {},
     "output_type": "execute_result"
    },
    {
     "data": {
      "image/png": "[encoded data removed]",
      "text/plain": [
       "<Figure size 720x504 with 1 Axes>"
      ]
     },
     "metadata": {
      "needs_background": "light"
     },
     "output_type": "display_data"
    }
   ],
   "source": [
    "degree_freq = nx.degree_histogram(G)\n",
    "degrees = range(len(degree_freq))\n",
    "plt.figure(figsize=(10, 7)) \n",
    "plt.loglog(degrees[3:], degree_freq[3:]) \n",
    "plt.xlabel('(Log) Degree')\n",
    "plt.ylabel('(Log) Frequency')"
   ]
  },
  {
   "cell_type": "markdown",
   "metadata": {},
   "source": [
    "Finally, we can visualize the metagraph: "
   ]
  },
  {
   "cell_type": "code",
   "execution_count": 383,
   "metadata": {},
   "outputs": [],
   "source": [
    "metagraph = df[['class_head', 'class_tail', 'relationship']]"
   ]
  },
  {
   "cell_type": "code",
   "execution_count": 384,
   "metadata": {},
   "outputs": [],
   "source": [
    "metagraph = metagraph.drop_duplicates()"
   ]
  },
  {
   "cell_type": "code",
   "execution_count": 385,
   "metadata": {},
   "outputs": [],
   "source": [
    "G_meta = nx.MultiGraph()\n",
    "meta_dict = {}\n",
    "for ind, edge in metagraph.iterrows(): \n",
    "  G_meta.add_edge(edge['class_head'], edge['class_tail'], edge_label = edge['relationship'])\n",
    "  "
   ]
  },
  {
   "cell_type": "code",
   "execution_count": 386,
   "metadata": {},
   "outputs": [],
   "source": [
    "d = {'ORTH': 0, 'DISO': 1, 'GENE': 2, 'GENO': 3, 'VARI': 4, 'ANAT': 5, 'DRUG':6 , 'PHYS': 7}\n",
    "values = [d.get(node, 0.25) for node in G_meta.nodes()]"
   ]
  },
  {
   "cell_type": "code",
   "execution_count": 387,
   "metadata": {},
   "outputs": [
    {
     "data": {
      "image/png": "[encoded data removed]",
      "text/plain": [
       "<Figure size 504x504 with 1 Axes>"
      ]
     },
     "metadata": {},
     "output_type": "display_data"
    }
   ],
   "source": [
    "plt.figure(figsize = (7,7))\n",
    "nx.draw(G_meta, cmap=plt.get_cmap('viridis'), node_color=values, with_labels=True, font_color='white', node_size = 1500)"
   ]
  },
  {
   "cell_type": "code",
   "execution_count": null,
   "metadata": {},
   "outputs": [],
   "source": []
  }
 ],
 "metadata": {
  "colab": {
   "collapsed_sections": [
    "rb4aSr3v7J-0"
   ],
   "name": "DGL.ipynb",
   "provenance": [],
   "toc_visible": true
  },
  "kernelspec": {
   "display_name": "Python 3",
   "language": "python",
   "name": "python3"
  },
  "language_info": {
   "codemirror_mode": {
    "name": "ipython",
    "version": 3
   },
   "file_extension": ".py",
   "mimetype": "text/x-python",
   "name": "python",
   "nbconvert_exporter": "python",
   "pygments_lexer": "ipython3",
   "version": "3.7.3"
  }
 },
 "nbformat": 4,
 "nbformat_minor": 1
}
