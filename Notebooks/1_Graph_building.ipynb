{
 "cells": [
  {
   "cell_type": "markdown",
   "id": "d9f0c748",
   "metadata": {},
   "source": [
    "# DMD Drug Repurposing"
   ]
  },
  {
   "cell_type": "markdown",
   "id": "43b44cf5",
   "metadata": {},
   "source": [
    "### Intereseting Identifiers: \n",
    "\n",
    "    'MONDO:0010679', #Duchenne Muscular Distrophy\n",
    "    'MONDO:0010311', #Becker Muscular Distrophy\n",
    "    'MONDO:0010542', #Dilated Cardiomiopathy 3B\n",
    "    'MONDO:0016097', #Asymtomatic Female Carrier\n",
    "    'HGNC:2928', #DMD human gene\n",
    "    'MGI:94909' #DMD mouse gene\n"
   ]
  },
  {
   "cell_type": "markdown",
   "id": "ce6e9e16",
   "metadata": {},
   "source": [
    "## Import"
   ]
  },
  {
   "cell_type": "code",
   "execution_count": 1,
   "id": "9a993226",
   "metadata": {},
   "outputs": [],
   "source": [
    "import sys\n",
    "sys.path.insert(1, '../Libraries')"
   ]
  },
  {
   "cell_type": "code",
   "execution_count": 2,
   "id": "9ed21edd",
   "metadata": {},
   "outputs": [],
   "source": [
    "import monarch"
   ]
  },
  {
   "cell_type": "markdown",
   "id": "0a77baf0",
   "metadata": {},
   "source": [
    "## Monarch\n",
    "\n"
   ]
  },
  {
   "cell_type": "markdown",
   "id": "77d8f15f",
   "metadata": {},
   "source": [
    "Include in the seed list the IDs that you are interested in, then run the cell. The output will be two .csv files containing the node and edge information. "
   ]
  },
  {
   "cell_type": "code",
   "execution_count": null,
   "id": "b01aaea2",
   "metadata": {
    "scrolled": true
   },
   "outputs": [
    {
     "name": "stdout",
     "output_type": "stream",
     "text": [
      "\n",
      "The function \"get_neighbours_list()\" is running. Its runtime may take some minutes. If you interrupt the process, you will lose all the nodes retrieved and you should start over the execution of this function.\n"
     ]
    },
    {
     "name": "stderr",
     "output_type": "stream",
     "text": [
      "100%|████████████████████████████████████████████████████████████████████████████████████| 2/2 [00:29<00:00, 14.99s/it]\n"
     ]
    },
    {
     "name": "stdout",
     "output_type": "stream",
     "text": [
      "\n",
      "Finished get_neighbours_list().\n",
      "\n",
      "1766\n",
      "\n",
      "The function \"get_orthopheno_list()\" is running. Its runtime may take some hours. If you interrupt the process, you will lose all the nodes retrieved and you should start over the execution of this function.\n"
     ]
    },
    {
     "name": "stderr",
     "output_type": "stream",
     "text": [
      " 50%|██████████████████████████████████████████                                          | 1/2 [00:06<00:06,  6.26s/it]"
     ]
    },
    {
     "name": "stdout",
     "output_type": "stream",
     "text": [
      "error: <class 'KeyboardInterrupt'>\n",
      "HGNC:2928\n"
     ]
    },
    {
     "name": "stderr",
     "output_type": "stream",
     "text": [
      "100%|████████████████████████████████████████████████████████████████████████████████████| 2/2 [00:13<00:00,  6.92s/it]\n"
     ]
    },
    {
     "name": "stdout",
     "output_type": "stream",
     "text": [
      "error: <class 'KeyboardInterrupt'>\n",
      "MONDO:0010679\n"
     ]
    },
    {
     "name": "stderr",
     "output_type": "stream",
     "text": [
      "0it [00:00, ?it/s]\n"
     ]
    },
    {
     "name": "stdout",
     "output_type": "stream",
     "text": [
      "\n",
      "Finished get_orthopheno_list().\n",
      "\n",
      "0\n",
      "\n",
      "The function \"get_orthopheno_list()\" is running. Its runtime may take some hours. If you interrupt the process, you will lose all the nodes retrieved and you should start over the execution of this function.\n"
     ]
    },
    {
     "name": "stderr",
     "output_type": "stream",
     "text": [
      "  5%|███▋                                                                            | 81/1766 [02:35<26:16,  1.07it/s]"
     ]
    },
    {
     "name": "stdout",
     "output_type": "stream",
     "text": [
      "error: <class 'KeyboardInterrupt'>\n",
      "ClinVarVariant:595152\n",
      "error: <class 'KeyboardInterrupt'>\n",
      "ClinVarVariant:526159\n"
     ]
    },
    {
     "name": "stderr",
     "output_type": "stream",
     "text": [
      "\r",
      "  5%|███▋                                                                            | 82/1766 [02:35<21:12,  1.32it/s]"
     ]
    },
    {
     "name": "stdout",
     "output_type": "stream",
     "text": [
      "error: <class 'KeyboardInterrupt'>\n",
      "HP:0003701\n"
     ]
    },
    {
     "name": "stderr",
     "output_type": "stream",
     "text": [
      "\r",
      "  5%|███▊                                                                            | 83/1766 [02:36<17:34,  1.60it/s]"
     ]
    },
    {
     "name": "stdout",
     "output_type": "stream",
     "text": [
      "error: <class 'KeyboardInterrupt'>\n",
      "ClinVarVariant:803845\n"
     ]
    },
    {
     "name": "stderr",
     "output_type": "stream",
     "text": [
      "\r",
      "  5%|███▊                                                                            | 84/1766 [02:36<17:54,  1.56it/s]"
     ]
    },
    {
     "name": "stdout",
     "output_type": "stream",
     "text": [
      "error: <class 'KeyboardInterrupt'>\n",
      "ClinVarVariant:526083\n"
     ]
    },
    {
     "name": "stderr",
     "output_type": "stream",
     "text": [
      "  5%|███▉                                                                            | 88/1766 [02:40<21:57,  1.27it/s]"
     ]
    },
    {
     "name": "stdout",
     "output_type": "stream",
     "text": [
      "error: <class 'KeyboardInterrupt'>\n",
      "ClinVarVariant:11252\n"
     ]
    },
    {
     "name": "stderr",
     "output_type": "stream",
     "text": [
      "\r",
      "  5%|███▉                                                                          | 89/1766 [02:46<1:04:17,  2.30s/it]"
     ]
    }
   ],
   "source": [
    "%%time\n",
    "# prepare data to graph schema\n",
    "# seed nodes\n",
    "\n",
    "seedList = [ \n",
    "    'MONDO:0010679', #Duchenne Muscular Distrophy\n",
    "#     'MONDO:0010311', #Becker Muscular Distrophy\n",
    "#     'MONDO:0010542', #Dilated Cardiomiopathy 3B\n",
    "#     'MONDO:0016097', #Asymtomatic Female Carrier\n",
    "    'HGNC:2928', #DMD human gene\n",
    "#     'MGI:94909' #DMD mouse gene\n",
    "] \n",
    "\n",
    "# get first shell of neighbours\n",
    "neighboursList = monarch.get_neighbours_list(seedList)\n",
    "print(len(neighboursList))\n",
    "\n",
    "# introduce animal model ortho-phenotypes for seed and 1st shell neighbors\n",
    "## For seed nodes:\n",
    "seed_orthophenoList = monarch.get_orthopheno_list(seedList)\n",
    "print(len(seed_orthophenoList))\n",
    "## For 1st shell nodes:\n",
    "neighbours_orthophenoList = monarch.get_orthopheno_list(neighboursList)\n",
    "print(len(neighbours_orthophenoList))\n",
    "\n",
    "# network nodes: seed + 1shell + ortholog-phentoype\n",
    "geneList = sum([seedList,\n",
    "                neighboursList,\n",
    "                seed_orthophenoList,\n",
    "                neighbours_orthophenoList], \n",
    "               [])\n",
    "print('genelist: ',len(geneList))\n",
    "\n",
    "# get Monarch network\n",
    "monarch_network = monarch.extract_edges(geneList)\n",
    "print('network: ',len(monarch_network))\n",
    "\n",
    "# save edges\n",
    "monarch.print_network(monarch_network, 'monarch_connections')\n",
    "\n",
    "# build network with graph schema \n",
    "monarch_edges = monarch.build_edges(monarch_network)\n",
    "monarch_nodes = monarch.build_nodes(monarch_network)"
   ]
  },
  {
   "cell_type": "markdown",
   "id": "105d6c37",
   "metadata": {},
   "source": []
  }
 ],
 "metadata": {
  "kernelspec": {
   "display_name": "Python 3 (ipykernel)",
   "language": "python",
   "name": "python3"
  },
  "language_info": {
   "codemirror_mode": {
    "name": "ipython",
    "version": 3
   },
   "file_extension": ".py",
   "mimetype": "text/x-python",
   "name": "python",
   "nbconvert_exporter": "python",
   "pygments_lexer": "ipython3",
   "version": "3.11.2"
  }
 },
 "nbformat": 4,
 "nbformat_minor": 5
}
