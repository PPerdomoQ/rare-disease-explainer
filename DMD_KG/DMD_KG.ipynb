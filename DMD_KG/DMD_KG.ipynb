{
 "cells": [
  {
   "cell_type": "markdown",
   "id": "d9f0c748",
   "metadata": {},
   "source": [
    "# DMD Drug Repurposing"
   ]
  },
  {
   "cell_type": "markdown",
   "id": "43b44cf5",
   "metadata": {},
   "source": [
    "### Intereseting Identifiers: \n",
    "\n",
    "    'MONDO:0010679', #Duchenne Muscular Distrophy\n",
    "    'MONDO:0010311', #Becker Muscular Distrophy\n",
    "    'MONDO:0010542', #Dilated Cardiomiopathy 3B\n",
    "    'MONDO:0016097', #Asymtomatic Female Carrier\n",
    "    'HGNC:2928', #DMD human gene\n",
    "    'MGI:94909' #DMD mouse gene\n"
   ]
  },
  {
   "cell_type": "markdown",
   "id": "ce6e9e16",
   "metadata": {},
   "source": [
    "## Import"
   ]
  },
  {
   "cell_type": "code",
   "execution_count": 2,
   "id": "9ed21edd",
   "metadata": {},
   "outputs": [],
   "source": [
    "import monarch"
   ]
  },
  {
   "cell_type": "markdown",
   "id": "0a77baf0",
   "metadata": {},
   "source": [
    "## Monarch\n",
    "\n"
   ]
  },
  {
   "cell_type": "markdown",
   "id": "77d8f15f",
   "metadata": {},
   "source": [
    "Include in the seed list the IDs that you are interested in, then run the cell. The output will be two .csv files containing the node and edge information. "
   ]
  },
  {
   "cell_type": "code",
   "execution_count": 3,
   "id": "b01aaea2",
   "metadata": {},
   "outputs": [
    {
     "name": "stderr",
     "output_type": "stream",
     "text": [
      "\r",
      "  0%|                                                     | 0/2 [00:00<?, ?it/s]"
     ]
    },
    {
     "name": "stdout",
     "output_type": "stream",
     "text": [
      "\n",
      "The function \"get_neighbours_list()\" is running. Its runtime may take some minutes. If you interrupt the process, you will lose all the nodes retrieved and you should start over the execution of this function.\n"
     ]
    },
    {
     "name": "stderr",
     "output_type": "stream",
     "text": [
      "100%|█████████████████████████████████████████████| 2/2 [00:17<00:00,  8.72s/it]\n",
      "  0%|                                                     | 0/2 [00:00<?, ?it/s]"
     ]
    },
    {
     "name": "stdout",
     "output_type": "stream",
     "text": [
      "\n",
      "Finished get_neighbours_list().\n",
      "\n",
      "1759\n",
      "\n",
      "The function \"get_orthopheno_list()\" is running. Its runtime may take some hours. If you interrupt the process, you will lose all the nodes retrieved and you should start over the execution of this function.\n"
     ]
    },
    {
     "name": "stderr",
     "output_type": "stream",
     "text": [
      "100%|█████████████████████████████████████████████| 2/2 [00:18<00:00,  9.05s/it]\n",
      "100%|███████████████████████████████████████████| 13/13 [00:39<00:00,  2.57s/it]\n",
      "  0%|                                                  | 0/1759 [00:00<?, ?it/s]"
     ]
    },
    {
     "name": "stdout",
     "output_type": "stream",
     "text": [
      "\n",
      "Finished get_orthopheno_list().\n",
      "\n",
      "272\n",
      "\n",
      "The function \"get_orthopheno_list()\" is running. Its runtime may take some hours. If you interrupt the process, you will lose all the nodes retrieved and you should start over the execution of this function.\n"
     ]
    },
    {
     "name": "stderr",
     "output_type": "stream",
     "text": [
      "100%|█████████████████████████████████████| 1759/1759 [1:02:55<00:00,  1.51s/it]\n",
      "100%|█████████████████████████████████████| 3309/3309 [2:16:48<00:00,  2.74s/it]\n",
      "  0%|                                                 | 0/10458 [00:00<?, ?it/s]"
     ]
    },
    {
     "name": "stdout",
     "output_type": "stream",
     "text": [
      "\n",
      "Finished get_orthopheno_list().\n",
      "\n",
      "8694\n",
      "genelist:  10727\n",
      "\n",
      "The function \"extract_edges()\" is running. Its runtime may take some hours. If you interrupt the process, you will lose all the edges retrieved and you should start over the execution of this function.\n"
     ]
    },
    {
     "name": "stderr",
     "output_type": "stream",
     "text": [
      "100%|███████████████████████████████████| 10458/10458 [9:30:27<00:00,  2.94s/it]\n"
     ]
    },
    {
     "name": "stdout",
     "output_type": "stream",
     "text": [
      "\n",
      "Finished extract_edges(). To save the retrieved Monarch edges use the function \"print_network()\".\n",
      "\n",
      "network:  93310\n",
      "\n",
      "Saving Monarch edges at: '/home/s2959607/homedir/bioknowledge-reviewer/bioknowledge_reviewer/monarch/monarch_connections_v2021-12-02.csv'...\n",
      "\n",
      "\n",
      "The function \"build_edges()\" is running...\n",
      "Warning:\n",
      "Detected a new reference source in Monarch not yet implemented in this module. The new source should be added to the dictionary of sources.Otherwise, the source CURIE cannot be translated to the corresponding URI.\n",
      "In the build_edges() method, update 'uriPrefixes_dct' dictionary with 'NCBIBSgene'\n",
      "The edge that includes this new reference source is Pandas(Index=10945, object_id='HP:0002885', object_label='Medulloblastoma', reference_id_list='PMID:8929955|PMID:20223039|PMID:20685668|PMID:9101302|PMID:17411426|PMID:12173026|PMID:17026565|PMID:15300853|PMID:9585611|PMID:23159591|PMID:24664542|PMID:11852337|PMID:9890479|PMID:8162022|PMID:25980754|PMID:28533537|PMID:12007223|MONDO:0021055|PMID:1316610|PMID:25590978|PMID:1338764|PMID:16134147|PMID:26138249|PMID:18433509|PMID:21110124|PMID:12901799|PMID:11247896|PMID:10094547|PMID:11247895|PMID:21970370|PMID:15833136|PMID:17785554|PMID:16317745|PMID:7906810|PMID:26511139|PMID:10768871|PMID:16292097|PMID:10646887|MONDO:0019336|PMID:10213492|PMID:20301519|PMID:18794146|PMID:20924072|PMID:19029688|PMID:16461775|PMID:12034871|PMID:9487968|PMID:11317365|PMID:26446593|PMID:8162051|PMID:26613750|MONDO:0016613|PMID:14633595|PMID:24735542|PMID:17293347|PMID:8395941|PMID:9824584|PMID:20649969|PMID:27158207|PMID:15951963|PMID:15300576|PMID:15108286|PMID:9452101|MONDO:0020497|PMID:19793053|PMID:9342373|PMID:17963004|PMID:1651563|PMID:25525159|PMID:26681312|PMID:9664575|PMID:20434453|PMID:14523376|PMID:15459959|PMID:25317407|PMID:8940264|PMID:27081525|PMID:8187091|PMID:23460355|PMID:8381579|PMID:14522379|PMID:8956059|PMID:1324223|PMID:22135120|PMID:15311282|PMID:15024739|PMID:23561487|PMID:8381580|PMID:8381581|PMID:15857185|PMID:24440087|PMID:14729851|PMID:24841357|PMID:10713886|PMID:15771908|PMID:10090483|PMID:24599579|PMID:27087319|PMID:7746201|PMID:12172928|PMID:19444466|PMID:12486240|PMID:16088911|NCBIBSgene:fap|PMID:10083733|PMID:21779980|PMID:8281160', relation_id='RO:0002200', relation_label='has phenotype', subject_id='HGNC:583', subject_label='APC')\n",
      "The method will continue to run without problem, writing the CURIE instead of the URI,until the dictionary is updated.\n",
      "Warning:\n",
      "Detected a new reference source in Monarch not yet implemented in this module. The new source should be added to the dictionary of sources.Otherwise, the source CURIE cannot be translated to the corresponding URI.\n",
      "In the build_edges() method, update 'uriPrefixes_dct' dictionary with 'NCBIBSgene'\n",
      "The edge that includes this new reference source is Pandas(Index=75647, object_id='HP:0100245', object_label='Desmoid tumors', reference_id_list='PMID:8929955|PMID:20223039|PMID:20685668|PMID:9101302|PMID:17411426|PMID:12173026|PMID:17026565|PMID:15300853|PMID:9585611|PMID:23159591|PMID:24664542|PMID:11852337|PMID:9890479|PMID:8162022|PMID:25980754|PMID:28533537|PMID:12007223|MONDO:0021055|PMID:1316610|PMID:25590978|PMID:1338764|PMID:16134147|PMID:26138249|PMID:18433509|PMID:21110124|PMID:12901799|PMID:11247896|PMID:10094547|PMID:11247895|PMID:21970370|PMID:15833136|PMID:17785554|PMID:16317745|PMID:7906810|PMID:26511139|PMID:10768871|PMID:16292097|PMID:10646887|MONDO:0019336|PMID:10213492|PMID:20301519|PMID:18794146|PMID:20924072|PMID:19029688|PMID:16461775|PMID:12034871|PMID:9487968|PMID:11317365|PMID:26446593|PMID:8162051|PMID:26613750|MONDO:0016613|PMID:14633595|PMID:24735542|PMID:17293347|MONDO:0007608|PMID:8395941|PMID:9824584|PMID:20649969|PMID:27158207|PMID:15951963|PMID:15300576|PMID:15108286|PMID:9452101|MONDO:0020497|PMID:19793053|PMID:9342373|PMID:17963004|PMID:1651563|PMID:25525159|PMID:26681312|PMID:9664575|PMID:20434453|PMID:14523376|PMID:15459959|PMID:25317407|PMID:8940264|PMID:27081525|PMID:8187091|PMID:23460355|PMID:8381579|PMID:14522379|PMID:8956059|PMID:1324223|PMID:22135120|PMID:15311282|PMID:15024739|PMID:23561487|PMID:8381580|PMID:8381581|PMID:15857185|PMID:14729851|PMID:24841357|PMID:10713886|PMID:15771908|PMID:10090483|PMID:24599579|PMID:27087319|PMID:7746201|PMID:12172928|PMID:19444466|PMID:12486240|PMID:16088911|NCBIBSgene:fap|PMID:10083733|PMID:21779980|PMID:8281160', relation_id='RO:0002200', relation_label='has phenotype', subject_id='HGNC:583', subject_label='APC')\n",
      "The method will continue to run without problem, writing the CURIE instead of the URI,until the dictionary is updated.\n",
      "Warning:\n",
      "Detected a new reference source in Monarch not yet implemented in this module. The new source should be added to the dictionary of sources.Otherwise, the source CURIE cannot be translated to the corresponding URI.\n",
      "In the build_edges() method, update 'uriPrefixes_dct' dictionary with 'NCBIBSgene'\n",
      "The edge that includes this new reference source is Pandas(Index=85603, object_id='HP:0000164', object_label='Abnormality of the dentition', reference_id_list='PMID:8929955|PMID:20223039|PMID:20685668|PMID:9101302|PMID:17411426|PMID:12173026|PMID:17026565|PMID:15300853|PMID:9585611|PMID:23159591|PMID:24664542|PMID:11852337|PMID:9890479|PMID:8162022|PMID:25980754|PMID:28533537|PMID:12007223|MONDO:0021055|PMID:1316610|PMID:25590978|PMID:1338764|PMID:16134147|PMID:26138249|PMID:18433509|PMID:21110124|PMID:12901799|PMID:11247896|PMID:10094547|PMID:11247895|PMID:21970370|PMID:15833136|PMID:17785554|PMID:16317745|PMID:7906810|PMID:26511139|PMID:10768871|PMID:16292097|PMID:10646887|MONDO:0019336|PMID:10213492|PMID:20301519|PMID:18794146|PMID:20924072|PMID:19029688|PMID:16461775|PMID:12034871|PMID:9487968|PMID:11317365|PMID:26446593|PMID:8162051|PMID:26613750|PMID:14633595|PMID:24735542|PMID:17293347|PMID:8395941|PMID:9824584|PMID:20649969|PMID:27158207|PMID:15951963|PMID:15300576|PMID:15108286|PMID:9452101|PMID:19793053|PMID:9342373|PMID:17963004|PMID:1651563|PMID:25525159|PMID:26681312|PMID:9664575|PMID:20434453|PMID:14523376|PMID:15459959|PMID:25317407|PMID:8940264|PMID:27081525|PMID:8187091|PMID:23460355|PMID:8381579|PMID:14522379|PMID:8956059|PMID:1324223|PMID:22135120|PMID:15311282|PMID:15024739|PMID:23561487|PMID:8381580|PMID:8381581|PMID:15857185|PMID:14729851|PMID:24841357|PMID:10713886|PMID:15771908|PMID:10090483|PMID:24599579|PMID:27087319|PMID:7746201|PMID:12172928|PMID:19444466|PMID:12486240|PMID:16088911|NCBIBSgene:fap|PMID:10083733|PMID:21779980|PMID:8281160', relation_id='RO:0002200', relation_label='has phenotype', subject_id='HGNC:583', subject_label='APC')\n",
      "The method will continue to run without problem, writing the CURIE instead of the URI,until the dictionary is updated.\n",
      "df (93310, 9)\n",
      "\n",
      "* This is the size of the edges file data structure: (93310, 9)\n",
      "* These are the edges attributes: Index(['object_id', 'property_description', 'property_id', 'property_label',\n",
      "       'property_uri', 'reference_date', 'reference_supporting_text',\n",
      "       'reference_uri', 'subject_id'],\n",
      "      dtype='object')\n",
      "* This is the first record:\n",
      "                    object_id property_description    property_id  \\\n",
      "0  ENSEMBL:ENSMODG00000017909                   NA  RO:HOM0000020   \n",
      "\n",
      "                          property_label  \\\n",
      "0  in 1 to 1 orthology relationship with   \n",
      "\n",
      "                                   property_uri reference_date  \\\n",
      "0  http://purl.obolibrary.org/obo/RO_HOM0000020             NA   \n",
      "\n",
      "                           reference_supporting_text reference_uri  \\\n",
      "0  This edge comes from the Monarch Knowledge Gra...            NA   \n",
      "\n",
      "                   subject_id  \n",
      "0  ENSEMBL:ENSGALG00000009050  \n",
      "\n",
      "The Monarch network edges are built and saved at: /home/s2959607/homedir/bioknowledge-reviewer/bioknowledge_reviewer/monarch/monarch_edges_v2021-12-02.csv\n",
      "\n",
      "\n",
      "Finished build_edges().\n",
      "\n",
      "\n",
      "The function \"build_nodes()\" is running...\n",
      "Number of concepts: 10458\n",
      "Number of nodes CURIEs: 35\n",
      "List of nodes CURIEs: dict_keys(['ENSEMBL', 'MGI', 'FlyBase', 'HGNC', 'WormBase', 'RGD', 'ZFIN', 'Xenbase', 'PomBase', 'HP', 'MP', 'UBERON', 'dictyBase', 'WBPhenotype', 'SGD', 'ClinVarVariant', 'FBcv', 'GO', 'ZP', 'EnsemblGenome', 'NCBIGene', 'MONARCH', 'MONDO', 'OMIM', 'REACT', 'OMIA-breed', 'APO', 'dbSNP', 'Coriell', 'EFO', 'OMIA', 'MESH', 'dbSNPIndividual', 'MMRRC', 'XPO'])\n"
     ]
    },
    {
     "name": "stdout",
     "output_type": "stream",
     "text": [
      "\n",
      "Adding BioThings annotation: gene name, synonyms, description...\n",
      "symbols: 3424\n",
      "querying 1-1000...done.\n",
      "querying 1001-2000...done.\n",
      "querying 2001-3000...done.\n",
      "querying 3001-3424...done.\n",
      "Finished.\n",
      "454 input query terms found dup hits:\n",
      "\t[('Pak3', 2), ('Cdc42', 3), ('Rnf11', 2), ('GIT2', 3), ('CHRNA1', 3), ('Dtna', 2), ('dtna', 2), ('VC\n",
      "1744 input query terms found no hit:\n",
      "\t['ENSEMBL:ENSGALG00000009050', 'ENSEMBL:ENSMODG00000017909', 'ENSEMBL:ENSACAG00000007410', 'ENSEMBL:\n",
      "Pass \"returnall=True\" to return complete lists of duplicate or missing query terms.\n",
      "\n",
      "* This is the size of the nodes file data structure: (10458, 6)\n",
      "* These are the nodes attributes: Index(['description', 'id', 'name', 'preflabel', 'semantic_groups',\n",
      "       'synonyms'],\n",
      "      dtype='object')\n",
      "* This is the first record:\n",
      "  description                          id name                   preflabel  \\\n",
      "0          NA  ENSEMBL:ENSGALG00000009050  NaN  ENSEMBL:ENSGALG00000009050   \n",
      "\n",
      "  semantic_groups synonyms  \n",
      "0            GENE       NA  \n",
      "\n",
      "The Monarch network nodes are built and saved at: /home/s2959607/homedir/bioknowledge-reviewer/bioknowledge_reviewer/monarch/monarch_nodes_v2021-12-02.csv\n",
      "\n",
      "\n",
      "Finished build_nodes().\n",
      "\n",
      "CPU times: user 36min 1s, sys: 3min 22s, total: 39min 24s\n",
      "Wall time: 12h 51min 43s\n"
     ]
    }
   ],
   "source": [
    "%%time\n",
    "# prepare data to graph schema\n",
    "# seed nodes\n",
    "\n",
    "seedList = [ \n",
    "    'MONDO:0010679', #Duchenne Muscular Distrophy\n",
    "#     'MONDO:0010311', #Becker Muscular Distrophy\n",
    "#     'MONDO:0010542', #Dilated Cardiomiopathy 3B\n",
    "#     'MONDO:0016097', #Asymtomatic Female Carrier\n",
    "    'HGNC:2928', #DMD human gene\n",
    "#     'MGI:94909' #DMD mouse gene\n",
    "] \n",
    "\n",
    "# get first shell of neighbours\n",
    "neighboursList = monarch.get_neighbours_list(seedList)\n",
    "print(len(neighboursList))\n",
    "\n",
    "# introduce animal model ortho-phenotypes for seed and 1st shell neighbors\n",
    "## For seed nodes:\n",
    "seed_orthophenoList = monarch.get_orthopheno_list(seedList)\n",
    "print(len(seed_orthophenoList))\n",
    "## For 1st shell nodes:\n",
    "neighbours_orthophenoList = monarch.get_orthopheno_list(neighboursList)\n",
    "print(len(neighbours_orthophenoList))\n",
    "\n",
    "# network nodes: seed + 1shell + ortholog-phentoype\n",
    "geneList = sum([seedList,\n",
    "                neighboursList,\n",
    "                seed_orthophenoList,\n",
    "                neighbours_orthophenoList], \n",
    "               [])\n",
    "print('genelist: ',len(geneList))\n",
    "\n",
    "# get Monarch network\n",
    "monarch_network = monarch.extract_edges(geneList)\n",
    "print('network: ',len(monarch_network))\n",
    "\n",
    "# save edges\n",
    "monarch.print_network(monarch_network, 'monarch_connections')\n",
    "\n",
    "# build network with graph schema \n",
    "monarch_edges = monarch.build_edges(monarch_network)\n",
    "monarch_nodes = monarch.build_nodes(monarch_network)"
   ]
  },
  {
   "cell_type": "markdown",
   "id": "105d6c37",
   "metadata": {},
   "source": []
  }
 ],
 "metadata": {
  "kernelspec": {
   "display_name": "Python 3",
   "language": "python",
   "name": "python3"
  },
  "language_info": {
   "codemirror_mode": {
    "name": "ipython",
    "version": 3
   },
   "file_extension": ".py",
   "mimetype": "text/x-python",
   "name": "python",
   "nbconvert_exporter": "python",
   "pygments_lexer": "ipython3",
   "version": "3.7.3"
  }
 },
 "nbformat": 4,
 "nbformat_minor": 5
}
